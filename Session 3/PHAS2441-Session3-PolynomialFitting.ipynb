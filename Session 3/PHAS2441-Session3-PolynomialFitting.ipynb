{
 "cells": [
  {
   "cell_type": "markdown",
   "metadata": {},
   "source": [
    "# Session 3: Fitting polynomials"
   ]
  },
  {
   "cell_type": "markdown",
   "metadata": {},
   "source": [
    "<div class=\"alert alert-success\"> <p>*  **Intended learning outcomes:** * </p>\n",
    "By the end of this session, you should be able to:\n",
    "<ul>\n",
    "<li> Use Python to fit a set of data to a polynomial; </li>\n",
    "<li> To evaluate the goodness of fit using the matrix of covariance and Chi^2</li>\n",
    "<li> Fit the residuals to a Gaussian. </li>\n",
    "</div>"
   ]
  },
  {
   "cell_type": "markdown",
   "metadata": {},
   "source": [
    "## Why fit to a polynomial?\n",
    "\n",
    "In physics we often meet an experimental relation between variables which is difficult to describe mathematically. This may either be because the theoretical equation which describes the observed behaviour is difficult to solve, or because the situation is complicated by several ill-defined factors and it is difficult to derive any theoretical equation which can describe it properly. However, we can still measure the dependence between the variables experimentally and we would like to have some means of predicting this dependence. In this kind of situation it is convenient to fit an equation to our experimental data. We can then use the fitted equation to interpolate, i.e. to calculate the expected value of a variable between our measured data points, and to extrapolate, i.e. to calculate the expected value beyond the range of our measured data points. This procedure is often called “parameterizing” the relationship.\n",
    "\n",
    "In principle we could use any form of equation to fit a set of measured data, but if we have no theoretical basis for fitting a particular type of curve it is often simplest and easiest to fit a polynomial. The order of the polynomial and the coefficients of each term in the fitted equation are called the “parameters” of our fit.\n",
    "\n",
    "In this session we will look at how to fit polynomials with numpy, using experiment E5 as an example. If you are taking PHAS2441 you will be doing this experiment yourself in the second half of term. The experiment involves calibrating a temperature sensor by measuring its output voltage over a range of temperature. A polynomial equation is then fitted to the experimental results and this calibration equation is later input into a programmable chip so that the sensor can operate as a digital thermometer."
   ]
  },
  {
   "cell_type": "markdown",
   "metadata": {},
   "source": [
    "## Using numpy to fit a polynomial to a dataset"
   ]
  },
  {
   "cell_type": "markdown",
   "metadata": {},
   "source": [
    "The first thing we need to do is import the modules we'll need. Enter these in the code cell below"
   ]
  },
  {
   "cell_type": "code",
   "execution_count": null,
   "metadata": {
    "collapsed": false
   },
   "outputs": [],
   "source": [
    "### STUDENT GENERATED CELL ###"
   ]
  },
  {
   "cell_type": "markdown",
   "metadata": {},
   "source": [
    "Now we should load our data file, which is called \"studentdataE5.txt\". This data file contains two columns, the first is the temperature in Celsius, the second the measured voltage (V). \n",
    "\n",
    "\n",
    "<div class='alert alert-success'> \n",
    "In the code cell below:\n",
    "<ul>\n",
    "<li> Load the data file using np.loadtxt, and unpack it into two arrays called `temp` and `voltage`. </li>\n",
    "<li> Plot it on a (labelled!) graph, using data points only (no line). </li>\n",
    "</ul>\n",
    "\n",
    "</div>"
   ]
  },
  {
   "cell_type": "code",
   "execution_count": null,
   "metadata": {
    "collapsed": false
   },
   "outputs": [],
   "source": [
    "### STUDENT GENERATED CELL ###\n"
   ]
  },
  {
   "cell_type": "markdown",
   "metadata": {},
   "source": [
    "### Numpy's polyfit function(s)\n",
    "\n",
    "Fortunately, we can get numpy to do all the hard work of fitting for us, by using the * **polyfit** * function. The documentation for this is here: http://docs.scipy.org/doc/numpy/reference/generated/numpy.polyfit.html - have a quick look at this before proceeding.\n",
    "\n",
    "The cell below shows an example usage of np.polyfit. To run it, change \"temp\" and \"voltage\" to whatever you are using as the relevant variable names."
   ]
  },
  {
   "cell_type": "code",
   "execution_count": null,
   "metadata": {
    "collapsed": false
   },
   "outputs": [],
   "source": [
    "degree = 2 # degree of polynomial we want to fit to\n",
    "p = np.polyfit(temp,voltage,degree)\n",
    "print (\"The fitted polynomial coefficients are\", p)"
   ]
  },
  {
   "cell_type": "markdown",
   "metadata": {},
   "source": [
    "** * IMPORTANT NOTE: * ** Numpy actually has two versions of polyfit. `numpy.polyfit`, and  `numpy.polynomial.polynomial.polyfit`. They are almost identical, and are used in the same way. But look at the one crucial difference:"
   ]
  },
  {
   "cell_type": "code",
   "execution_count": null,
   "metadata": {
    "collapsed": false
   },
   "outputs": [],
   "source": [
    "p = np.polyfit(temp,voltage,degree)\n",
    "print (\"np.polyfit returns the coefficients as\", p)\n",
    "pp = np.polynomial.polynomial.polyfit(temp,voltage,degree)\n",
    "print (\"np.polynomial.polynomial.polyfit returns the coefficients as\", pp)"
   ]
  },
  {
   "cell_type": "markdown",
   "metadata": {},
   "source": [
    "`numpy.polyfit` (our `np.polyfit`) returns the coefficients with the highest power first, but `numpy.polynomial.polynomial.polyfit` returns the lowest power first. This is daft.\n",
    "  \n",
    "However, it is an important reminder of *why* we import our modules with named abbreviations - it makes it clear which version of which module function we're using!"
   ]
  },
  {
   "cell_type": "markdown",
   "metadata": {},
   "source": [
    "### Plotting fitted polynomials\n",
    "\n",
    "Now we have our polynomial coefficients, we probably want to plot this polynomial to see how good the fit is. We could construct an expresssion for this from the elements of p, but there's a much easier way to do this with the numpy function poly1d (http://docs.scipy.org/doc/numpy/reference/generated/numpy.poly1d.html ), which will convert the array of polynomial coefficients $p$ into a function that we can call to generate the value of the polynomial for a given value of $x$. The following code cell does this by using np.poly1d to create a _function_ called \"line\":"
   ]
  },
  {
   "cell_type": "code",
   "execution_count": null,
   "metadata": {
    "collapsed": false
   },
   "outputs": [],
   "source": [
    "line = np.poly1d(p)"
   ]
  },
  {
   "cell_type": "markdown",
   "metadata": {},
   "source": [
    "<div class='alert alert-success'> \n",
    "\n",
    "Now you need to:\n",
    "<ul>\n",
    "<li> Generate an array of x-values to fit the data to </li>\n",
    "<li> Use the \"line\" function we just created to generate a corresponding array of y-values.</li>\n",
    "<li> Plot the original data (as points) and the fitted line (as a line) on a labelled graph.</li>\n",
    "</ul>\n",
    "Do this in the cell below.\n",
    "</div>"
   ]
  },
  {
   "cell_type": "code",
   "execution_count": null,
   "metadata": {
    "collapsed": false
   },
   "outputs": [],
   "source": [
    "### STUDENT GENERATED CELL ###\n"
   ]
  },
  {
   "cell_type": "markdown",
   "metadata": {},
   "source": [
    "At first glance, this second-order polynomial looks okayish (or it should do if you've done it right!) - but with definite room for improvement.\n",
    "\n",
    "But how good is the fit really?"
   ]
  },
  {
   "cell_type": "markdown",
   "metadata": {},
   "source": [
    "## Goodness of fit (1) - calculating the errors on the coefficients and the matrix of covariance."
   ]
  },
  {
   "cell_type": "markdown",
   "metadata": {},
   "source": [
    "We'll recalculate, this time with an important addition to the polyfit call - we'll ask it to also calculate the matrix of covariance.\n",
    "\n",
    "(A Python aside: In the cell below, there's also a line that limits the number of decimal places that are displayed when we print a numpy array. This is just for convenience - compare this with the arrays printed out at full precision above: which do you find easier to read? You can change the number of decimal points displayed to whatever you want. Note that this will affect _all_ arrays printed after this line is run, but won't affect the formatting of any other numbers, including array elements. See https://docs.scipy.org/doc/numpy/reference/generated/numpy.set_printoptions.html for full documentation of this function - we will be using it again in other sessions.)"
   ]
  },
  {
   "cell_type": "code",
   "execution_count": null,
   "metadata": {
    "collapsed": false
   },
   "outputs": [],
   "source": [
    "# It's useful to limit the number of dp displayed for arrays - see above\n",
    "np.set_printoptions(precision=4) # 4 dec.places\n",
    "\n",
    "# recalculating the polynomial\n",
    "degree = 2 # degree of polynomial we want to fit to\n",
    "p, v = np.polyfit(temp,voltage,degree,cov=True)\n",
    "print(\"The fitted polynomial coefficients are:\\n\", p)\n",
    "print(\"The matrix of covariance is:\\n\", v)"
   ]
  },
  {
   "cell_type": "markdown",
   "metadata": {},
   "source": [
    "#### What is the matrix of covariance?\n",
    "\n",
    "**The quick answer:** The matrix of covariance allows us to calculate the errors on our fitted parameters. For $n$ parameters, the matrix of covariance is an $n \\times n$ matrix, whose diagonal elements are the *square* of the uncertainties of the fitted parameters. The off-diagonal elements give the level of correlation between the uncertainties in the parameters - we won't use them here.\n",
    "\n",
    "**The long (and more complete answer)** is given in sections 7.2-7.4 of [Hughes and Hase](https://www.dawsonera.com/guard/protected/dawson.jsp?name=https://shib-idp.ucl.ac.uk/shibboleth&dest=http://www.dawsonera.com/depp/reader/protected/external/AbstractView/S9780191576560).\n",
    "\n",
    "\n",
    "\n",
    "\n",
    "When the cell below is complete, it will output the order of each coefficient, the corresponding coefficient and its error, with appropriate text strings.\n",
    "\n",
    "Look at how we do this:\n",
    "\n",
    "1. This is most easily done using a loop over the elements of `p`. For example, the length of an array `p` is given by `len(p)` or `np.size(p)`. The structure  `for i in range(np.size(p)):` sets up a loop that will iterate the same number of times as there are elements in the array.\n",
    "2. Remember that `np.polyfit` gives the coefficients largest-order first. So for a loop with increasing index i, the order of the coefficient `p(i)` will be given by `len(p)-i-1`.\n",
    "\n",
    "\n",
    "<div class='alert alert-success'>\n",
    "You will need to complete the final line of this cell to calculate the error of each coefficient.\n",
    "\n",
    "You'll probably want to use `np.diag` to extract the diagonal elements of the matrix of covariance, in the form of a 1d array. You can find out more about this numpy function here: http://docs.scipy.org/doc/numpy/reference/generated/numpy.diag.html <div>\n"
   ]
  },
  {
   "cell_type": "code",
   "execution_count": null,
   "metadata": {
    "collapsed": false
   },
   "outputs": [],
   "source": [
    "### STUDENT COMPLETED CELL ###\n",
    "\n",
    "# extract coefficients and errors from matrix of covariance\n",
    "for i in range(np.size(p)):\n",
    "    print \"coefficient order x^\", len(p)-i-1, \" is \", p[i], \" with error \", ### COMPLETE THIS LINE"
   ]
  },
  {
   "cell_type": "markdown",
   "metadata": {},
   "source": [
    "#### An important caveat about the interpretation of these errors\n",
    "\n",
    "When doing calculations like this it's important to understand how the mathematics of the calculations relates to the reality of the experiment and the data. In this case we can see that the off-diagonal elements of `v` are clearly non-zero, and hence there is a significant correlation between the polynomial coefficients.\n",
    "\n",
    "The diagonal elements of the matrix of covariance can be used to find the uncertainty of a coefficient *IF THAT COEFFICIENT ALONE IS THE REQUIRED RESULT OF THE EXPERIMENT*; but when calculating any values based on the full set of coefficients (e.g. the value of the fit for a particular abscissa value) this can give a gross overestimate.  In advanced methods the full matrix is used, but at the undergraduate level some simplified approximation should be employed, such as taking just the covariance of the zero order coefficient.\n",
    "\n",
    "You should bear this in mind later in the term when you are doing experiment E5 yourselves. For the moment, however, as we are just concerning ourselves with the polynomial fitting itself, we'll continue to take the errors of the coefficients from the matrix of covariance.\n",
    "\n",
    "This issue will be explored in more detail next year in course PHAS3440 (Lab 3)."
   ]
  },
  {
   "cell_type": "markdown",
   "metadata": {},
   "source": [
    "## Goodness of fit (2) - calculating the residuals and $\\chi^2$"
   ]
  },
  {
   "cell_type": "markdown",
   "metadata": {},
   "source": [
    "Remember that the residuals are defined as the vertical distance between each of the data points and the fitted line. If the fitted line passes exactly through one of the data points the residual for this point is zero. We can see intuitively that if we have a \"good\" fit the residual values will be small. However, we have to remember that our experimental data points are subject to random errors and so we should expect the values of the residuals to be randomly distributed about zero. If we find that all the residuals are exactly zero we should start to suspect that our line is \"over-fitted\". This means it fits our initial data exactly, but if we take any more measurements (subject of course to the same random errors) the line will not fit them and therefore cannot be used to predict their values in advance. So for a useful parameterization of our dataset we need a fit which is \"good\" but not \"too good\". The chi-squared test is a statistical tool which can help us find the sort of fit we need. \n",
    "\n",
    "*Hint: For a guide that will enable you to use a numerical value of $\\chi^2$ to decide if your fit is \"good\", \"too good\", or \"not good\", look at the text box on page 107 of [Hughes and Hase](https://www.dawsonera.com/guard/protected/dawson.jsp?name=https://shib-idp.ucl.ac.uk/shibboleth&dest=http://www.dawsonera.com/depp/reader/protected/external/AbstractView/S9780191576560).*\n"
   ]
  },
  {
   "cell_type": "markdown",
   "metadata": {},
   "source": [
    "The numpy polyfit function calculates the residuals for us. We can also obtain more data from polyfit by setting full=True (but note that this is mutually exclusive with cov=True, you can only have one or the other). Again from the np.polyfit documentation:\n",
    "\n",
    "       \"residuals, rank, singular_values, rcond : present only if full = True\n",
    "            Residuals of the least-squares fit, the effective rank of the scaled Vandermonde coefficient matrix, \n",
    "            its singular values, and the specified value of rcond. For more details, see linalg.lstsq.\"\n",
    "            \n",
    "            \n",
    "(http://docs.scipy.org/doc/numpy/reference/generated/numpy.linalg.lstsq.html#numpy.linalg.lstsq)\n",
    "\n",
    "Let's look at what this gives us:\n",
    "      "
   ]
  },
  {
   "cell_type": "code",
   "execution_count": null,
   "metadata": {
    "collapsed": false
   },
   "outputs": [],
   "source": [
    "p, residuals, rank, singular_values, rcond = np.polyfit(temp,voltage,degree,full=True)\n",
    "\n",
    "print(\"p is:\", p)\n",
    "print(\"residuals array is:\", residuals)\n",
    "print(\"rank is:\", rank)\n",
    "print(\"singular_values is:\", singular_values)\n",
    "print(\"rcond is:\", rcond)"
   ]
  },
  {
   "cell_type": "markdown",
   "metadata": {},
   "source": [
    "Note that here \"residuals\" gives us the *sum* of the square of the residuals, not the individual residuals themselves, which is normally what we're interested in. But it's easy to calculate them, so normally it's more useful to have `cov=True` than `full=True`.\n",
    "\n",
    "To calculate the residuals, we just remember that the residuals are the vertical distance between the data point and the fitted line. \n",
    "\n",
    "<div class=\"alert alert-success\">\n",
    "Use the cell below to calculate and print out:\n",
    "<ul>\n",
    "<li> the residuals; </li> \n",
    "<li>  the squares of the residuals; and</li> \n",
    "<li>  the sum of the squares of the residuals.</li> \n",
    "</ul>\n",
    "</div>\n"
   ]
  },
  {
   "cell_type": "code",
   "execution_count": null,
   "metadata": {
    "collapsed": false,
    "scrolled": true
   },
   "outputs": [],
   "source": [
    "### STUDENT GENERATED CELL ###\n"
   ]
  },
  {
   "cell_type": "markdown",
   "metadata": {},
   "source": [
    "Check that your result for the sum of the squares of the residuals is the same as the same as the \"residuals\" generated by full=True.\n",
    "\n",
    "To take account of the random experimental errors affecting our data we can also divide the residuals by the error in the dependent variable (here the voltage is our \"y\" value), which for this experiment was estimated by the student as 0.006 V for all values (if the error is different for each measurement, we can just have a 1D-array for this instead of a single number). "
   ]
  },
  {
   "cell_type": "markdown",
   "metadata": {},
   "source": [
    "<div class=\"alert alert-success\">\n",
    "The student measured the error in the voltage to be 0.006 V for all the measured values.\n",
    "<br>\n",
    "In the cell below, repeat your calculations above, but using the residuals divided by the y-error rather than the residuals alone:\n",
    "</div>"
   ]
  },
  {
   "cell_type": "code",
   "execution_count": null,
   "metadata": {
    "collapsed": false
   },
   "outputs": [],
   "source": [
    "### STUDENT GENERATED CELL ###\n"
   ]
  },
  {
   "cell_type": "markdown",
   "metadata": {},
   "source": [
    "Dividing this by the number of degrees of freedom will give us the reduced $\\chi^2$. The number of degrees of freedom is defined as the total number of datapoints minus the number of coefficients or fitting parameters in the fitted equation."
   ]
  },
  {
   "cell_type": "markdown",
   "metadata": {},
   "source": [
    "<div class=\"alert alert-success\">\n",
    "In the cell below, calculate and output the number of degrees of freedom and the reduced $\\chi^2$.\n",
    "</div>"
   ]
  },
  {
   "cell_type": "code",
   "execution_count": null,
   "metadata": {
    "collapsed": false
   },
   "outputs": [],
   "source": [
    "### STUDENT GENERATED CELL ###\n"
   ]
  },
  {
   "cell_type": "markdown",
   "metadata": {},
   "source": [
    "The reduced $\\chi^2$ is useful as it gives us a single number with which we can compare the goodness of fit of different polynomials.\n",
    "\n",
    "Now we have everything in place, let's try comparing different polynomials. "
   ]
  },
  {
   "cell_type": "markdown",
   "metadata": {},
   "source": [
    "<div class=\"alert alert-success\">\n",
    "Write code in the code cell below that will calculate the best fit polynomials of order 1,2,3,4,5 and 6. For each of these:<ul>\n",
    "\n",
    "<li>  Print out the coefficients, with their order, and error </li>\n",
    "<li>  Calculate and output the number of degrees of freedom and the reduced $\\chi^2$ </li>\n",
    "    </ul>\n",
    "</div>"
   ]
  },
  {
   "cell_type": "markdown",
   "metadata": {},
   "source": [
    "**Hints:** \n",
    "* the most efficient way of doing this is with a loop structure\n",
    "* The residuals are the vertical distance between the fitted line and the data point - so you'll need to recalculate the residuals for each fitted line\n",
    "* The `line` function we generated was specific to those values of `p`. So each time the array of polynomial coefficients `p` changes, you'll also need to redefine this function."
   ]
  },
  {
   "cell_type": "code",
   "execution_count": null,
   "metadata": {
    "collapsed": false
   },
   "outputs": [],
   "source": [
    "### STUDENT GENERATED CELL ###\n"
   ]
  },
  {
   "cell_type": "markdown",
   "metadata": {},
   "source": [
    "<div class=\"alert alert-success\"> Which order of fitted polynomial would you use to parameterize the relationship between voltage and temperature for this sensor? <br> \n",
    "Give the reasons for your choice in a text cell. <br> Then plot the fitted line for the polynomial you think best represents the data, together with the original data, on a labelled graph</div>\n",
    "\n"
   ]
  },
  {
   "cell_type": "markdown",
   "metadata": {},
   "source": [
    "STUDENT COMPLETED TEXT CELL"
   ]
  },
  {
   "cell_type": "code",
   "execution_count": null,
   "metadata": {
    "collapsed": false
   },
   "outputs": [],
   "source": [
    "### STUDENT GENERATED CELL ###\n"
   ]
  },
  {
   "cell_type": "markdown",
   "metadata": {},
   "source": [
    "## Fitting the residuals to a Gaussian"
   ]
  },
  {
   "cell_type": "markdown",
   "metadata": {},
   "source": [
    "It would be interesting to have a closer look at the residuals. In theory, they should follow a Gaussian (normal) distribution. Do they?\n",
    "\n",
    "Fit the residuals to a Gaussian using scipy.stats (following the same process as we did in session 2), and plot them as a histogram together with the fitted Gaussian."
   ]
  },
  {
   "cell_type": "markdown",
   "metadata": {},
   "source": [
    "<div class=\"alert alert-success\">Do you think that these residuals match the expected distribution?\n",
    "What relation do you notice between the width of the Gaussian and the experimental error on the voltage reading estimated by the student who did this experiment? Explain in a text cell.</div>"
   ]
  },
  {
   "cell_type": "code",
   "execution_count": null,
   "metadata": {
    "collapsed": false
   },
   "outputs": [],
   "source": [
    "### STUDENT GENERATED CELL ###\n",
    "\n"
   ]
  },
  {
   "cell_type": "markdown",
   "metadata": {},
   "source": [
    "STUDENT COMPLETED TEXT CELL"
   ]
  },
  {
   "cell_type": "markdown",
   "metadata": {},
   "source": [
    "### What's coming next"
   ]
  },
  {
   "cell_type": "markdown",
   "metadata": {},
   "source": [
    "In this session we've seen how to fit data in a general case when we don't already know from a theoretical model what function we want to fit to. In the next session, we'll be looking at how to to use Python fit a line when we know what function we want to fit the data to."
   ]
  },
  {
   "cell_type": "code",
   "execution_count": null,
   "metadata": {
    "collapsed": false
   },
   "outputs": [],
   "source": []
  }
 ],
 "metadata": {
  "anaconda-cloud": {},
  "kernelspec": {
   "display_name": "Python [conda root]",
   "language": "python",
   "name": "conda-root-py"
  },
  "language_info": {
   "codemirror_mode": {
    "name": "ipython",
    "version": 3
   },
   "file_extension": ".py",
   "mimetype": "text/x-python",
   "name": "python",
   "nbconvert_exporter": "python",
   "pygments_lexer": "ipython3",
   "version": "3.5.2"
  }
 },
 "nbformat": 4,
 "nbformat_minor": 0
}
