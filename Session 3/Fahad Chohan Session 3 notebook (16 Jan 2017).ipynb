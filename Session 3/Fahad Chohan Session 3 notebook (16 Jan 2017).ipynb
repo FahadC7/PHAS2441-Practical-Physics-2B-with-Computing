{
 "cells": [
  {
   "cell_type": "markdown",
   "metadata": {},
   "source": [
    "# PHAS2441 Session 3:  Polynomial fitting\n",
    "\n",
    "Fahad Chohan\n",
    "Last updated: 16/01/17"
   ]
  },
  {
   "cell_type": "markdown",
   "metadata": {},
   "source": [
    "<div class=\"alert alert-success\"> <p>*  **Intended learning outcomes:** * </p>\n",
    "By the end of this session, you should be able to:\n",
    "<ul>\n",
    "<li> Use Python to fit a set of data to a polynomial; </li>\n",
    "<li> To evaluate the goodness of fit using the matrix of covariance and Chi^2</li>\n",
    "<li> Fit the residuals to a Gaussian. </li>\n",
    "</div>"
   ]
  },
  {
   "cell_type": "markdown",
   "metadata": {},
   "source": [
    "## Why fit to a polynomial?\n",
    "\n",
    "In physics we often meet an experimental relation between variables which is difficult to describe mathematically. This may either be because the theoretical equation which describes the observed behaviour is difficult to solve, or because the situation is complicated by several ill-defined factors and it is difficult to derive any theoretical equation which can describe it properly. However, we can still measure the dependence between the variables experimentally and we would like to have some means of predicting this dependence. In this kind of situation it is convenient to fit an equation to our experimental data. We can then use the fitted equation to interpolate, i.e. to calculate the expected value of a variable between our measured data points, and to extrapolate, i.e. to calculate the expected value beyond the range of our measured data points. This procedure is often called “parameterizing” the relationship.\n",
    "\n",
    "In principle we could use any form of equation to fit a set of measured data, but if we have no theoretical basis for fitting a particular type of curve it is often simplest and easiest to fit a polynomial. The order of the polynomial and the coefficients of each term in the fitted equation are called the “parameters” of our fit.\n",
    "\n",
    "In this session we will look at how to fit polynomials with numpy, using experiment E5 as an example. If you are taking PHAS2441 you will be doing this experiment yourself in the second half of term. The experiment involves calibrating a temperature sensor by measuring its output voltage over a range of temperature. A polynomial equation is then fitted to the experimental results and this calibration equation is later input into a programmable chip so that the sensor can operate as a digital thermometer."
   ]
  },
  {
   "cell_type": "markdown",
   "metadata": {},
   "source": [
    "## Using numpy to fit a polynomial to a dataset"
   ]
  },
  {
   "cell_type": "markdown",
   "metadata": {},
   "source": [
    "The first thing we need to do is import the modules we'll need. Enter these in the code cell below"
   ]
  },
  {
   "cell_type": "code",
   "execution_count": 1,
   "metadata": {
    "collapsed": false
   },
   "outputs": [],
   "source": [
    "### STUDENT GENERATED CELL ###\n",
    "\n",
    "import numpy as np\n",
    "import matplotlib.pyplot as plt\n",
    "\n",
    "# The following line makes all plot output generate as images within the notebook. \n",
    "%matplotlib inline"
   ]
  },
  {
   "cell_type": "markdown",
   "metadata": {},
   "source": [
    "Now we should load our data file, which is called \"studentdataE5.txt\". This data file contains two columns, the first is the temperature in Celsius, the second the measured voltage (V). \n",
    "\n",
    "\n",
    "<div class='alert alert-success'> \n",
    "In the code cell below:\n",
    "<ul>\n",
    "<li> Load the data file using np.loadtxt, and unpack it into two arrays called `temp` and `voltage`. </li>\n",
    "<li> Plot it on a (labelled!) graph, using data points only (no line). </li>\n",
    "</ul>\n",
    "\n",
    "</div>"
   ]
  },
  {
   "cell_type": "code",
   "execution_count": 2,
   "metadata": {
    "collapsed": false
   },
   "outputs": [
    {
     "data": {
      "text/plain": [
       "<matplotlib.text.Text at 0x7cae278>"
      ]
     },
     "execution_count": 2,
     "metadata": {},
     "output_type": "execute_result"
    },
    {
     "data": {
      "image/png": "[encoded data removed]",
      "text/plain": [
       "<matplotlib.figure.Figure at 0x7b74e10>"
      ]
     },
     "metadata": {},
     "output_type": "display_data"
    }
   ],
   "source": [
    "### STUDENT GENERATED CELL ###\n",
    "temp, voltage = np.loadtxt(\"studentdataE5.txt\", unpack=True,) #imports data\n",
    "\n",
    "plt.plot(temp, voltage, 'b.',)\n",
    "plt.title(\"Voltage varying with temperature\")\n",
    "plt.xlabel(\"temp ($ \\degree C$)\")\n",
    "plt.ylabel(\"voltage ($V$)\")"
   ]
  },
  {
   "cell_type": "markdown",
   "metadata": {},
   "source": [
    "### Numpy's polyfit function(s)\n",
    "\n",
    "Fortunately, we can get numpy to do all the hard work of fitting for us, by using the * **polyfit** * function. The documentation for this is here: http://docs.scipy.org/doc/numpy/reference/generated/numpy.polyfit.html - have a quick look at this before proceeding.\n",
    "\n",
    "The cell below shows an example usage of np.polyfit. To run it, change \"temp\" and \"voltage\" to whatever you are using as the relevant variable names."
   ]
  },
  {
   "cell_type": "code",
   "execution_count": 3,
   "metadata": {
    "collapsed": false
   },
   "outputs": [
    {
     "name": "stdout",
     "output_type": "stream",
     "text": [
      "The fitted polynomial coefficients are [  1.06532357e-04  -3.15934839e-02   2.21148238e+00]\n"
     ]
    }
   ],
   "source": [
    "degree = 2 # degree of polynomial we want to fit to\n",
    "p = np.polyfit(temp,voltage,degree)\n",
    "print (\"The fitted polynomial coefficients are\", p)"
   ]
  },
  {
   "cell_type": "markdown",
   "metadata": {},
   "source": [
    "** * IMPORTANT NOTE: * ** Numpy actually has two versions of polyfit. `numpy.polyfit`, and  `numpy.polynomial.polynomial.polyfit`. They are almost identical, and are used in the same way. But look at the one crucial difference:"
   ]
  },
  {
   "cell_type": "code",
   "execution_count": 4,
   "metadata": {
    "collapsed": false
   },
   "outputs": [
    {
     "name": "stdout",
     "output_type": "stream",
     "text": [
      "np.polyfit returns the coefficients as [  1.06532357e-04  -3.15934839e-02   2.21148238e+00]\n",
      "np.polynomial.polynomial.polyfit returns the coefficients as [  2.21148238e+00  -3.15934839e-02   1.06532357e-04]\n"
     ]
    }
   ],
   "source": [
    "p = np.polyfit(temp,voltage,degree)\n",
    "print (\"np.polyfit returns the coefficients as\", p)\n",
    "pp = np.polynomial.polynomial.polyfit(temp,voltage,degree)\n",
    "print (\"np.polynomial.polynomial.polyfit returns the coefficients as\", pp)"
   ]
  },
  {
   "cell_type": "markdown",
   "metadata": {},
   "source": [
    "`numpy.polyfit` (our `np.polyfit`) returns the coefficients with the highest power first, but `numpy.polynomial.polynomial.polyfit` returns the lowest power first. This is daft.\n",
    "  \n",
    "However, it is an important reminder of *why* we import our modules with named abbreviations - it makes it clear which version of which module function we're using!"
   ]
  },
  {
   "cell_type": "markdown",
   "metadata": {},
   "source": [
    "### Plotting fitted polynomials\n",
    "\n",
    "Now we have our polynomial coefficients, we probably want to plot this polynomial to see how good the fit is. We could construct an expresssion for this from the elements of p, but there's a much easier way to do this with the numpy function poly1d (http://docs.scipy.org/doc/numpy/reference/generated/numpy.poly1d.html ), which will convert the array of polynomial coefficients $p$ into a function that we can call to generate the value of the polynomial for a given value of $x$. The following code cell does this by using np.poly1d to create a _function_ called \"line\":"
   ]
  },
  {
   "cell_type": "code",
   "execution_count": 5,
   "metadata": {
    "collapsed": false
   },
   "outputs": [],
   "source": [
    "line = np.poly1d(p)"
   ]
  },
  {
   "cell_type": "markdown",
   "metadata": {},
   "source": [
    "<div class='alert alert-success'> \n",
    "\n",
    "Now you need to:\n",
    "<ul>\n",
    "<li> Generate an array of x-values to fit the data to </li>\n",
    "<li> Use the \"line\" function we just created to generate a corresponding array of y-values.</li>\n",
    "<li> Plot the original data (as points) and the fitted line (as a line) on a labelled graph.</li>\n",
    "</ul>\n",
    "Do this in the cell below.\n",
    "</div>"
   ]
  },
  {
   "cell_type": "code",
   "execution_count": 6,
   "metadata": {
    "collapsed": false
   },
   "outputs": [
    {
     "data": {
      "text/plain": [
       "<matplotlib.legend.Legend at 0x8213630>"
      ]
     },
     "execution_count": 6,
     "metadata": {},
     "output_type": "execute_result"
    },
    {
     "data": {
      "image/png": "[encoded data removed]",
      "text/plain": [
       "<matplotlib.figure.Figure at 0x825ccf8>"
      ]
     },
     "metadata": {},
     "output_type": "display_data"
    }
   ],
   "source": [
    "### STUDENT GENERATED CELL ###\n",
    "\n",
    "x = np.linspace(0,80,80) #creates array between 0 and 80 with 80 values\n",
    "y = line(x) #calculates y values from above equation\n",
    "\n",
    "plt.plot(x,y,'r-', label = \"poly fit\")\n",
    "plt.plot(temp, voltage, 'b.', label = \"experimental data\")\n",
    "\n",
    "plt.title(\"Voltage varying with temperature\")\n",
    "plt.xlabel(\"temp ($ \\degree C$)\")\n",
    "plt.ylabel(\"voltage ($V$)\")\n",
    "plt.legend()"
   ]
  },
  {
   "cell_type": "markdown",
   "metadata": {},
   "source": [
    "At first glance, this second-order polynomial looks okayish (or it should do if you've done it right!) - but with definite room for improvement.\n",
    "\n",
    "But how good is the fit really?"
   ]
  },
  {
   "cell_type": "markdown",
   "metadata": {},
   "source": [
    "## Goodness of fit (1) - calculating the errors on the coefficients and the matrix of covariance."
   ]
  },
  {
   "cell_type": "markdown",
   "metadata": {},
   "source": [
    "We'll recalculate, this time with an important addition to the polyfit call - we'll ask it to also calculate the matrix of covariance.\n",
    "\n",
    "(A Python aside: In the cell below, there's also a line that limits the number of decimal places that are displayed when we print a numpy array. This is just for convenience - compare this with the arrays printed out at full precision above: which do you find easier to read? You can change the number of decimal points displayed to whatever you want. Note that this will affect _all_ arrays printed after this line is run, but won't affect the formatting of any other numbers, including array elements. See https://docs.scipy.org/doc/numpy/reference/generated/numpy.set_printoptions.html for full documentation of this function - we will be using it again in other sessions.)"
   ]
  },
  {
   "cell_type": "code",
   "execution_count": 7,
   "metadata": {
    "collapsed": false
   },
   "outputs": [
    {
     "name": "stdout",
     "output_type": "stream",
     "text": [
      "The fitted polynomial coefficients are:\n",
      " [  1.0653e-04  -3.1593e-02   2.2115e+00]\n",
      "The matrix of covariance is:\n",
      " [[  1.1925e-10  -1.0136e-08   1.5502e-07]\n",
      " [ -1.0136e-08   9.0966e-07  -1.5220e-05]\n",
      " [  1.5502e-07  -1.5220e-05   3.1272e-04]]\n"
     ]
    }
   ],
   "source": [
    "# It's useful to limit the number of dp displayed for arrays - see above\n",
    "np.set_printoptions(precision=4) # 4 dec.places\n",
    "\n",
    "# recalculating the polynomial\n",
    "degree = 2 # degree of polynomial we want to fit to\n",
    "p, v = np.polyfit(temp,voltage,degree,cov=True)\n",
    "print(\"The fitted polynomial coefficients are:\\n\", p)\n",
    "print(\"The matrix of covariance is:\\n\", v)"
   ]
  },
  {
   "cell_type": "markdown",
   "metadata": {},
   "source": [
    "#### What is the matrix of covariance?\n",
    "\n",
    "**The quick answer:** The matrix of covariance allows us to calculate the errors on our fitted parameters. For $n$ parameters, the matrix of covariance is an $n \\times n$ matrix, whose diagonal elements are the *square* of the uncertainties of the fitted parameters. The off-diagonal elements give the level of correlation between the uncertainties in the parameters - we won't use them here.\n",
    "\n",
    "**The long (and more complete answer)** is given in sections 7.2-7.4 of [Hughes and Hase](https://www.dawsonera.com/guard/protected/dawson.jsp?name=https://shib-idp.ucl.ac.uk/shibboleth&dest=http://www.dawsonera.com/depp/reader/protected/external/AbstractView/S9780191576560).\n",
    "\n",
    "\n",
    "\n",
    "\n",
    "When the cell below is complete, it will output the order of each coefficient, the corresponding coefficient and its error, with appropriate text strings.\n",
    "\n",
    "Look at how we do this:\n",
    "\n",
    "1. This is most easily done using a loop over the elements of `p`. For example, the length of an array `p` is given by `len(p)` or `np.size(p)`. The structure  `for i in range(np.size(p)):` sets up a loop that will iterate the same number of times as there are elements in the array.\n",
    "2. Remember that `np.polyfit` gives the coefficients largest-order first. So for a loop with increasing index i, the order of the coefficient `p(i)` will be given by `len(p)-i-1`.\n",
    "\n",
    "\n",
    "<div class='alert alert-success'>\n",
    "You will need to complete the final line of this cell to calculate the error of each coefficient.\n",
    "\n",
    "You'll probably want to use `np.diag` to extract the diagonal elements of the matrix of covariance, in the form of a 1d array. You can find out more about this numpy function here: http://docs.scipy.org/doc/numpy/reference/generated/numpy.diag.html <div>\n"
   ]
  },
  {
   "cell_type": "code",
   "execution_count": 8,
   "metadata": {
    "collapsed": false
   },
   "outputs": [
    {
     "name": "stdout",
     "output_type": "stream",
     "text": [
      "coefficient order x^ 2  is  0.000106532356532  with error  1.09201314668e-05\n",
      "coefficient order x^ 1  is  -0.0315934839235  with error  0.000953759556164\n",
      "coefficient order x^ 0  is  2.21148237688  with error  0.0176838708696\n"
     ]
    }
   ],
   "source": [
    "### STUDENT COMPLETED CELL ###\n",
    "\n",
    "# extract coefficients and errors from matrix of covariance\n",
    "for i in range(np.size(p)):\n",
    "    print (\"coefficient order x^\", len(p)-i-1, \" is \", p[i], \" with error \", np.sqrt(np.diag(v)[i])) "
   ]
  },
  {
   "cell_type": "markdown",
   "metadata": {},
   "source": [
    "#### An important caveat about the interpretation of these errors\n",
    "\n",
    "When doing calculations like this it's important to understand how the mathematics of the calculations relates to the reality of the experiment and the data. In this case we can see that the off-diagonal elements of `v` are clearly non-zero, and hence there is a significant correlation between the polynomial coefficients.\n",
    "\n",
    "The diagonal elements of the matrix of covariance can be used to find the uncertainty of a coefficient *IF THAT COEFFICIENT ALONE IS THE REQUIRED RESULT OF THE EXPERIMENT*; but when calculating any values based on the full set of coefficients (e.g. the value of the fit for a particular abscissa value) this can give a gross overestimate.  In advanced methods the full matrix is used, but at the undergraduate level some simplified approximation should be employed, such as taking just the covariance of the zero order coefficient.\n",
    "\n",
    "You should bear this in mind later in the term when you are doing experiment E5 yourselves. For the moment, however, as we are just concerning ourselves with the polynomial fitting itself, we'll continue to take the errors of the coefficients from the matrix of covariance.\n",
    "\n",
    "This issue will be explored in more detail next year in course PHAS3440 (Lab 3)."
   ]
  },
  {
   "cell_type": "markdown",
   "metadata": {},
   "source": [
    "## Goodness of fit (2) - calculating the residuals and $\\chi^2$"
   ]
  },
  {
   "cell_type": "markdown",
   "metadata": {},
   "source": [
    "Remember that the residuals are defined as the vertical distance between each of the data points and the fitted line. If the fitted line passes exactly through one of the data points the residual for this point is zero. We can see intuitively that if we have a \"good\" fit the residual values will be small. However, we have to remember that our experimental data points are subject to random errors and so we should expect the values of the residuals to be randomly distributed about zero. If we find that all the residuals are exactly zero we should start to suspect that our line is \"over-fitted\". This means it fits our initial data exactly, but if we take any more measurements (subject of course to the same random errors) the line will not fit them and therefore cannot be used to predict their values in advance. So for a useful parameterization of our dataset we need a fit which is \"good\" but not \"too good\". The chi-squared test is a statistical tool which can help us find the sort of fit we need. \n",
    "\n",
    "*Hint: For a guide that will enable you to use a numerical value of $\\chi^2$ to decide if your fit is \"good\", \"too good\", or \"not good\", look at the text box on page 107 of [Hughes and Hase](https://www.dawsonera.com/guard/protected/dawson.jsp?name=https://shib-idp.ucl.ac.uk/shibboleth&dest=http://www.dawsonera.com/depp/reader/protected/external/AbstractView/S9780191576560).*\n"
   ]
  },
  {
   "cell_type": "markdown",
   "metadata": {},
   "source": [
    "The numpy polyfit function calculates the residuals for us. We can also obtain more data from polyfit by setting full=True (but note that this is mutually exclusive with cov=True, you can only have one or the other). Again from the np.polyfit documentation:\n",
    "\n",
    "       \"residuals, rank, singular_values, rcond : present only if full = True\n",
    "            Residuals of the least-squares fit, the effective rank of the scaled Vandermonde coefficient matrix, \n",
    "            its singular values, and the specified value of rcond. For more details, see linalg.lstsq.\"\n",
    "            \n",
    "            \n",
    "(http://docs.scipy.org/doc/numpy/reference/generated/numpy.linalg.lstsq.html#numpy.linalg.lstsq)\n",
    "\n",
    "Let's look at what this gives us:\n",
    "      "
   ]
  },
  {
   "cell_type": "code",
   "execution_count": 9,
   "metadata": {
    "collapsed": false
   },
   "outputs": [
    {
     "name": "stdout",
     "output_type": "stream",
     "text": [
      "p is: [  1.0653e-04  -3.1593e-02   2.2115e+00]\n",
      "residuals array is: [ 0.0133]\n",
      "rank is: 3\n",
      "singular_values is: [ 1.6569  0.4974  0.0845]\n",
      "rcond is: 5.77315972805e-15\n"
     ]
    }
   ],
   "source": [
    "p, residuals, rank, singular_values, rcond = np.polyfit(temp,voltage,degree,full=True)\n",
    "\n",
    "print(\"p is:\", p)\n",
    "print(\"residuals array is:\", residuals)\n",
    "print(\"rank is:\", rank)\n",
    "print(\"singular_values is:\", singular_values)\n",
    "print(\"rcond is:\", rcond)"
   ]
  },
  {
   "cell_type": "markdown",
   "metadata": {},
   "source": [
    "Note that here \"residuals\" gives us the *sum* of the square of the residuals, not the individual residuals themselves, which is normally what we're interested in. But it's easy to calculate them, so normally it's more useful to have `cov=True` than `full=True`.\n",
    "\n",
    "To calculate the residuals, we just remember that the residuals are the vertical distance between the data point and the fitted line. \n",
    "\n",
    "<div class=\"alert alert-success\">\n",
    "Use the cell below to calculate and print out:\n",
    "<ul>\n",
    "<li> the residuals; </li> \n",
    "<li>  the squares of the residuals; and</li> \n",
    "<li>  the sum of the squares of the residuals.</li> \n",
    "</ul>\n",
    "</div>\n"
   ]
  },
  {
   "cell_type": "code",
   "execution_count": 10,
   "metadata": {
    "collapsed": false,
    "scrolled": true
   },
   "outputs": [
    {
     "name": "stdout",
     "output_type": "stream",
     "text": [
      "residuals: \n",
      " [ 0.0232  0.0106  0.0101  0.0066  0.0153 -0.011  -0.0212 -0.0163 -0.0223\n",
      " -0.0263 -0.0261 -0.0219 -0.0156 -0.0042  0.0012  0.0118  0.0124  0.0351\n",
      "  0.0259  0.0248  0.0308  0.0298  0.0169 -0.0078 -0.0256 -0.0562]\n",
      "residuals squared: \n",
      " [  5.3774e-04   1.1205e-04   1.0129e-04   4.3896e-05   2.3314e-04\n",
      "   1.2111e-04   4.4930e-04   2.6588e-04   4.9875e-04   6.9049e-04\n",
      "   6.8325e-04   4.8043e-04   2.4385e-04   1.7897e-05   1.5309e-06\n",
      "   1.3894e-04   1.5426e-04   1.2345e-03   6.7249e-04   6.1564e-04\n",
      "   9.4706e-04   8.8917e-04   2.8717e-04   6.1536e-05   6.5293e-04\n",
      "   3.1560e-03]\n",
      "sum of the residuals squared =  0.0132902740415\n"
     ]
    }
   ],
   "source": [
    "### STUDENT GENERATED CELL ###\n",
    "\n",
    "#calculates residuals by finding difference in y-value between datapoints and fitted polynomial line\n",
    "resids = voltage - line(temp) #calculates residuals by finding difference in y-value between datapoints and fitted polynomial line\n",
    "print (\"residuals: \\n\", resids)\n",
    "\n",
    "resids_sqrd = resids**2\n",
    "print (\"residuals squared: \\n\", resids_sqrd)\n",
    "\n",
    "sum_resids_sqrd = np.sum(resids_sqrd)\n",
    "print (\"sum of the residuals squared = \", sum_resids_sqrd)"
   ]
  },
  {
   "cell_type": "markdown",
   "metadata": {},
   "source": [
    "Check that your result for the sum of the squares of the residuals is the same as the same as the \"residuals\" generated by full=True.\n",
    "\n",
    "To take account of the random experimental errors affecting our data we can also divide the residuals by the error in the dependent variable (here the voltage is our \"y\" value), which for this experiment was estimated by the student as 0.006 V for all values (if the error is different for each measurement, we can just have a 1D-array for this instead of a single number). "
   ]
  },
  {
   "cell_type": "markdown",
   "metadata": {},
   "source": [
    "<div class=\"alert alert-success\">\n",
    "The student measured the error in the voltage to be 0.006 V for all the measured values.\n",
    "<br>\n",
    "In the cell below, repeat your calculations above, but using the residuals divided by the y-error rather than the residuals alone:\n",
    "</div>"
   ]
  },
  {
   "cell_type": "code",
   "execution_count": 11,
   "metadata": {
    "collapsed": false
   },
   "outputs": [
    {
     "name": "stdout",
     "output_type": "stream",
     "text": [
      "residuals: \n",
      " [ 3.8649  1.7643  1.6774  1.1042  2.5448 -1.8342 -3.5328 -2.7177 -3.7221\n",
      " -4.3795 -4.3565 -3.6531 -2.6026 -0.7051  0.2062  1.9646  2.07    5.8558\n",
      "  4.3221  4.1354  5.1291  4.9698  2.8243 -1.3074 -4.2588 -9.363 ]\n",
      "residuals squared: \n",
      " [  1.4937e+01   3.1126e+00   2.8136e+00   1.2193e+00   6.4761e+00\n",
      "   3.3642e+00   1.2481e+01   7.3857e+00   1.3854e+01   1.9180e+01\n",
      "   1.8979e+01   1.3345e+01   6.7736e+00   4.9713e-01   4.2525e-02\n",
      "   3.8595e+00   4.2849e+00   3.4291e+01   1.8680e+01   1.7101e+01\n",
      "   2.6307e+01   2.4699e+01   7.9769e+00   1.7093e+00   1.8137e+01\n",
      "   8.7667e+01]\n",
      "sum of the residuals squared =  369.174278931\n"
     ]
    }
   ],
   "source": [
    "### STUDENT GENERATED CELL ###\n",
    "\n",
    "#calculates residuals by finding difference in y-value between datapoints and fitted polynomial line but \n",
    "#also taking into account the experimental error\n",
    "\n",
    "resids2 = (voltage - line(temp))/0.006\n",
    "print (\"residuals: \\n\", resids2)\n",
    "\n",
    "resids_sqrd2 = resids2**2\n",
    "print (\"residuals squared: \\n\", resids_sqrd2)\n",
    "\n",
    "sum_resids_sqrd2 = np.sum(resids_sqrd2)\n",
    "print (\"sum of the residuals squared = \", sum_resids_sqrd2)"
   ]
  },
  {
   "cell_type": "markdown",
   "metadata": {},
   "source": [
    "Dividing this by the number of degrees of freedom will give us the reduced $\\chi^2$. The number of degrees of freedom is defined as the total number of datapoints minus the number of coefficients or fitting parameters in the fitted equation."
   ]
  },
  {
   "cell_type": "markdown",
   "metadata": {},
   "source": [
    "<div class=\"alert alert-success\">\n",
    "In the cell below, calculate and output the number of degrees of freedom and the reduced $\\chi^2$.\n",
    "</div>"
   ]
  },
  {
   "cell_type": "code",
   "execution_count": 12,
   "metadata": {
    "collapsed": false
   },
   "outputs": [
    {
     "name": "stdout",
     "output_type": "stream",
     "text": [
      "Number of degrees of freedom = 23\n",
      "Reduced chi squared = 16.0510556057\n"
     ]
    }
   ],
   "source": [
    "### STUDENT GENERATED CELL ###\n",
    "dof = len(temp) - len(p) #calculates degrees of freedom\n",
    "reduced_chi_sqrd = sum_resids_sqrd2 / dof #calculates reduced chi-squared\n",
    "\n",
    "print (\"Number of degrees of freedom =\", dof)\n",
    "print (\"Reduced chi squared =\", reduced_chi_sqrd)"
   ]
  },
  {
   "cell_type": "markdown",
   "metadata": {},
   "source": [
    "The reduced $\\chi^2$ is useful as it gives us a single number with which we can compare the goodness of fit of different polynomials.\n",
    "\n",
    "Now we have everything in place, let's try comparing different polynomials. "
   ]
  },
  {
   "cell_type": "markdown",
   "metadata": {},
   "source": [
    "<div class=\"alert alert-success\">\n",
    "Write code in the code cell below that will calculate the best fit polynomials of order 1,2,3,4,5 and 6. For each of these:<ul>\n",
    "\n",
    "<li>  Print out the coefficients, with their order, and error </li>\n",
    "<li>  Calculate and output the number of degrees of freedom and the reduced $\\chi^2$ </li>\n",
    "    </ul>\n",
    "</div>"
   ]
  },
  {
   "cell_type": "markdown",
   "metadata": {},
   "source": [
    "**Hints:** \n",
    "* the most efficient way of doing this is with a loop structure\n",
    "* The residuals are the vertical distance between the fitted line and the data point - so you'll need to recalculate the residuals for each fitted line\n",
    "* The `line` function we generated was specific to those values of `p`. So each time the array of polynomial coefficients `p` changes, you'll also need to redefine this function."
   ]
  },
  {
   "cell_type": "code",
   "execution_count": 13,
   "metadata": {
    "collapsed": false
   },
   "outputs": [
    {
     "name": "stdout",
     "output_type": "stream",
     "text": [
      "Coefficient order x^ 1  is  -0.0225382336182  with error  0.000503879579881\n",
      "Coefficient order x^ 0  is  2.07299031339  with error  0.0242307930996\n",
      "Number of degrees of freedom = 24\n",
      "Reduced chi squared = 85.094372428\n",
      "Order of polynomial = 1\n",
      "\n",
      "\n",
      "Coefficient order x^ 2  is  0.000106532356532  with error  1.09201314668e-05\n",
      "Coefficient order x^ 1  is  -0.0315934839235  with error  0.000953759556164\n",
      "Coefficient order x^ 0  is  2.21148237688  with error  0.0176838708696\n",
      "Number of degrees of freedom = 23\n",
      "Reduced chi squared = 16.0510556057\n",
      "Order of polynomial = 2\n",
      "\n",
      "\n",
      "Coefficient order x^ 3  is  2.21566962641e-06  with error  2.81071505362e-07\n",
      "Coefficient order x^ 2  is  -0.000175965520835  with error  3.62594847896e-05\n",
      "Coefficient order x^ 1  is  -0.0216023648771  with error  0.00135608083525\n",
      "Coefficient order x^ 0  is  2.12703434474  with error  0.0139539473574\n",
      "Number of degrees of freedom = 22\n",
      "Reduced chi squared = 4.08582892065\n",
      "Order of polynomial = 3\n",
      "\n",
      "\n",
      "Coefficient order x^ 4  is  -5.58434702474e-08  with error  7.50776417746e-09\n",
      "Coefficient order x^ 3  is  1.17090595685e-05  with error  1.28462085636e-06\n",
      "Coefficient order x^ 2  is  -0.000708831891574  with error  7.40681788176e-05\n",
      "Coefficient order x^ 1  is  -0.01060359453  with error  0.00163750314025\n",
      "Coefficient order x^ 0  is  2.06459209094  with error  0.0110846512308\n",
      "Number of degrees of freedom = 21\n",
      "Reduced chi squared = 1.0942099574\n",
      "Order of polynomial = 4\n",
      "\n",
      "\n",
      "Coefficient order x^ 5  is  -6.54415854223e-10  with error  3.70219624033e-10\n",
      "Coefficient order x^ 4  is  8.32198987751e-08  with error  7.89932228295e-08\n",
      "Coefficient order x^ 3  is  9.83183717744e-07  with error  6.18899718684e-06\n",
      "Coefficient order x^ 2  is  -0.000346015561794  with error  0.000216941710762\n",
      "Coefficient order x^ 1  is  -0.0157003121593  with error  0.00327496582085\n",
      "Coefficient order x^ 0  is  2.086284419  with error  0.0161589498766\n",
      "Number of degrees of freedom = 20\n",
      "Reduced chi squared = 0.978982237061\n",
      "Order of polynomial = 5\n",
      "\n",
      "\n",
      "Coefficient order x^ 6  is  1.28398343418e-11  with error  1.97643113402e-11\n",
      "Coefficient order x^ 5  is  -3.92857361139e-09  with error  5.05392870573e-09\n",
      "Coefficient order x^ 4  is  4.04875257903e-07  with error  5.01591136846e-07\n",
      "Coefficient order x^ 3  is  -1.42719110081e-05  with error  2.43101625958e-05\n",
      "Coefficient order x^ 2  is  1.12042521725e-05  with error  0.000592434740454\n",
      "Coefficient order x^ 1  is  -0.0194404801948  with error  0.00665032871931\n",
      "Coefficient order x^ 0  is  2.09906236021  with error  0.0256250830979\n",
      "Number of degrees of freedom = 19\n",
      "Reduced chi squared = 1.00554399428\n",
      "Order of polynomial = 6\n",
      "\n",
      "\n"
     ]
    }
   ],
   "source": [
    "### STUDENT GENERATED CELL ###\n",
    "\n",
    "degree = 1\n",
    "\n",
    "while degree <= 6: #creates a loop for degree up to 6\n",
    "    p, v = np.polyfit(temp,voltage,degree,cov=True) #recalculates coefficients of polynomial each loop itteration\n",
    "    line = np.poly1d(p) #creates expression for polynomial using above calculated coefficients\n",
    "    \n",
    "    #prints coefficients and their error\n",
    "    for i in range(np.size(p)):\n",
    "        print (\"Coefficient order x^\", len(p)-i-1, \" is \", p[i], \" with error \", np.sqrt(np.diag(v)[i]))\n",
    "    \n",
    "    #recalculates residuals for each loop itteration\n",
    "    resids2 = (voltage - line(temp))/0.006\n",
    "    resids_sqrd2 = resids2**2\n",
    "    sum_resids_sqrd2 = np.sum(resids_sqrd2)\n",
    "\n",
    "    #calculates degrees of freedom and reduced chi squared\n",
    "    dof = len(temp) - len(p)\n",
    "    reduced_chi_sqrd = sum_resids_sqrd2 / dof\n",
    "    \n",
    "    print (\"Number of degrees of freedom =\", dof)\n",
    "    print (\"Reduced chi squared =\", reduced_chi_sqrd)\n",
    "    print (\"Order of polynomial =\", len(p)-1)\n",
    "    print (\"\\n\")\n",
    "    \n",
    "    #increases degrees each loop\n",
    "    degree = degree + 1"
   ]
  },
  {
   "cell_type": "markdown",
   "metadata": {},
   "source": [
    "<div class=\"alert alert-success\"> Which order of fitted polynomial would you use to parameterize the relationship between voltage and temperature for this sensor? <br> \n",
    "Give the reasons for your choice in a text cell. <br> Then plot the fitted line for the polynomial you think best represents the data, together with the original data, on a labelled graph</div>\n",
    "\n"
   ]
  },
  {
   "cell_type": "markdown",
   "metadata": {},
   "source": [
    "STUDENT COMPLETED TEXT CELL"
   ]
  },
  {
   "cell_type": "code",
   "execution_count": 14,
   "metadata": {
    "collapsed": false
   },
   "outputs": [
    {
     "data": {
      "text/plain": [
       "<matplotlib.legend.Legend at 0x82809b0>"
      ]
     },
     "execution_count": 14,
     "metadata": {},
     "output_type": "execute_result"
    },
    {
     "data": {
      "image/png": "[encoded data removed]",
      "text/plain": [
       "<matplotlib.figure.Figure at 0x81d0f98>"
      ]
     },
     "metadata": {},
     "output_type": "display_data"
    }
   ],
   "source": [
    "### STUDENT GENERATED CELL ###\n",
    "\n",
    "#An order 6 polynomial would be best because it has a chi-squared value closest to 1.\n",
    "\n",
    "degree = 6\n",
    "p, v = np.polyfit(temp,voltage,degree,cov=True)\n",
    "line = np.poly1d(p)\n",
    "y = line(x)\n",
    "\n",
    "plt.plot(x,y,'r-', label = \"poly fit\")\n",
    "plt.plot(temp, voltage, 'b.', label = \"experimental data\")\n",
    "\n",
    "plt.title(\"Voltage varying with temperature\")\n",
    "plt.xlabel(\"temp ($ \\degree C$)\")\n",
    "plt.ylabel(\"voltage ($V$)\")\n",
    "plt.legend()"
   ]
  },
  {
   "cell_type": "markdown",
   "metadata": {},
   "source": [
    "## Fitting the residuals to a Gaussian"
   ]
  },
  {
   "cell_type": "markdown",
   "metadata": {},
   "source": [
    "It would be interesting to have a closer look at the residuals. In theory, they should follow a Gaussian (normal) distribution. Do they?\n",
    "\n",
    "Fit the residuals to a Gaussian using scipy.stats (following the same process as we did in session 2), and plot them as a histogram together with the fitted Gaussian."
   ]
  },
  {
   "cell_type": "markdown",
   "metadata": {},
   "source": [
    "<div class=\"alert alert-success\">Do you think that these residuals match the expected distribution?\n",
    "What relation do you notice between the width of the Gaussian and the experimental error on the voltage reading estimated by the student who did this experiment? Explain in a text cell.</div>"
   ]
  },
  {
   "cell_type": "code",
   "execution_count": 15,
   "metadata": {
    "collapsed": false
   },
   "outputs": [
    {
     "name": "stdout",
     "output_type": "stream",
     "text": [
      "Standard deviation = 0.00514330069151\n"
     ]
    },
    {
     "data": {
      "image/png": "[encoded data removed]",
      "text/plain": [
       "<matplotlib.figure.Figure at 0x83166a0>"
      ]
     },
     "metadata": {},
     "output_type": "display_data"
    }
   ],
   "source": [
    "### STUDENT GENERATED CELL ###\n",
    "\n",
    "import scipy.stats as stats\n",
    "\n",
    "#calculates residuals\n",
    "resids = voltage - line(temp)\n",
    "\n",
    "#creates array for plotting fitted gaussian line\n",
    "x = np.linspace(-0.02,0.02,100)\n",
    "\n",
    "x0, sigma = stats.norm.fit(resids) #finds mean and standard deviation for data\n",
    "gaussian = stats.norm.pdf(x,x0,sigma) #calculates gaussian distribution\n",
    "\n",
    "plt.hist(resids, normed=True,alpha=0.25)\n",
    "plt.plot(x,gaussian,'r-',)\n",
    "\n",
    "plt.xlabel('Calculated residual')\n",
    "plt.ylabel('Normalised frequency')\n",
    "title_label=('Gaussian distribution of residuals')\n",
    "\n",
    "plt.title(title_label)\n",
    "\n",
    "print (\"Standard deviation =\", sigma)\n"
   ]
  },
  {
   "cell_type": "markdown",
   "metadata": {},
   "source": [
    "The residuals do match the expected distribution because as can be seen from the graph above, they resemble a gaussian distribution.\n",
    "\n",
    "Also the estimated error of 0.006 is very close to the standard deviation (0.00"
   ]
  },
  {
   "cell_type": "markdown",
   "metadata": {},
   "source": [
    "### What's coming next"
   ]
  },
  {
   "cell_type": "markdown",
   "metadata": {},
   "source": [
    "In this session we've seen how to fit data in a general case when we don't already know from a theoretical model what function we want to fit to. In the next session, we'll be looking at how to to use Python fit a line when we know what function we want to fit the data to."
   ]
  },
  {
   "cell_type": "code",
   "execution_count": null,
   "metadata": {
    "collapsed": false
   },
   "outputs": [],
   "source": []
  }
 ],
 "metadata": {
  "anaconda-cloud": {},
  "kernelspec": {
   "display_name": "Python [Root]",
   "language": "python",
   "name": "Python [Root]"
  },
  "language_info": {
   "codemirror_mode": {
    "name": "ipython",
    "version": 3
   },
   "file_extension": ".py",
   "mimetype": "text/x-python",
   "name": "python",
   "nbconvert_exporter": "python",
   "pygments_lexer": "ipython3",
   "version": "3.5.2"
  }
 },
 "nbformat": 4,
 "nbformat_minor": 0
}
