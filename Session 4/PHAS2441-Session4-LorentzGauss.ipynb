{
 "cells": [
  {
   "cell_type": "markdown",
   "metadata": {},
   "source": [
    "# Session 4: Fitting to arbitrary functions"
   ]
  },
  {
   "cell_type": "markdown",
   "metadata": {},
   "source": [
    "<div class=\"alert alert-success\"> <p>*  **Intended learning outcomes:** * </p>\n",
    "By the end of this session, you should be able to:\n",
    "<ul>\n",
    "<li> fit data to any arbitrary function using scipy.optimize.curve_fit; </li>\n",
    "<li> quantitatively evaluate the goodness of fit;  </li>\n",
    "<li> reach physical conclusions based on these results. </li>\n",
    "</div>"
   ]
  },
  {
   "cell_type": "markdown",
   "metadata": {},
   "source": [
    "We've already seen how to fit histograms to a Gaussian, and how to use a polynomial to fit a set of data. The last thing we're going to do in this Data Analysis part of the course is to see how to perform a fit to an arbitrary function. "
   ]
  },
  {
   "cell_type": "markdown",
   "metadata": {},
   "source": [
    "In these examples, we'll be looking at whether a Lorentzian or Gaussian functions provide a better fit to some optical lineshape data. However, you can use the same method to fit *any* function, provided you can write a suitable Python function to describe your target \"fit\" function."
   ]
  },
  {
   "cell_type": "markdown",
   "metadata": {},
   "source": [
    "### Context for this example"
   ]
  },
  {
   "cell_type": "markdown",
   "metadata": {},
   "source": [
    "The data we'll use for this session is taken from the Lab 3 Zeeman effect experiment, which some of you will do yourselves in PHAS3440. \n",
    "\n",
    "The Zeeman effect occurs when a spectral line is split into different components by a magnetic field. The physics of the Zeeman effect will be covered in detail in PHAS2224 \"Atomic and Molecular Physics\".\n",
    "\n",
    "The Lab 3 experiment examines how the lines in the emission spectrum of a mercury discharge lamp split under a magnetic field. The student records the spectrum using a CCD camera, which yields data in the form of recorded intensity (in counts per second) vs pixel position (in pixels). \n",
    "\n",
    "We're not going to be considering the *positions* of the spectral lines in this task, instead we're going to be looking at the *lineshapes*. Rather than a spectral line with a single energy, the line is broadened into a wider peak by various physical effects. For example, the uncertainty principle leads to broadening which has a Lorentzian form, while there will also be thermal broadening effects, which are Gaussian in nature (there are also several other sources of broadening, with different effects). In theory, for this experiment, Lorentzian broadening is expected to dominate.\n",
    "\n",
    "In this task we will look at an experimental spectral line recorded by a student in the Lab 3 experiment, fit it to both a Gaussian and Lorentzian, and determine which provides a better fit."
   ]
  },
  {
   "cell_type": "markdown",
   "metadata": {},
   "source": [
    "### Getting started with the code"
   ]
  },
  {
   "cell_type": "markdown",
   "metadata": {},
   "source": [
    "First, we'll import the modules we will need. The new function we import in the cell below comes from the scipy.optimize library - more on this later, when we come to use it. "
   ]
  },
  {
   "cell_type": "code",
   "execution_count": null,
   "metadata": {
    "collapsed": false
   },
   "outputs": [],
   "source": [
    "import numpy as np\n",
    "import matplotlib.pyplot as plt\n",
    "import scipy.stats as stats\n",
    "from scipy.optimize import curve_fit # we're importing just this one function from scipy.optimize\n",
    "%matplotlib inline"
   ]
  },
  {
   "cell_type": "markdown",
   "metadata": {},
   "source": [
    "Now we can import the csv (Comma Separated Value) file with the data the student collected, and plot it. You will need to download this file from Moodle, and as usual, put it in the same directory as this notebook."
   ]
  },
  {
   "cell_type": "code",
   "execution_count": null,
   "metadata": {
    "collapsed": false
   },
   "outputs": [],
   "source": [
    "xdata,ydata = np.loadtxt('Zeeman_data.csv',delimiter=\",\",unpack=True)\n",
    "plt.plot(xdata,ydata, 'bo')\n",
    "plt.xlabel(\"Pixel position\")\n",
    "plt.ylabel(\"Pixel value (counts/second)\")\n",
    "plt.title(\"Data from Zeeman effect experiment\")"
   ]
  },
  {
   "cell_type": "markdown",
   "metadata": {},
   "source": [
    "We can see that we have a single peak with a constant background level. It looks feasible to attempt fitting this to a Gaussian.\n",
    "\n",
    "\n",
    "In order to use curve_fit to fit this to a Gaussian, we need to write a \"target\" function to fit to, which in this case will be\n",
    "\n",
    "\n",
    "$$\n",
    "f(x) = y_0 + h \\exp \\left(\\frac{-(x-x_0)^2}{2 \\sigma^2}\\right)\n",
    "$$\n",
    "\n",
    "(This is a slightly different definition than the one we used when we were fitting histograms to Gaussians in Session 2. Can you see why?)\n",
    "\n",
    "The parameters for our Gaussian fit will be the mean value (`x0`), the standard deviation (`sigma`), the background value `y0` and the peak height, `h`. Here is a function that will do exactly this."
   ]
  },
  {
   "cell_type": "code",
   "execution_count": null,
   "metadata": {
    "collapsed": false
   },
   "outputs": [],
   "source": [
    "def gaussian(x,x0,sigma, y0, h):\n",
    "    '''Returns a 1D array of function values for \n",
    "    - input array of x-values: x\n",
    "    - mean value of distribution: x0\n",
    "    - standard deviation of distribution: sigma\n",
    "    - background value y0\n",
    "    - peak height, h (measured from background level y0'''\n",
    "    gauss = h * np.exp(-(x-x0)**2/(2*sigma**2)) + y0 # the gaussian itself\n",
    "    return gauss"
   ]
  },
  {
   "cell_type": "markdown",
   "metadata": {},
   "source": [
    "The three parameters, x0, y0 and sigma, are (as yet) unknown. To find them, we use the scipy.optimize.curve_fit function. The full documentation for this is here: http://docs.scipy.org/doc/scipy/reference/generated/scipy.optimize.curve_fit.html#scipy.optimize.curve_fit\n",
    "\n",
    "We're going to do this in the simplest way possible for the moment, by just sending curve_fit the target function (our \"gaussian\" function), the independent variable (xdata) and the dependent variable (ydata). We can also, optionally, choose to send an initial guess of the parameters, as well as weightings for each of the ydata data points, but for the moment we won't do that.\n",
    "\n",
    "The curve_fit routine returns two arrays. \n",
    " * The first of these is an array of the fitted parameters - in our case this array will have four elements, as we have four parameters, x0, sigma, y0, and h.\n",
    " * The second is the matrix of covariance - an indication of the goodness of fit. We covered this in Session 3 when we were doing polynomial fitting.\n",
    " \n",
    " Let's do this, and see what results we get back:"
   ]
  },
  {
   "cell_type": "code",
   "execution_count": null,
   "metadata": {
    "collapsed": false
   },
   "outputs": [],
   "source": [
    "#popt: Optimized parameters\n",
    "#pcov: matrix of covariance.\n",
    "popt,pcov = curve_fit(gaussian,xdata,ydata)\n",
    "\n",
    "print (\"popt :\\n\", popt)\n",
    "print (\"pcov :\\n\", pcov)"
   ]
  },
  {
   "cell_type": "markdown",
   "metadata": {},
   "source": [
    "We can see that this hasn't worked so well - curve_fit hasn't been able to find a fit to the data.\n",
    "\n",
    "Instead, we'll try to make life easier for curve_fit by giving an initial guess for the parameters. From looking at the plot of the data, we can see that the peak is at around $x=75$, and the background around $y=3.5$. We'll try a value of 10 for $\\sigma$. These values need to be given in the form of a python list of numbers, in the same order as parameters are given to our \"gaussian\" function. Remember - in Python we use `[` square brackets `]` to define a list, with the elements separated by commas."
   ]
  },
  {
   "cell_type": "code",
   "execution_count": null,
   "metadata": {
    "collapsed": false
   },
   "outputs": [],
   "source": [
    "guess = [75,10,3.5,18] # list of initial guess parameters\n",
    "# what type of object does the variable \"guess\" represent?\n",
    "print (\"The variable 'guess' is a \", type(guess) )"
   ]
  },
  {
   "cell_type": "markdown",
   "metadata": {},
   "source": [
    "Now we can retry the fit:"
   ]
  },
  {
   "cell_type": "code",
   "execution_count": null,
   "metadata": {
    "collapsed": false
   },
   "outputs": [],
   "source": [
    "popt,pcov = curve_fit(gaussian,xdata,ydata,p0=guess)\n",
    "print (\"popt :\\n\", popt)\n",
    "print (\"pcov :\\n\", pcov)"
   ]
  },
  {
   "cell_type": "markdown",
   "metadata": {},
   "source": [
    "This has worked (or it should have done)! We can use the information from the matrix of covariance to calculate the error on each parameter, just as we did in the previous session for the polynomial coefficients. Remember, the error on the parameters are given by the *square roots* of the diagonal elements of the matrix of covariance."
   ]
  },
  {
   "cell_type": "markdown",
   "metadata": {},
   "source": [
    "\n",
    "**A python aside / hint: ** When dealing with an array like `popt` that contains numbers each representing different variables, it's sometimes useful to be able to \"unpack\" the array into different variables - we've already seen examples of this in the code cell above and in the second code cell when unpacking the data from the file. To unpack `popt`, we could use a line of code like:\n",
    "\n",
    "           x0_fit, sigma_fit, y0_fit, h_fit = popt\n",
    "\n",
    "If we wanted to then calculate the fitted line at a given x-value (in this case at x = 65), we could then use something like:\n",
    "        \n",
    "           fitted_point = gaussian(65, x0_fit, sigma_fit, y0_fit, h_fit)\n",
    "           \n",
    "or, if we don't want/need to assign individual variable names to the elements of `popt` (or whichever array we are dealing with), we could use:\n",
    "\n",
    "           fitted_point = gaussian(65, popt[0], popt[1], popt[2], popt[3])\n",
    "           \n",
    "This is a bit unwieldy though, so sometimes it's useful to be able to unpack the array automatically when calling a function by using \\* syntax, like this:\n",
    "\n",
    "           fitted_point = gaussian(65, *popt)\n",
    "This is much easier to deal with! You can find a fuller discussion of this in [Hill: Learning Scientific Programming with Python](http://sfx.ucl.ac.uk/sfx_local?ctx_ver=Z39.88-2004&ctx_enc=info:ofi/enc:UTF-8&ctx_tim=2016-07-18T13%3A15%3A47IST&url_ver=Z39.88-2004&url_ctx_fmt=infofi/fmt:kev:mtx:ctx&rfr_id=info:sid/primo.exlibrisgroup.com:primo3-Journal-UCL_LMS_DS&rft_val_fmt=info:ofi/fmt:kev:mtx:book&rft.genre=book&rft.atitle=&rft.jtitle=&rft.btitle=Learning%20scientific%20programming%20with%20Python&rft.aulast=Hill&rft.auinit=&rft.auinit1=&rft.auinitm=&rft.ausuffix=&rft.au=Hill,%20Christian,%201974-,%20author&rft.aucorp=&rft.volume=&rft.issue=&rft.part=&rft.quarter=&rft.ssn=&rft.spage=&rft.epage=&rft.pages=&rft.artnum=&rft.issn=&rft.eissn=&rft.isbn=9781107075412&rft.sici=&rft.coden=&rft_id=info:doi/&rft.object_id=&rft.856_url=&rft_dat=%3CUCL_LMS_DS%3E002240476%3C/UCL_LMS_DS%3E&rft.eisbn=&rft_id=info:oai/&req.language=eng) section 2.4.3 (page 49).\n",
    "\n",
    "The code cell below demonstrates that the two methods do give identical results:"
   ]
  },
  {
   "cell_type": "code",
   "execution_count": null,
   "metadata": {
    "collapsed": false
   },
   "outputs": [],
   "source": [
    "# specifying the elements by hand:\n",
    "print(\"At x = 65 our fitted Gaussian has a value of: \", gaussian(65, popt[0], popt[1], popt[2], popt[3]))\n",
    "\n",
    "# use *syntax to unpack the elements of popt automatically:\n",
    "print(\"Calculating the same value using * syntax:    \", gaussian(65,*popt)) \n",
    "print(\"Both give the same result!\")"
   ]
  },
  {
   "cell_type": "markdown",
   "metadata": {},
   "source": [
    "<div class=\"alert alert-success\"> \n",
    "In the cell below, you should:\n",
    "<ul>\n",
    "<li> calculate the errors on the parameters </li>\n",
    "<li>output each parameter with its error and an appropriate text string </li>\n",
    "<li>plot the original data and the fitted line on a single, appropriately labelled graph </li>\n",
    "</ul>\n",
    "</div>"
   ]
  },
  {
   "cell_type": "code",
   "execution_count": null,
   "metadata": {
    "collapsed": false
   },
   "outputs": [],
   "source": [
    "### STUDENT COMPLETED CELL ###\n"
   ]
  },
  {
   "cell_type": "markdown",
   "metadata": {},
   "source": [
    "If you've done this correctly, you should obtain a good fit to the data.\n",
    "\n",
    "In theory we'd expect a Lorentzian to produce a better fit for this data. Now you're going to try this out and see if this is what we find for this particular data set!\n",
    "\n",
    "The appropriate form for this is \n",
    "$$\n",
    "f(x) = y_0 + \\frac{h}{1 + ((x - x_0)/b)^2}\n",
    "$$\n",
    "where $y_0$ is the background level, $x_0$ is the peak position and $b$ is the half-width at half-maximum (HWHM) of the peak."
   ]
  },
  {
   "cell_type": "markdown",
   "metadata": {},
   "source": [
    "<div class=\"alert alert-success\"> \n",
    "First, write a properly formatted python function, similar in form to the \"gaussian\" function above, that will return a Lorentzian function for these parameters.\n",
    "</div>"
   ]
  },
  {
   "cell_type": "code",
   "execution_count": null,
   "metadata": {
    "collapsed": false
   },
   "outputs": [],
   "source": [
    "### STUDENT COMPLETED CELL ###\n"
   ]
  },
  {
   "cell_type": "markdown",
   "metadata": {},
   "source": [
    "<div class=\"alert alert-success\"> \n",
    "Now provide an initial guess for these parameters, and use curve_fit to calculate the best Lorentzian fit for this data. Output the calculated parameters and the matrix of covariance, just like we did for the Gaussian fit.\n",
    "</div>"
   ]
  },
  {
   "cell_type": "code",
   "execution_count": null,
   "metadata": {
    "collapsed": false
   },
   "outputs": [],
   "source": [
    "### STUDENT COMPLETED CELL ###\n"
   ]
  },
  {
   "cell_type": "markdown",
   "metadata": {},
   "source": [
    "<div class=\"alert alert-success\"> \n",
    "Now use these results to\n",
    "<ul>\n",
    "<li>calculate the error on each parameter</li>\n",
    "<li>output each parameter with its error (and an appropriate text string)</li>\n",
    "<li>plot the data, the fitted Gaussian and the fitted Lorentzian, all on the same labelled graph.</li>\n",
    "</ul>\n",
    "</div>"
   ]
  },
  {
   "cell_type": "code",
   "execution_count": null,
   "metadata": {
    "collapsed": false
   },
   "outputs": [],
   "source": [
    "### STUDENT COMPLETED CELL ###\n"
   ]
  },
  {
   "cell_type": "markdown",
   "metadata": {},
   "source": [
    "### Evaluating the goodness of fit\n",
    "\n",
    "So now we have two potential fits to our data. Looking at them, it's hard to tell which one provides the better fit. We can do this quantitatively by calculating $\\chi^2$ for each fit, in the same way as we did in the previous session. \n",
    "\n",
    "We'll also need to know the y-error on the data points for this - which for this experiment were estimated to be $\\pm 1$ counts/second."
   ]
  },
  {
   "cell_type": "markdown",
   "metadata": {},
   "source": [
    "#### 1. Gaussian.\n",
    "\n",
    "First we'll look at the Gaussian fit. \n",
    "\n",
    "<div class=\"alert alert-success\"> \n",
    "In the cell below, \n",
    "<ul>\n",
    "<li>calculate the residuals divided by the y-error</li>\n",
    "<li>calculate the number of degrees of freedom</li>\n",
    "<li>hence calculate $\\chi^2$ for the Gaussian fit.</li>\n",
    "</ul>\n",
    "(Refer back to the previous session if you need a reminder of any of the definitions)\n",
    "</div>\n"
   ]
  },
  {
   "cell_type": "code",
   "execution_count": null,
   "metadata": {
    "collapsed": false
   },
   "outputs": [],
   "source": [
    "### STUDENT COMPLETED CELL ###\n"
   ]
  },
  {
   "cell_type": "markdown",
   "metadata": {},
   "source": [
    "#### 2. Lorentzian\n",
    "\n",
    "<div class=\"alert alert-success\"> Now do the same for the Lorentzian fit, in the cell below.</div>"
   ]
  },
  {
   "cell_type": "code",
   "execution_count": null,
   "metadata": {
    "collapsed": false
   },
   "outputs": [],
   "source": [
    "### STUDENT COMPLETED CELL ###\n"
   ]
  },
  {
   "cell_type": "markdown",
   "metadata": {},
   "source": [
    "<div class=\"alert alert-success\">\n",
    "<b> Are these the results you'd expect? Discuss briefly in a text cell.</b>\n",
    "</div>"
   ]
  },
  {
   "cell_type": "markdown",
   "metadata": {},
   "source": [
    "### COMPLETE THIS TEXT CELL ###"
   ]
  },
  {
   "cell_type": "markdown",
   "metadata": {},
   "source": [
    "### Analysing the residuals\n",
    "\n",
    "Another way of verifying the validity of our fits is to check the distribution of the residuals, and see if they follow a normal (Gaussian) distribution. Again, follow the same procedure as we did in the previous session and check the distribution of the calculated residuals for both fits. \n",
    "\n",
    "\n",
    "\n",
    "\n",
    "<div class=\"alert alert-success\">\n",
    "Do this in the code cells below. \n",
    "<br>You can copy, paste and edit code from Session 3 if you want, rather than writing this from scratch. \n",
    "<br>Then, use a text cell to discuss (briefly) what you conclude from these results.\n",
    "</div>"
   ]
  },
  {
   "cell_type": "code",
   "execution_count": null,
   "metadata": {
    "collapsed": false
   },
   "outputs": [],
   "source": [
    "### STUDENT COMPLETED CELL ###\n"
   ]
  },
  {
   "cell_type": "code",
   "execution_count": null,
   "metadata": {
    "collapsed": false
   },
   "outputs": [],
   "source": [
    "### STUDENT COMPLETED CELL ###\n"
   ]
  },
  {
   "cell_type": "markdown",
   "metadata": {},
   "source": [
    "### COMPLETE THIS TEXT CELL ###"
   ]
  },
  {
   "cell_type": "code",
   "execution_count": null,
   "metadata": {
    "collapsed": true
   },
   "outputs": [],
   "source": []
  }
 ],
 "metadata": {
  "anaconda-cloud": {},
  "kernelspec": {
   "display_name": "Python [conda root]",
   "language": "python",
   "name": "conda-root-py"
  },
  "language_info": {
   "codemirror_mode": {
    "name": "ipython",
    "version": 3
   },
   "file_extension": ".py",
   "mimetype": "text/x-python",
   "name": "python",
   "nbconvert_exporter": "python",
   "pygments_lexer": "ipython3",
   "version": "3.5.2"
  }
 },
 "nbformat": 4,
 "nbformat_minor": 0
}
