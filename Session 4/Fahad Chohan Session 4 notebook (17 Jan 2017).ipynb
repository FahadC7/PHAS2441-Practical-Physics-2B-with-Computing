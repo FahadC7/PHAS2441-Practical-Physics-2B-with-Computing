{
 "cells": [
  {
   "cell_type": "markdown",
   "metadata": {},
   "source": [
    "# PHAS2441 Session 3:  Fitting to arbitrary functions\n",
    "\n",
    "Fahad Chohan\n",
    "Last updated: 17/01/17"
   ]
  },
  {
   "cell_type": "markdown",
   "metadata": {},
   "source": [
    "<div class=\"alert alert-success\"> <p>*  **Intended learning outcomes:** * </p>\n",
    "By the end of this session, you should be able to:\n",
    "<ul>\n",
    "<li> fit data to any arbitrary function using scipy.optimize.curve_fit; </li>\n",
    "<li> quantitatively evaluate the goodness of fit;  </li>\n",
    "<li> reach physical conclusions based on these results. </li>\n",
    "</div>"
   ]
  },
  {
   "cell_type": "markdown",
   "metadata": {},
   "source": [
    "We've already seen how to fit histograms to a Gaussian, and how to use a polynomial to fit a set of data. The last thing we're going to do in this Data Analysis part of the course is to see how to perform a fit to an arbitrary function. "
   ]
  },
  {
   "cell_type": "markdown",
   "metadata": {},
   "source": [
    "In these examples, we'll be looking at whether a Lorentzian or Gaussian functions provide a better fit to some optical lineshape data. However, you can use the same method to fit *any* function, provided you can write a suitable Python function to describe your target \"fit\" function."
   ]
  },
  {
   "cell_type": "markdown",
   "metadata": {},
   "source": [
    "### Context for this example"
   ]
  },
  {
   "cell_type": "markdown",
   "metadata": {},
   "source": [
    "The data we'll use for this session is taken from the Lab 3 Zeeman effect experiment, which some of you will do yourselves in PHAS3440. \n",
    "\n",
    "The Zeeman effect occurs when a spectral line is split into different components by a magnetic field. The physics of the Zeeman effect will be covered in detail in PHAS2224 \"Atomic and Molecular Physics\".\n",
    "\n",
    "The Lab 3 experiment examines how the lines in the emission spectrum of a mercury discharge lamp split under a magnetic field. The student records the spectrum using a CCD camera, which yields data in the form of recorded intensity (in counts per second) vs pixel position (in pixels). \n",
    "\n",
    "We're not going to be considering the *positions* of the spectral lines in this task, instead we're going to be looking at the *lineshapes*. Rather than a spectral line with a single energy, the line is broadened into a wider peak by various physical effects. For example, the uncertainty principle leads to broadening which has a Lorentzian form, while there will also be thermal broadening effects, which are Gaussian in nature (there are also several other sources of broadening, with different effects). In theory, for this experiment, Lorentzian broadening is expected to dominate.\n",
    "\n",
    "In this task we will look at an experimental spectral line recorded by a student in the Lab 3 experiment, fit it to both a Gaussian and Lorentzian, and determine which provides a better fit."
   ]
  },
  {
   "cell_type": "markdown",
   "metadata": {},
   "source": [
    "### Getting started with the code"
   ]
  },
  {
   "cell_type": "markdown",
   "metadata": {},
   "source": [
    "First, we'll import the modules we will need. The new function we import in the cell below comes from the scipy.optimize library - more on this later, when we come to use it. "
   ]
  },
  {
   "cell_type": "code",
   "execution_count": 1,
   "metadata": {
    "collapsed": false
   },
   "outputs": [],
   "source": [
    "import numpy as np\n",
    "import matplotlib.pyplot as plt\n",
    "import scipy.stats as stats\n",
    "from scipy.optimize import curve_fit # we're importing just this one function from scipy.optimize\n",
    "%matplotlib inline"
   ]
  },
  {
   "cell_type": "markdown",
   "metadata": {},
   "source": [
    "Now we can import the csv (Comma Separated Value) file with the data the student collected, and plot it. You will need to download this file from Moodle, and as usual, put it in the same directory as this notebook."
   ]
  },
  {
   "cell_type": "code",
   "execution_count": 2,
   "metadata": {
    "collapsed": false
   },
   "outputs": [
    {
     "data": {
      "text/plain": [
       "<matplotlib.text.Text at 0x8678780>"
      ]
     },
     "execution_count": 2,
     "metadata": {},
     "output_type": "execute_result"
    },
    {
     "data": {
      "image/png": "[encoded data removed]",
      "text/plain": [
       "<matplotlib.figure.Figure at 0x851b0b8>"
      ]
     },
     "metadata": {},
     "output_type": "display_data"
    }
   ],
   "source": [
    "xdata,ydata = np.loadtxt('Zeeman_data.csv',delimiter=\",\",unpack=True)\n",
    "plt.plot(xdata,ydata, 'bo')\n",
    "plt.xlabel(\"Pixel position\")\n",
    "plt.ylabel(\"Pixel value (counts/second)\")\n",
    "plt.title(\"Data from Zeeman effect experiment\")"
   ]
  },
  {
   "cell_type": "markdown",
   "metadata": {},
   "source": [
    "We can see that we have a single peak with a constant background level. It looks feasible to attempt fitting this to a Gaussian.\n",
    "\n",
    "\n",
    "In order to use curve_fit to fit this to a Gaussian, we need to write a \"target\" function to fit to, which in this case will be\n",
    "\n",
    "\n",
    "$$\n",
    "f(x) = y_0 + h \\exp \\left(\\frac{-(x-x_0)^2}{2 \\sigma^2}\\right)\n",
    "$$\n",
    "\n",
    "(This is a slightly different definition than the one we used when we were fitting histograms to Gaussians in Session 2. Can you see why?)\n",
    "\n",
    "The parameters for our Gaussian fit will be the mean value (`x0`), the standard deviation (`sigma`), the background value `y0` and the peak height, `h`. Here is a function that will do exactly this."
   ]
  },
  {
   "cell_type": "code",
   "execution_count": 3,
   "metadata": {
    "collapsed": false
   },
   "outputs": [],
   "source": [
    "def gaussian(x,x0,sigma, y0, h):\n",
    "    '''Returns a 1D array of function values for \n",
    "    - input array of x-values: x\n",
    "    - mean value of distribution: x0\n",
    "    - standard deviation of distribution: sigma\n",
    "    - background value y0\n",
    "    - peak height, h (measured from background level y0'''\n",
    "    gauss = h * np.exp(-(x-x0)**2/(2*sigma**2)) + y0 # the gaussian itself\n",
    "    return gauss"
   ]
  },
  {
   "cell_type": "markdown",
   "metadata": {},
   "source": [
    "The three parameters, x0, y0 and sigma, are (as yet) unknown. To find them, we use the scipy.optimize.curve_fit function. The full documentation for this is here: http://docs.scipy.org/doc/scipy/reference/generated/scipy.optimize.curve_fit.html#scipy.optimize.curve_fit\n",
    "\n",
    "We're going to do this in the simplest way possible for the moment, by just sending curve_fit the target function (our \"gaussian\" function), the independent variable (xdata) and the dependent variable (ydata). We can also, optionally, choose to send an initial guess of the parameters, as well as weightings for each of the ydata data points, but for the moment we won't do that.\n",
    "\n",
    "The curve_fit routine returns two arrays. \n",
    " * The first of these is an array of the fitted parameters - in our case this array will have four elements, as we have four parameters, x0, sigma, y0, and h.\n",
    " * The second is the matrix of covariance - an indication of the goodness of fit. We covered this in Session 3 when we were doing polynomial fitting.\n",
    " \n",
    " Let's do this, and see what results we get back:"
   ]
  },
  {
   "cell_type": "code",
   "execution_count": 4,
   "metadata": {
    "collapsed": false
   },
   "outputs": [
    {
     "name": "stdout",
     "output_type": "stream",
     "text": [
      "popt :\n",
      " [ 1.          1.          5.30499999  1.        ]\n",
      "pcov :\n",
      " [[ inf  inf  inf  inf]\n",
      " [ inf  inf  inf  inf]\n",
      " [ inf  inf  inf  inf]\n",
      " [ inf  inf  inf  inf]]\n"
     ]
    },
    {
     "name": "stderr",
     "output_type": "stream",
     "text": [
      "Q:\\Ancond41.126\\VFS\\Anaconda3\\lib\\site-packages\\scipy\\optimize\\minpack.py:690: OptimizeWarning: Covariance of the parameters could not be estimated\n",
      "  category=OptimizeWarning)\n"
     ]
    }
   ],
   "source": [
    "#popt: Optimized parameters\n",
    "#pcov: matrix of covariance.\n",
    "popt,pcov = curve_fit(gaussian,xdata,ydata)\n",
    "\n",
    "print (\"popt :\\n\", popt)\n",
    "print (\"pcov :\\n\", pcov)"
   ]
  },
  {
   "cell_type": "markdown",
   "metadata": {},
   "source": [
    "We can see that this hasn't worked so well - curve_fit hasn't been able to find a fit to the data.\n",
    "\n",
    "Instead, we'll try to make life easier for curve_fit by giving an initial guess for the parameters. From looking at the plot of the data, we can see that the peak is at around $x=75$, and the background around $y=3.5$. We'll try a value of 10 for $\\sigma$. These values need to be given in the form of a python list of numbers, in the same order as parameters are given to our \"gaussian\" function. Remember - in Python we use `[` square brackets `]` to define a list, with the elements separated by commas."
   ]
  },
  {
   "cell_type": "code",
   "execution_count": 5,
   "metadata": {
    "collapsed": false
   },
   "outputs": [
    {
     "name": "stdout",
     "output_type": "stream",
     "text": [
      "The variable 'guess' is a  <class 'list'>\n"
     ]
    }
   ],
   "source": [
    "guess = [75,10,3.5,18] # list of initial guess parameters\n",
    "# what type of object does the variable \"guess\" represent?\n",
    "print (\"The variable 'guess' is a \", type(guess) )"
   ]
  },
  {
   "cell_type": "markdown",
   "metadata": {},
   "source": [
    "Now we can retry the fit:"
   ]
  },
  {
   "cell_type": "code",
   "execution_count": 6,
   "metadata": {
    "collapsed": false
   },
   "outputs": [
    {
     "name": "stdout",
     "output_type": "stream",
     "text": [
      "popt :\n",
      " [ 72.50930905   3.01525268   3.85742572  13.40680375]\n",
      "pcov :\n",
      " [[  2.02507205e-03  -3.74999230e-10   4.61324597e-12   1.63272286e-09]\n",
      " [ -3.74999230e-10   2.22561783e-03  -6.30519907e-04  -4.05620889e-03]\n",
      " [  4.61324597e-12  -6.30519907e-04   1.98236679e-03  -1.40174504e-03]\n",
      " [  1.63272286e-09  -4.05620889e-03  -1.40174504e-03   3.10175059e-02]]\n"
     ]
    }
   ],
   "source": [
    "popt,pcov = curve_fit(gaussian,xdata,ydata,p0=guess)\n",
    "print (\"popt :\\n\", popt)\n",
    "print (\"pcov :\\n\", pcov)"
   ]
  },
  {
   "cell_type": "markdown",
   "metadata": {},
   "source": [
    "This has worked (or it should have done)! We can use the information from the matrix of covariance to calculate the error on each parameter, just as we did in the previous session for the polynomial coefficients. Remember, the error on the parameters are given by the *square roots* of the diagonal elements of the matrix of covariance."
   ]
  },
  {
   "cell_type": "markdown",
   "metadata": {},
   "source": [
    "\n",
    "**A python aside / hint: ** When dealing with an array like `popt` that contains numbers each representing different variables, it's sometimes useful to be able to \"unpack\" the array into different variables - we've already seen examples of this in the code cell above and in the second code cell when unpacking the data from the file. To unpack `popt`, we could use a line of code like:\n",
    "\n",
    "           x0_fit, sigma_fit, y0_fit, h_fit = popt\n",
    "\n",
    "If we wanted to then calculate the fitted line at a given x-value (in this case at x = 65), we could then use something like:\n",
    "        \n",
    "           fitted_point = gaussian(65, x0_fit, sigma_fit, y0_fit, h_fit)\n",
    "           \n",
    "or, if we don't want/need to assign individual variable names to the elements of `popt` (or whichever array we are dealing with), we could use:\n",
    "\n",
    "           fitted_point = gaussian(65, popt[0], popt[1], popt[2], popt[3])\n",
    "           \n",
    "This is a bit unwieldy though, so sometimes it's useful to be able to unpack the array automatically when calling a function by using \\* syntax, like this:\n",
    "\n",
    "           fitted_point = gaussian(65, *popt)\n",
    "This is much easier to deal with! You can find a fuller discussion of this in [Hill: Learning Scientific Programming with Python](http://sfx.ucl.ac.uk/sfx_local?ctx_ver=Z39.88-2004&ctx_enc=info:ofi/enc:UTF-8&ctx_tim=2016-07-18T13%3A15%3A47IST&url_ver=Z39.88-2004&url_ctx_fmt=infofi/fmt:kev:mtx:ctx&rfr_id=info:sid/primo.exlibrisgroup.com:primo3-Journal-UCL_LMS_DS&rft_val_fmt=info:ofi/fmt:kev:mtx:book&rft.genre=book&rft.atitle=&rft.jtitle=&rft.btitle=Learning%20scientific%20programming%20with%20Python&rft.aulast=Hill&rft.auinit=&rft.auinit1=&rft.auinitm=&rft.ausuffix=&rft.au=Hill,%20Christian,%201974-,%20author&rft.aucorp=&rft.volume=&rft.issue=&rft.part=&rft.quarter=&rft.ssn=&rft.spage=&rft.epage=&rft.pages=&rft.artnum=&rft.issn=&rft.eissn=&rft.isbn=9781107075412&rft.sici=&rft.coden=&rft_id=info:doi/&rft.object_id=&rft.856_url=&rft_dat=%3CUCL_LMS_DS%3E002240476%3C/UCL_LMS_DS%3E&rft.eisbn=&rft_id=info:oai/&req.language=eng) section 2.4.3 (page 49).\n",
    "\n",
    "The code cell below demonstrates that the two methods do give identical results:"
   ]
  },
  {
   "cell_type": "code",
   "execution_count": 7,
   "metadata": {
    "collapsed": false
   },
   "outputs": [
    {
     "name": "stdout",
     "output_type": "stream",
     "text": [
      "At x = 65 our fitted Gaussian has a value of:  4.46069838834\n",
      "Calculating the same value using * syntax:     4.46069838834\n",
      "Both give the same result!\n"
     ]
    }
   ],
   "source": [
    "# specifying the elements by hand:\n",
    "print(\"At x = 65 our fitted Gaussian has a value of: \", gaussian(65, popt[0], popt[1], popt[2], popt[3]))\n",
    "\n",
    "# use *syntax to unpack the elements of popt automatically:\n",
    "print(\"Calculating the same value using * syntax:    \", gaussian(65,*popt)) \n",
    "print(\"Both give the same result!\")"
   ]
  },
  {
   "cell_type": "markdown",
   "metadata": {},
   "source": [
    "<div class=\"alert alert-success\"> \n",
    "In the cell below, you should:\n",
    "<ul>\n",
    "<li> calculate the errors on the parameters </li>\n",
    "<li>output each parameter with its error and an appropriate text string </li>\n",
    "<li>plot the original data and the fitted line on a single, appropriately labelled graph </li>\n",
    "</ul>\n",
    "</div>"
   ]
  },
  {
   "cell_type": "code",
   "execution_count": 8,
   "metadata": {
    "collapsed": false
   },
   "outputs": [
    {
     "name": "stdout",
     "output_type": "stream",
     "text": [
      "mean = 72.5093090483 with error = 0.0450008005874\n",
      "standard deviation = 3.01525267542 with error = 0.0471764541779\n",
      "background value = 3.85742572021 with error = 0.0445237778051\n",
      "peak height = 13.4068037547 with error = 0.176117874902\n"
     ]
    },
    {
     "data": {
      "text/plain": [
       "<matplotlib.legend.Legend at 0x8991d68>"
      ]
     },
     "execution_count": 8,
     "metadata": {},
     "output_type": "execute_result"
    },
    {
     "data": {
      "image/png": "[encoded data removed]",
      "text/plain": [
       "<matplotlib.figure.Figure at 0x8545a90>"
      ]
     },
     "metadata": {},
     "output_type": "display_data"
    }
   ],
   "source": [
    "### STUDENT COMPLETED CELL ###\n",
    "\n",
    "#these calculate errors for each parameter by using the np.diag function to extract the relevant values from the matrix of covariance\n",
    "error_x0 = np.sqrt(np.diag(pcov)[0])\n",
    "error_sigma = np.sqrt(np.diag(pcov)[1])\n",
    "error_y0 = np.sqrt(np.diag(pcov)[2])\n",
    "error_h = np.sqrt(np.diag(pcov)[3])\n",
    "\n",
    "print (\"mean =\", popt[0], \"with error =\", error_x0)\n",
    "print (\"standard deviation =\", popt[1], \"with error =\", error_sigma)\n",
    "print (\"background value =\", popt[2], \"with error =\", error_y0)\n",
    "print (\"peak height =\", popt[3], \"with error =\", error_h)\n",
    "\n",
    "#creates an x-array for gaussian line fit and calculates relevant y values using defined gaussian function\n",
    "x = np.linspace(40,110,1000)\n",
    "y = gaussian(x,*popt)\n",
    "\n",
    "plt.plot(x,y,'r-', label = \"gaussian fit\")\n",
    "plt.plot(xdata,ydata, 'b.', label = \"Experimental data\")\n",
    "plt.xlabel(\"Pixel position\")\n",
    "plt.ylabel(\"Pixel value (counts/second)\")\n",
    "plt.title(\"Data from Zeeman effect experiment\")\n",
    "plt.legend()"
   ]
  },
  {
   "cell_type": "markdown",
   "metadata": {},
   "source": [
    "If you've done this correctly, you should obtain a good fit to the data.\n",
    "\n",
    "In theory we'd expect a Lorentzian to produce a better fit for this data. Now you're going to try this out and see if this is what we find for this particular data set!\n",
    "\n",
    "The appropriate form for this is \n",
    "$$\n",
    "f(x) = y_0 + \\frac{h}{1 + ((x - x_0)/b)^2}\n",
    "$$\n",
    "where $y_0$ is the background level, $x_0$ is the peak position and $b$ is the half-width at half-maximum (HWHM) of the peak."
   ]
  },
  {
   "cell_type": "markdown",
   "metadata": {},
   "source": [
    "<div class=\"alert alert-success\"> \n",
    "First, write a properly formatted python function, similar in form to the \"gaussian\" function above, that will return a Lorentzian function for these parameters.\n",
    "</div>"
   ]
  },
  {
   "cell_type": "code",
   "execution_count": 9,
   "metadata": {
    "collapsed": false
   },
   "outputs": [],
   "source": [
    "### STUDENT COMPLETED CELL ###\n",
    "def lorentzian(x_2, x0_2, y0_2, h_2, b):\n",
    "    '''Returns a 1D array of function values for \n",
    "    - input array of x-values: x_2\n",
    "    - peak position: x0_2\n",
    "    - background value: y0_2\n",
    "    - peak height: h_2 (measured from background level y0)\n",
    "    - half-width at half maximum: b'''\n",
    "    lorent = h_2 / (1 + ((x_2 - x0_2)/b)**2) + y0_2 # the gaussian itself\n",
    "    return lorent"
   ]
  },
  {
   "cell_type": "markdown",
   "metadata": {},
   "source": [
    "<div class=\"alert alert-success\"> \n",
    "Now provide an initial guess for these parameters, and use curve_fit to calculate the best Lorentzian fit for this data. Output the calculated parameters and the matrix of covariance, just like we did for the Gaussian fit.\n",
    "</div>"
   ]
  },
  {
   "cell_type": "code",
   "execution_count": 10,
   "metadata": {
    "collapsed": false
   },
   "outputs": [
    {
     "name": "stdout",
     "output_type": "stream",
     "text": [
      "popt :\n",
      " [ 72.48067426   3.36146275  14.88521907   3.08298492]\n",
      "pcov :\n",
      " [[  3.41538242e-03  -3.26746267e-06   1.19672484e-06   1.97171167e-06]\n",
      " [ -3.26746267e-06   4.90700178e-03  -1.07974715e-03  -3.39327090e-03]\n",
      " [  1.19672484e-06  -1.07974715e-03   7.98982891e-02  -1.57728341e-02]\n",
      " [  1.97171167e-06  -3.39327090e-03  -1.57728341e-02   9.19579115e-03]]\n"
     ]
    }
   ],
   "source": [
    "### STUDENT COMPLETED CELL ###\n",
    "\n",
    "#this is a guess for the paramters used to fit the lorentzian fit\n",
    "guess_2 = [75,3.5,18,5]\n",
    "\n",
    "#calculates parameters and matrix of covariance by using guess\n",
    "popt_2,pcov_2 = curve_fit(lorentzian,xdata,ydata,p0=guess_2)\n",
    "\n",
    "print (\"popt :\\n\", popt_2)\n",
    "print (\"pcov :\\n\", pcov_2)"
   ]
  },
  {
   "cell_type": "markdown",
   "metadata": {},
   "source": [
    "<div class=\"alert alert-success\"> \n",
    "Now use these results to\n",
    "<ul>\n",
    "<li>calculate the error on each parameter</li>\n",
    "<li>output each parameter with its error (and an appropriate text string)</li>\n",
    "<li>plot the data, the fitted Gaussian and the fitted Lorentzian, all on the same labelled graph.</li>\n",
    "</ul>\n",
    "</div>"
   ]
  },
  {
   "cell_type": "code",
   "execution_count": 11,
   "metadata": {
    "collapsed": false
   },
   "outputs": [
    {
     "name": "stdout",
     "output_type": "stream",
     "text": [
      "mean = 72.4806742643 with error = 0.0584412732972\n",
      "background value = 3.36146275245 with error = 0.0700499948378\n",
      "peak height = 14.8852190717 with error = 0.282662854078\n",
      "half width at half maximum = 3.08298492231 with error = 0.0958946878071\n"
     ]
    },
    {
     "data": {
      "text/plain": [
       "<matplotlib.legend.Legend at 0x8a1b1d0>"
      ]
     },
     "execution_count": 11,
     "metadata": {},
     "output_type": "execute_result"
    },
    {
     "data": {
      "image/png": "[encoded data removed]",
      "text/plain": [
       "<matplotlib.figure.Figure at 0x899e978>"
      ]
     },
     "metadata": {},
     "output_type": "display_data"
    }
   ],
   "source": [
    "### STUDENT COMPLETED CELL ###\n",
    "\n",
    "#these calculate errors for each parameter by using the np.diag function to extract the relevant values from the matrix of covariance\n",
    "error_x0_2 = np.sqrt(np.diag(pcov_2)[0])\n",
    "error_y0_2 = np.sqrt(np.diag(pcov_2)[1])\n",
    "error_h_2 = np.sqrt(np.diag(pcov_2)[2])\n",
    "error_b = np.sqrt(np.diag(pcov_2)[3])\n",
    "\n",
    "print (\"mean =\", popt_2[0], \"with error =\", error_x0_2)\n",
    "print (\"background value =\", popt_2[1], \"with error =\", error_y0_2)\n",
    "print (\"peak height =\", popt_2[2], \"with error =\", error_h_2)\n",
    "print (\"half width at half maximum =\", popt_2[3], \"with error =\", error_b)\n",
    "\n",
    "#creates an x-array for lorentzian line fit and calculates relevant y values using defined lorentzian function\n",
    "x_2 = np.linspace(40,110,1000)\n",
    "y_2 = lorentzian(x,*popt_2)\n",
    "\n",
    "plt.plot(x,y,'g-', label = \"gaussian fit\")\n",
    "plt.plot(x_2,y_2,'r-', label = \"lorentzian fit\")\n",
    "plt.plot(xdata,ydata, 'b.', label = \"Experimental data\")\n",
    "plt.xlabel(\"Pixel position\")\n",
    "plt.ylabel(\"Pixel value (counts/second)\")\n",
    "plt.title(\"Data from Zeeman effect experiment\")\n",
    "plt.legend()"
   ]
  },
  {
   "cell_type": "markdown",
   "metadata": {},
   "source": [
    "### Evaluating the goodness of fit\n",
    "\n",
    "So now we have two potential fits to our data. Looking at them, it's hard to tell which one provides the better fit. We can do this quantitatively by calculating $\\chi^2$ for each fit, in the same way as we did in the previous session. \n",
    "\n",
    "We'll also need to know the y-error on the data points for this - which for this experiment were estimated to be $\\pm 1$ counts/second."
   ]
  },
  {
   "cell_type": "markdown",
   "metadata": {},
   "source": [
    "#### 1. Gaussian.\n",
    "\n",
    "First we'll look at the Gaussian fit. \n",
    "\n",
    "<div class=\"alert alert-success\"> \n",
    "In the cell below, \n",
    "<ul>\n",
    "<li>calculate the residuals divided by the y-error</li>\n",
    "<li>calculate the number of degrees of freedom</li>\n",
    "<li>hence calculate $\\chi^2$ for the Gaussian fit.</li>\n",
    "</ul>\n",
    "(Refer back to the previous session if you need a reminder of any of the definitions)\n",
    "</div>\n"
   ]
  },
  {
   "cell_type": "code",
   "execution_count": 12,
   "metadata": {
    "collapsed": false
   },
   "outputs": [
    {
     "name": "stdout",
     "output_type": "stream",
     "text": [
      "reduced residuals: \n",
      " [ -2.17425720e-01  -4.07425720e-01  -3.57425720e-01  -2.67425720e-01\n",
      "  -3.07425720e-01  -4.47425720e-01  -2.67425720e-01   2.32574280e-01\n",
      "  -1.77425720e-01   1.42574280e-01   9.25742797e-02   1.92574279e-01\n",
      "   2.82574269e-01   5.25741917e-02   1.42573641e-01   9.25701344e-02\n",
      "   2.32550164e-01   5.24485997e-02  -3.80124833e-02   1.20185692e-04\n",
      "  -6.62071869e-03   2.01710854e-01   1.89769869e-01  -1.74171524e-02\n",
      "  -2.30698388e-01  -7.15956825e-02  -3.33154749e-01  -5.59415262e-01\n",
      "  -1.18065904e-01   3.39775070e-01   4.04414244e-01   6.56668665e-02\n",
      "   1.82127135e-01  -2.21974201e-01  -4.38896638e-01  -4.87055192e-01\n",
      "  -4.99823915e-02   5.88237395e-01   9.10928842e-01   7.99964725e-01\n",
      "   5.68193327e-01   5.47946765e-01   3.41040045e-01   1.83160172e-01\n",
      "   2.30056556e-01   5.19710692e-02   9.24448119e-02   9.25493862e-02\n",
      "   9.25699919e-02   1.42573618e-01   2.32574188e-01   3.22574268e-01\n",
      "   2.32574279e-01   1.92574280e-01   2.82574280e-01   1.42574280e-01\n",
      "  -8.74257202e-02  -3.74257202e-02  -3.74257202e-02  -1.27425720e-01\n",
      "  -1.27425720e-01  -1.77425720e-01  -4.97425720e-01  -4.07425720e-01\n",
      "  -4.07425720e-01  -4.97425720e-01  -1.77425720e-01  -5.37425720e-01\n",
      "  -3.57425720e-01  -4.47425720e-01]\n",
      "\n",
      "\n",
      "Number of degrees of freedom = 66\n",
      "Reduced chi squared = 0.106981944223\n"
     ]
    }
   ],
   "source": [
    "### STUDENT COMPLETED CELL ###\n",
    "\n",
    "#calculates reduced residuals for gaussian fit\n",
    "residual = (ydata - gaussian(xdata,*popt))/1.0\n",
    "residual_sqrd = residual**2\n",
    "sum_residual_sqrd = np.sum(residual_sqrd)\n",
    "\n",
    "dof = len(xdata) - len(popt) #calculates degrees of freedom\n",
    "reduced_chi_sqrd = sum_residual_sqrd / dof #calculates reduced chi-squared\n",
    "\n",
    "print (\"reduced residuals: \\n\", residual)\n",
    "print (\"\\n\")\n",
    "print (\"Number of degrees of freedom =\", dof)\n",
    "print (\"Reduced chi squared =\", reduced_chi_sqrd)"
   ]
  },
  {
   "cell_type": "markdown",
   "metadata": {},
   "source": [
    "#### 2. Lorentzian\n",
    "\n",
    "<div class=\"alert alert-success\"> Now do the same for the Lorentzian fit, in the cell below.</div>"
   ]
  },
  {
   "cell_type": "code",
   "execution_count": 13,
   "metadata": {
    "collapsed": false
   },
   "outputs": [
    {
     "name": "stdout",
     "output_type": "stream",
     "text": [
      "reduced residuals: \n",
      " [ 0.1371323  -0.06220273 -0.02249003  0.05613689  0.00352037 -0.1505268\n",
      "  0.01377175  0.4961472   0.06627414  0.36375583  0.28810465  0.35871619\n",
      "  0.41483432  0.14550362  0.18950359  0.08525655  0.1606965  -0.09692068\n",
      " -0.28129685 -0.35751186 -0.50266785 -0.45689858 -0.6449847  -1.00898975\n",
      " -1.29262304 -1.01845619 -0.88940198 -0.46425689  0.64451805  1.28315058\n",
      "  0.633244   -0.75343084 -0.56596681  0.16196788  0.66330558  0.40540043\n",
      "  0.1413331   0.09865917  0.00808438 -0.23365144 -0.40508095 -0.27454344\n",
      " -0.30889103 -0.30640866 -0.12253594 -0.18728138 -0.0536368   0.02341418\n",
      "  0.08752974  0.19142329  0.32713888  0.45623826  0.39993015  0.38916122\n",
      "  0.50468093  0.3870886   0.17686789  0.24441247  0.26004531  0.18403329\n",
      "  0.19659848  0.15792684 -0.15182502 -0.05252439 -0.04405832 -0.12633012\n",
      "  0.2007433  -0.15276629  0.0332033  -0.05129377]\n",
      "\n",
      "\n",
      "Number of degrees of freedom = 66\n",
      "Reduced chi squared = 0.192775564322\n"
     ]
    }
   ],
   "source": [
    "### STUDENT COMPLETED CELL ###\n",
    "\n",
    "#calculates reduced residuals for gaussian fit\n",
    "residual2 = (ydata - lorentzian(xdata,*popt_2))/1.0\n",
    "residual_sqrd2 = residual2**2\n",
    "sum_residual_sqrd2 = np.sum(residual_sqrd2)\n",
    "\n",
    "dof2 = len(xdata) - len(popt_2) #calculates degrees of freedom\n",
    "reduced_chi_sqrd2 = sum_residual_sqrd2 / dof2 #calculates reduced chi-squared\n",
    "\n",
    "print (\"reduced residuals: \\n\", residual2)\n",
    "print (\"\\n\")\n",
    "print (\"Number of degrees of freedom =\", dof2)\n",
    "print (\"Reduced chi squared =\", reduced_chi_sqrd2)"
   ]
  },
  {
   "cell_type": "markdown",
   "metadata": {},
   "source": [
    "<div class=\"alert alert-success\">\n",
    "<b> Are these the results you'd expect? Discuss briefly in a text cell.</b>\n",
    "</div>"
   ]
  },
  {
   "cell_type": "markdown",
   "metadata": {},
   "source": [
    "#### 3. Results ####\n",
    "\n",
    "From the graphs you can see that the lorentzian curve fits better at the background levels but the gaussian curve fits better for the peak\n",
    "\n",
    "The reduced chi-squared is closer to 1 for the lorentzian fit rather than the gaussian fit. This suggests that the lorentzian curve fits slightly better than the gaussian.\n",
    "\n",
    "This is in agreement with the thoery because although there is thermal (gaussian form) broadening, broadening due to the uncertainty principle (lorentzian form) was expected to dominate.\n",
    "\n",
    "However both chi-squared values are relatively far from 1 and so there is not much that can be concluded from these results alone."
   ]
  },
  {
   "cell_type": "markdown",
   "metadata": {},
   "source": [
    "### Analysing the residuals\n",
    "\n",
    "Another way of verifying the validity of our fits is to check the distribution of the residuals, and see if they follow a normal (Gaussian) distribution. Again, follow the same procedure as we did in the previous session and check the distribution of the calculated residuals for both fits. \n",
    "\n",
    "\n",
    "\n",
    "\n",
    "<div class=\"alert alert-success\">\n",
    "Do this in the code cells below. \n",
    "<br>You can copy, paste and edit code from Session 3 if you want, rather than writing this from scratch. \n",
    "<br>Then, use a text cell to discuss (briefly) what you conclude from these results.\n",
    "</div>"
   ]
  },
  {
   "cell_type": "code",
   "execution_count": 14,
   "metadata": {
    "collapsed": false
   },
   "outputs": [
    {
     "name": "stdout",
     "output_type": "stream",
     "text": [
      "Standard deviation = 0.317598315908\n"
     ]
    },
    {
     "data": {
      "image/png": "[encoded data removed]",
      "text/plain": [
       "<matplotlib.figure.Figure at 0x8955d30>"
      ]
     },
     "metadata": {},
     "output_type": "display_data"
    }
   ],
   "source": [
    "### STUDENT COMPLETED CELL ###\n",
    "import scipy.stats as stats\n",
    "\n",
    "#calculates residuals\n",
    "residual = (ydata - gaussian(xdata,*popt))/1.0\n",
    "\n",
    "#creates array for plotting fitted gaussian line\n",
    "xhg = np.linspace(-1,1,100)\n",
    "\n",
    "x0hg, sigmahg = stats.norm.fit(residual) #finds mean and standard deviation for data\n",
    "gaussianhg = stats.norm.pdf(xhg,x0hg,sigmahg) #calculates gaussian distribution\n",
    "\n",
    "plt.hist(residual, normed=True,alpha=0.25)\n",
    "plt.plot(xhg,gaussianhg,'r-',)\n",
    "\n",
    "plt.xlabel('Calculated residual')\n",
    "plt.ylabel('Normalised frequency')\n",
    "title_label=('Gaussian distribution of residuals')\n",
    "\n",
    "plt.title(title_label)\n",
    "\n",
    "print (\"Standard deviation =\", sigmahg)"
   ]
  },
  {
   "cell_type": "code",
   "execution_count": 15,
   "metadata": {
    "collapsed": false
   },
   "outputs": [
    {
     "name": "stdout",
     "output_type": "stream",
     "text": [
      "Standard deviation = 0.426332989327\n"
     ]
    },
    {
     "data": {
      "image/png": "[encoded data removed]",
      "text/plain": [
       "<matplotlib.figure.Figure at 0x8a70c50>"
      ]
     },
     "metadata": {},
     "output_type": "display_data"
    }
   ],
   "source": [
    "### STUDENT COMPLETED CELL ###\n",
    "\n",
    "#calculates residuals\n",
    "residual2 = (ydata - lorentzian(xdata,*popt_2))/1.0\n",
    "\n",
    "#creates array for plotting fitted gaussian line\n",
    "xhl = np.linspace(-1.5,1.5,100)\n",
    "\n",
    "x0hl, sigmahl = stats.norm.fit(residual2) #finds mean and standard deviation for data\n",
    "gaussianhl = stats.norm.pdf(xhl,x0hl,sigmahl) #calculates gaussian distribution\n",
    "\n",
    "plt.hist(residual2, normed=True,alpha=0.25)\n",
    "plt.plot(xhl,gaussianhl,'r-',)\n",
    "\n",
    "plt.xlabel('Calculated residual')\n",
    "plt.ylabel('Normalised frequency')\n",
    "title_label=('Gaussian distribution of residuals')\n",
    "\n",
    "plt.title(title_label)\n",
    "\n",
    "print (\"Standard deviation =\", sigmahl)\n"
   ]
  },
  {
   "cell_type": "markdown",
   "metadata": {},
   "source": [
    "As can be seen from the above two histograms, the residuals for the lorentzian fit far more resembles a gaussian distribution than the histogram for the residuals of the the gaussian fit.\n",
    "\n",
    "This suggests that the lorentzian fit is a better fit than the gaussian fit.\n",
    "\n",
    "And therefore it is inferred that broadening in the spectral lines is more due to the uncertainty principle rather than thermal broadening."
   ]
  },
  {
   "cell_type": "code",
   "execution_count": null,
   "metadata": {
    "collapsed": true
   },
   "outputs": [],
   "source": []
  }
 ],
 "metadata": {
  "anaconda-cloud": {},
  "kernelspec": {
   "display_name": "Python [Root]",
   "language": "python",
   "name": "Python [Root]"
  },
  "language_info": {
   "codemirror_mode": {
    "name": "ipython",
    "version": 3
   },
   "file_extension": ".py",
   "mimetype": "text/x-python",
   "name": "python",
   "nbconvert_exporter": "python",
   "pygments_lexer": "ipython3",
   "version": "3.5.2"
  }
 },
 "nbformat": 4,
 "nbformat_minor": 0
}
