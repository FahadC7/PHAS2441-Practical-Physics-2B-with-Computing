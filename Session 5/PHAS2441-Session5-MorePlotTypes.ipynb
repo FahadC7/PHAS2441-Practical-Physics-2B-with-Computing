{
 "cells": [
  {
   "cell_type": "markdown",
   "metadata": {},
   "source": [
    "# Session 5: Advanced plotting\n",
    "\n",
    "_Author: louise.dash@ucl.ac.uk    \n",
    "Updated: 18/01/2017_"
   ]
  },
  {
   "cell_type": "markdown",
   "metadata": {},
   "source": [
    "In this session we'll be looking at how to plot two-dimensional data.\n",
    "\n",
    "<div class=\"alert alert-success\">\n",
    "<p>\n",
    "<b>Intended learning outcomes:</b>\n",
    "</p>\n",
    "<p> At the end of this session, you should be able to:\n",
    "<ul>\n",
    " <li> Produce density plots and contour plots of two-dimensional scalar data\n",
    " <li> Produce quiver and stream plots of two dimensional vector data\n",
    " <li> Choose appropriate representations of data\n",
    " <li> Use these techniques to consider key concepts from electrostatics\n",
    " </ul> </p>\n",
    "</div>"
   ]
  },
  {
   "cell_type": "markdown",
   "metadata": {},
   "source": [
    "## Contents:\n",
    "\n",
    "* [1. Image mapping and density plots](#imagemapping)\n",
    "* [2. Contour plots](#contourplots)\n",
    "* [3. Plotting vector fields](#vectorfields)"
   ]
  },
  {
   "cell_type": "markdown",
   "metadata": {},
   "source": [
    "## <a id=\"imagemapping\"></a>1. Image mapping - density plots"
   ]
  },
  {
   "cell_type": "markdown",
   "metadata": {},
   "source": [
    "We've already looked at \"standard\" plots - with data points or lines on a plot with an x- and y-axis. Now we're going to look at another type of plot, where the data set consists of a grid of data, which we can plot in two dimensions, using colour to indicate the data values. These are sometimes known as density plots.\n",
    "\n",
    "\n",
    "\n",
    "We'll start by looking at a simple example - we'll load a data file from an [Scanning Tunnelling Microscope](http://en.wikipedia.org/wiki/Scanning_tunneling_microscope) experiment, which measures the structure of a surface at the atomic scale (some of you will have the opportunity to do a similar experiment in Lab 3).\n",
    "\n",
    "\n",
    "\n",
    "\n",
    "To start, we'll import numpy and matplotlib, exactly as we did before."
   ]
  },
  {
   "cell_type": "code",
   "execution_count": null,
   "metadata": {
    "collapsed": false
   },
   "outputs": [],
   "source": [
    "import numpy as np\n",
    "import matplotlib.pyplot as plt\n",
    "\n",
    "# plot figures embedded in the notebook\n",
    "%matplotlib inline \n",
    "\n",
    "# The following line makes the images a bit larger than default - works better on a large screen\n",
    "# Adjust the values to your own preference / screen size\n",
    "# Whatever you choose, make sure that the entire plot fits on your screen without scrolling!\n",
    "plt.rcParams['figure.figsize'] = 9, 6 "
   ]
  },
  {
   "cell_type": "markdown",
   "metadata": {},
   "source": [
    "We'll use np.loadtxt to load the data values from the file into an array, and then use the np.shape function to find out what shape the array is."
   ]
  },
  {
   "cell_type": "code",
   "execution_count": null,
   "metadata": {
    "collapsed": false
   },
   "outputs": [],
   "source": [
    "stmarray = np.loadtxt('stm.txt')\n",
    "\n",
    "print (np.shape(stmarray))"
   ]
  },
  {
   "cell_type": "markdown",
   "metadata": {},
   "source": [
    "We can see that this is a two-dimensional array, with 384 columns and 384 rows. The matplotlib command to plot the array as an image is plt.imshow. You can find the full documentation at http://matplotlib.org/api/pyplot_api.html?highlight=imshow#matplotlib.pyplot.imshow, but we'll just stick to the basics here."
   ]
  },
  {
   "cell_type": "code",
   "execution_count": null,
   "metadata": {
    "collapsed": false
   },
   "outputs": [],
   "source": [
    "# plt.imshow(stmarray) # default colours - varies according to local setup\n",
    "plt.imshow(stmarray, cmap=\"gray\") # specify greyscale image"
   ]
  },
  {
   "cell_type": "markdown",
   "metadata": {},
   "source": [
    "This has now produced a beautiful image of the atomic structure of the (111) silicon surface! \n",
    "\n",
    "A few things to note here. \n",
    "\n",
    "* Firstly, we can see that we have numbered axes - but by default, the origin is at the *top left*, not the bottom left as you might expect for a plot. In fact the default is to treat the image as a ** *matrix* **, where the [0,0] element is at the top left, and with the row index (i.e. the vertical, or $y$ component) first. You can move the origin to the bottom left using the origin=\"lower\" option of imshow, but you still have to remember that the components are given as $(y,x)$, not $(x,y)$.\n",
    "\n",
    "* The default (on Desktop@UCL machines) is to show the image as greyscale, but there are lots of other options available - see http://matplotlib.org/examples/color/colormaps_reference.html for a full list.\n",
    "\n",
    "* A colorbar is often useful to be able to map a colour back to its numerical value - use plt.colorbar to do this.\n",
    "\n",
    "Here's the same array replotted with different settings to see this in practice:"
   ]
  },
  {
   "cell_type": "code",
   "execution_count": null,
   "metadata": {
    "collapsed": false
   },
   "outputs": [],
   "source": [
    "# Replot the information with the origin at the bottom left, and using a different colormap \n",
    "plt.imshow(stmarray,origin=\"lower\",cmap=\"coolwarm\") \n",
    "plt.colorbar()                   # plots a bar indicating which value is mapped to which colour"
   ]
  },
  {
   "cell_type": "markdown",
   "metadata": {},
   "source": [
    "<div class=\"alert alert-success\"> Now it's your turn. \n",
    "\n",
    "<br>Download the file on Moodle named \"imgdatatest.dat\". This file contains data points delimited by commas. Your job is to:\n",
    "<ul>\n",
    "\n",
    "<li>Load the file into an array and determine its shape</li>\n",
    "<li>Plot the array, choosing an appropriate position for the origin, and a colormap that displays the information in the array appropriately (to determine this, you will need to figure out what the array represents!)</li>\n",
    "<li>In the second code cell, replot the array using a different colormap. Experiment with the colormap and find one that <b>minimizes</b> the information in the array (i.e. one that is not at all visually appropriate - so that you can't tell what the image represents at all!)</li>\n",
    "</ul>\n",
    "</div>"
   ]
  },
  {
   "cell_type": "code",
   "execution_count": null,
   "metadata": {
    "collapsed": false
   },
   "outputs": [],
   "source": [
    "### STUDENT COMPLETED CELL: IMAGE WITH AN APPROPRIATE COLORMAP ###"
   ]
  },
  {
   "cell_type": "code",
   "execution_count": null,
   "metadata": {
    "collapsed": false
   },
   "outputs": [],
   "source": [
    "### STUDENT COMPLETED CELL: IMAGE WITH THE WORST COLORMAP YOU CAN FIND! ###\n"
   ]
  },
  {
   "cell_type": "markdown",
   "metadata": {},
   "source": [
    "##  <a id=\"contourplots\"></a>2. Plotting contours"
   ]
  },
  {
   "cell_type": "markdown",
   "metadata": {},
   "source": [
    "Now we'll look at another sort of two dimensional plot. In the third section, we'll look at a way of plotting vector fields, but we'll start here by plotting some scalar fields.\n",
    "\n",
    "In physics we often encounter both scalar and vector fields. In this session we'll be using examples from electrostatics that you will be familiar with from PHAS2201 (Electricity and Magnetism) that most of you did last term.\n",
    "\n",
    "\n",
    "#### Creating a mesh of grid values\n",
    "As we've seen, if we want to make plots in a two-dimensional space, we need a *grid* of x and y values. When we were plotting data files, in the examples above, this was done automatically (the data was already saved in a two-dimensional format).\n",
    "\n",
    "If we don't have this kind of data, then Numpy has a command to create a 2d grid for us: [mgrid](http://docs.scipy.org/doc/numpy/reference/generated/numpy.mgrid.html). Look at how this works:\n",
    "\n"
   ]
  },
  {
   "cell_type": "code",
   "execution_count": null,
   "metadata": {
    "collapsed": false
   },
   "outputs": [],
   "source": [
    "step = 0.2\n",
    "y,x= np.mgrid[0:1:step, 0:1:step] # note we have y,x not x,y\n",
    "print(\" x is: \\n\", x)\n",
    "print(np.shape(x))\n",
    "print(\" y is : \\n\", y)\n",
    "print(np.shape(y))"
   ]
  },
  {
   "cell_type": "markdown",
   "metadata": {},
   "source": [
    "This produces *two* 2d arrays - one for the x values, one for the y values. \n",
    "As before, we use matrix-like ordering, with the rows (y-values) as the first element and the columns (x-values) as the second. The data point $(x=0.4, y = 0.8)$ is therefore represented by the element in the final (fifth) row and third column.\n",
    "\n",
    "Using standard Python indexing, where we start at zero not one, we look at an individual element, for example"
   ]
  },
  {
   "cell_type": "code",
   "execution_count": null,
   "metadata": {
    "collapsed": false
   },
   "outputs": [],
   "source": [
    "print(x[4,2], y[4,2])"
   ]
  },
  {
   "cell_type": "markdown",
   "metadata": {},
   "source": [
    "We can see that the element in the fifth row (python index 4) and third column (python index 2) corresponds to x = 0.4 and y = 0.8, i.e. we're mapping the two-dimensional grid onto values of x and y."
   ]
  },
  {
   "cell_type": "markdown",
   "metadata": {},
   "source": [
    "#### Example: point charge\n",
    "\n",
    "As an example for this, we're going to look at a standard example from electromagnetism that's useful to be able to visualise - the equipotential and electric field for a point charge.\n",
    "\n",
    "The electric potential $V$ due to a point charge $Q$ is given by\n",
    "$$\n",
    "V = \\frac{Q}{4\\pi\\varepsilon_0 r}\n",
    "$$\n",
    "where $r = |\\mathbf{r}|$ is the distance between the point at which we are measuring the potential  and the position of the charge.\n",
    "\n",
    "For these purposes, we'll work in convenient units where all the constants are 1, and we'll put a point charge of magnitude 1 at a position $\\mathbf{r} = (1,0)$:"
   ]
  },
  {
   "cell_type": "code",
   "execution_count": null,
   "metadata": {
    "collapsed": false
   },
   "outputs": [],
   "source": [
    "qpos = [1,0] # point charge at position x, y\n",
    "q = 1        # charge is positive, magnitude 1\n",
    "\n",
    "# now we'll create the 2d grid:\n",
    "gridsize = 60j # using a complex number ensures we include the final point. See mgrid documentation.\n",
    "y,x = np.mgrid[-10:10:gridsize, -10:10:gridsize] # create our grid\n",
    "print(\"The grid of x points has shape\", np.shape(x))\n",
    "print(\"The grid of y points has shape\", np.shape(y))"
   ]
  },
  {
   "cell_type": "markdown",
   "metadata": {},
   "source": [
    "<div class=\"alert alert-success\">\n",
    "In the cell below, write a properly formatted python _**function**_ named \"`potential`\" that takes as its inputs:<ul>\n",
    "<li>the coordinates $x$ and $y$, </li>\n",
    "<li>the position of the charge (`qpos`), and</li>\n",
    "<li>and the sign of the charge;</li>\n",
    "</ul>\n",
    "\n",
    "and calculates and returns the electric potential $V$ for a point charge at position `qpos` in terms of $x$ and $y$.\n",
    "\n",
    "<br>(<i>Hint: work out the expression for $1/r$ in terms of the variables x, y and qpos using a pen and paper before trying to code it</i>)\n",
    "</div>"
   ]
  },
  {
   "cell_type": "code",
   "execution_count": null,
   "metadata": {
    "collapsed": true
   },
   "outputs": [],
   "source": [
    "### STUDENT COMPLETED CELL ###\n"
   ]
  },
  {
   "cell_type": "markdown",
   "metadata": {},
   "source": [
    "The code cell below will call your function for our grid of x- and y- coordinates to calculate the electric potential due to the positive charge at `qpos`."
   ]
  },
  {
   "cell_type": "code",
   "execution_count": null,
   "metadata": {
    "collapsed": false
   },
   "outputs": [],
   "source": [
    "V = potential(x,y,qpos,q) # calculates whole grid/matrix of electric potentials for our positive charge\n",
    "\n",
    "print(V) # check that you get an array output!"
   ]
  },
  {
   "cell_type": "markdown",
   "metadata": {},
   "source": [
    "Now we've calculated V, we can plot the equipotentials using the [plt.contour](http://matplotlib.org/api/pyplot_api.html?highlight=contour#matplotlib.pyplot.contour) function. The cell below will do this for us."
   ]
  },
  {
   "cell_type": "code",
   "execution_count": null,
   "metadata": {
    "collapsed": false
   },
   "outputs": [],
   "source": [
    "# The shape of V should be the same as the shape of x and y that we checked above.\n",
    "print(\"The shape of our electric potential array V is\", np.shape(V))\n",
    "\n",
    "ncontours = 25 # the number of (equally spaced) contour lines to plot. Leave this out to just use the default value\n",
    "\n",
    "# Plot the variable V on the grid defined by x and y, using ncontours contour lines.\n",
    "plt.contour(x,y,V,ncontours)\n",
    "\n",
    "plt.grid() # include gridlines on the plot.\n",
    "plt.axis('scaled') # aspect ratio 1:1\n",
    "plt.axis([-10,10,-10,10]) # specify xlim,ylim"
   ]
  },
  {
   "cell_type": "markdown",
   "metadata": {},
   "source": [
    "If you have correctly calculated `V`, you should see concentric circles centred on the charge position given in `qpos`. Try changing `qpos` and check that the charge position on the plot moves.\n",
    "\n",
    "Note that the contour lines aren't equally spaced - can you see why?\n",
    "\n",
    "We can choose various different settings for the contours, and even combine this with the density plots from above, using plt.imshow. Feel free to experiment to find the effect you feel best displays the data."
   ]
  },
  {
   "cell_type": "code",
   "execution_count": null,
   "metadata": {
    "collapsed": false
   },
   "outputs": [],
   "source": [
    "ncontours = 15 # the number of (equally spaced) contour lines to plot. Leave this out to just use the default value\n",
    "plt.contour(x,y,V,ncontours,cmap=plt.cm.gist_rainbow)\n",
    "plt.imshow(np.log(V), interpolation='bilinear', origin='lower',\n",
    "                cmap=plt.cm.YlGnBu, extent=(-10,10,-10,10))\n",
    "plt.plot(qpos[0],qpos[1],\"co\") # plot a small cyan circle at the position of the charge\n",
    "plt.grid()\n",
    "plt.axis('scaled') # aspect ratio 1:1\n",
    "plt.axis([-10,10,-10,10]) # specify xlim,ylim\n",
    "plt.title(\"Equipotentials of a point charge\")\n",
    "plt.xlabel(\"x\")\n",
    "plt.ylabel(\"y\");"
   ]
  },
  {
   "cell_type": "markdown",
   "metadata": {},
   "source": [
    "##  <a id=\"vectorfields\"></a>3. Plotting Vector fields\n",
    "\n",
    "\n",
    "Now we have the equipotentials sorted out, let's consider the electric field, which is of course a vector field. There are two ways of plotting vector fields in matplotlib, we'll look at both of them.\n",
    "\n",
    "Before we can plot anything though, we need to calculate the electric field at each point on our grid of x and y values. This is given in a general form by\n",
    "$$ \\mathbf{E}(\\mathbf{r}) = \\frac{1}{4 \\pi \\varepsilon_0} \\sum_i Q_i \\frac{\\mathbf{r_i}}{|\\mathbf{r}_i|^3} $$\n",
    "\n",
    "Here we're working in units where all the constants are 1, which simplifies things, and we only have a single charge. We need to calculate the vectors $\\mathbf{r}$ though, which means our expression becomes\n",
    "\n",
    "$$ \\mathbf{E}(x,y) = q \\frac{(x - q_x, y - q_y)}{\\left[(x-q_x)^2 + (y-q_y)^2\\right]^{3/2}} $$\n",
    "where $(q_x, q_y) = $ `qpos`, and $q$ is the magnitude of the charge."
   ]
  },
  {
   "cell_type": "markdown",
   "metadata": {},
   "source": [
    "<div class=\"alert alert-success\">\n",
    "You're going to write a python _**function**_ to calculate the electric field due to our point charge at qpos.  Name the function `Epoint()`. The function should take as its inputs:\n",
    "<ul>\n",
    "<li>The magnitude of the charge (usually $\\pm 1$) </li>\n",
    "<li>The position of the charge, qpos </li>\n",
    "<li>x and y, to give the grid to calculate on. </li>\n",
    "</ul>\n",
    "It should output two arrays of the same size and shape as x and y, representing the electric field at these points.\n",
    "\n",
    "Do this in the cell below. Remember to include an appropriate docstring for your function.\n",
    "</div>"
   ]
  },
  {
   "cell_type": "code",
   "execution_count": null,
   "metadata": {
    "collapsed": false
   },
   "outputs": [],
   "source": [
    "### STUDENT COMPLETED CELL ###\n"
   ]
  },
  {
   "cell_type": "markdown",
   "metadata": {},
   "source": [
    "Once you've written the function, we can use it to calculate the electric field. This cell will produce two arrays, one containing the x-components of the E-field and one the y-components, for our charge +1 at qpos. "
   ]
  },
  {
   "cell_type": "code",
   "execution_count": null,
   "metadata": {
    "collapsed": false
   },
   "outputs": [],
   "source": [
    "Ex, Ey = Epoint(1,qpos,x,y) # calculate the electric field"
   ]
  },
  {
   "cell_type": "markdown",
   "metadata": {},
   "source": [
    "We can check the shape of the outputs - this should be the same as the shape of x and y."
   ]
  },
  {
   "cell_type": "code",
   "execution_count": null,
   "metadata": {
    "collapsed": false
   },
   "outputs": [],
   "source": [
    "print(\"Shapes of our calculated field arrays:\")\n",
    "print(np.shape(Ex), np.shape(Ey))\n",
    "print(\"Shapes of our grid arrays\")\n",
    "print(np.shape(x), np.shape(y))"
   ]
  },
  {
   "cell_type": "markdown",
   "metadata": {},
   "source": [
    "Again as a check, we can look at the value of the electric field at a single point. Let's choose the top left hand corner of the array, i.e. element [0,0]:"
   ]
  },
  {
   "cell_type": "code",
   "execution_count": null,
   "metadata": {
    "collapsed": false
   },
   "outputs": [],
   "source": [
    "print(\"Value of the E-field at top LH corner of grid:\", Ex[0,0], Ey[0,0])\n",
    "print(\"Value of the electric potential at the same point:\", V[0,0])"
   ]
  },
  {
   "cell_type": "markdown",
   "metadata": {},
   "source": [
    "We can see from this (if your function is working!) that the E-field is indeed a vector, and is pointing in a direction away from the position of the (positive) charge, exactly as we'd expect."
   ]
  },
  {
   "cell_type": "markdown",
   "metadata": {},
   "source": [
    "Now let's think about how we want to plot this information. As mentioned above, there are two ways of doing this.\n",
    "\n",
    "##### \"Quiver\" plot\n",
    "\n",
    "For each point on our x,y grid, this function plots an arrow whose length and direction corresponds to the magnitude and direction of the vector field at that point. Let's see how this looks:\n"
   ]
  },
  {
   "cell_type": "code",
   "execution_count": null,
   "metadata": {
    "collapsed": false
   },
   "outputs": [],
   "source": [
    "plt.quiver(x,y,Ex,Ey)\n",
    "plt.plot(qpos[0],qpos[1],\"go\") # plot a small green circle at the position of the charge\n",
    "plt.axis('scaled') # aspect ratio 1:1\n",
    "plt.title(\"Quiver plot of E-field due to point charge\");"
   ]
  },
  {
   "cell_type": "markdown",
   "metadata": {},
   "source": [
    "We get a general idea of what the E-field looks like from this. As we can see, the longest arrows are those nearest the charge, while the arrows furthest from the charge position are almost single points. However,  it doesn't exactly look like the diagrams in an EM textbook!\n",
    "\n",
    "Now let's try the second type of plot.\n",
    "\n",
    "##### \"Stream\" plot"
   ]
  },
  {
   "cell_type": "markdown",
   "metadata": {},
   "source": [
    "The streamplot function plots the field lines themselves. This plot looks considerably more like a plot from an electromagnetism textbook - however, note that it plots the field lines at a constant density, so you can't take the density of the field lines as an indicator of the strength of the field at that point, like you would be able to normally."
   ]
  },
  {
   "cell_type": "code",
   "execution_count": null,
   "metadata": {
    "collapsed": false
   },
   "outputs": [],
   "source": [
    "plt.streamplot(x,y,Ex,Ey)\n",
    "plt.plot(qpos[0],qpos[1],\"go\")\n",
    "plt.axis('scaled') # aspect ratio 1:1\n",
    "plt.axis([-10,10,-10,10]) # specify xlim,ylim\n",
    "plt.title(\"Streamplot of E-field\")"
   ]
  },
  {
   "cell_type": "markdown",
   "metadata": {},
   "source": [
    "We can extract more information from this data by using colour as an indicator of the field strength. In this cell, we calculate the magnitude of the field, and use that to colour the field lines appropriately. We choose to use the log of the magnitude, as the strength drops off quickly close to the origin."
   ]
  },
  {
   "cell_type": "code",
   "execution_count": null,
   "metadata": {
    "collapsed": false
   },
   "outputs": [],
   "source": [
    "magnitude = np.sqrt(Ex**2 + Ey**2) # magnitude of E\n",
    "plt.streamplot(x,y,Ex,Ey,color=np.log(magnitude), linewidth=2, cmap=plt.cm.jet)\n",
    "plt.plot(qpos[0],qpos[1],\"go\")\n",
    "plt.colorbar()\n",
    "plt.axis('scaled') # aspect ratio 1:1\n",
    "plt.axis([-10,10,-10,10]) # specify xlim,ylim\n",
    "plt.title(\"Streamplot of E-field\")"
   ]
  },
  {
   "cell_type": "markdown",
   "metadata": {},
   "source": [
    "We can also combine this with the contour plots for the electric potential:"
   ]
  },
  {
   "cell_type": "code",
   "execution_count": null,
   "metadata": {
    "collapsed": false
   },
   "outputs": [],
   "source": [
    "plt.contour(x,y,V,ncontours)\n",
    "plt.streamplot(x,y,Ex,Ey,color=np.log(magnitude), linewidth=2, cmap=plt.cm.jet)\n",
    "plt.plot(qpos[0],qpos[1],\"go\")\n",
    "plt.colorbar()\n",
    "plt.axis('scaled') # aspect ratio 1:1\n",
    "plt.axis([-10,10,-10,10]) # specify xlim,ylim\n",
    "plt.title(\"E-field with electric potential\")"
   ]
  },
  {
   "cell_type": "markdown",
   "metadata": {},
   "source": [
    "### Task: an electric dipole"
   ]
  },
  {
   "cell_type": "markdown",
   "metadata": {},
   "source": [
    "<div class=\"alert alert-success\">\n",
    "\n",
    "If all has gone well, you should now have everything in place to be able to calculate for an arbitrary arrangement of charges. \n",
    "<br><br>\n",
    "Keeping the first (positive) charge at $\\mathbf{r} = (+1,0)$, add a negative charge to the system at position $\\mathbf{r} = (-1,0)$, and calculate the *total* E-field and electric potential, and plot them in the way you think is best.\n",
    "<br><br>\n",
    "If you have time after completing this, try adding a third or fourth charge into the system. (Yes, there are extra points on the markscheme for this!)\n",
    "This is most interesting if you choose a <i>symmetric</i> arrangement of charges, rather than random positions. In particular, you may want to consider a quadrupole arrangement, three charges in a line, or three charges on three corners of a square (which are examples you've already seen in the Electricity and Magnetism lectures!)\n",
    "</div>"
   ]
  },
  {
   "cell_type": "markdown",
   "metadata": {},
   "source": [
    "> STUDENT COMPLETED CODE AND TEXT CELLS\n"
   ]
  },
  {
   "cell_type": "code",
   "execution_count": null,
   "metadata": {
    "collapsed": false
   },
   "outputs": [],
   "source": [
    "### STUDENT COMPLETED CODE CELLS - ADD MORE AS NECESSARY"
   ]
  },
  {
   "cell_type": "code",
   "execution_count": null,
   "metadata": {
    "collapsed": false
   },
   "outputs": [],
   "source": []
  }
 ],
 "metadata": {
  "anaconda-cloud": {},
  "kernelspec": {
   "display_name": "Python [conda root]",
   "language": "python",
   "name": "conda-root-py"
  },
  "language_info": {
   "codemirror_mode": {
    "name": "ipython",
    "version": 3
   },
   "file_extension": ".py",
   "mimetype": "text/x-python",
   "name": "python",
   "nbconvert_exporter": "python",
   "pygments_lexer": "ipython3",
   "version": "3.5.2"
  }
 },
 "nbformat": 4,
 "nbformat_minor": 0
}
