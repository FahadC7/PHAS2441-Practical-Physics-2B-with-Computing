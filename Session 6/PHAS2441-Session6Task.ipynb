{
 "cells": [
  {
   "cell_type": "markdown",
   "metadata": {},
   "source": [
    "# PHAS2441 Session 6 Task:\n",
    "# Normal modes of beads connected by springs"
   ]
  },
  {
   "cell_type": "markdown",
   "metadata": {},
   "source": [
    "You are going to calculate the normal modes of vibration of a system of $N$ beads connected by $N+1$ Hookean springs to fixed end points. The beads are able to move horizontally but not vertically. This provides us with a basic but useful model of vibrations in a solid, where the beads represent atoms and the springs the interatomic bonds."
   ]
  },
  {
   "cell_type": "code",
   "execution_count": 2,
   "metadata": {
    "collapsed": false,
    "scrolled": true
   },
   "outputs": [
    {
     "data": {
      "image/png": "[encoded data removed]",
      "text/plain": [
       "<IPython.core.display.Image object>"
      ]
     },
     "execution_count": 2,
     "metadata": {},
     "output_type": "execute_result"
    }
   ],
   "source": [
    "from IPython.display import Image # needed to embed an image\n",
    "Image(filename='3springs2beads.png', embed=True)\n",
    "# This image file is on Moodle. \n",
    "# It will appear here if you downloaded the image and it's in the same folder as this notebook!"
   ]
  },
  {
   "cell_type": "markdown",
   "metadata": {},
   "source": [
    "First consider a system of just two beads, labelled 1 and 2, connected by three springs with spring constants $k_1$, $k_2$, $k_3$ to two fixed end points, as in the figure above. The displacement of each bead from its equilibrium position is given by $x_1$ and $x_2$, as shown. By considering each spring individually, we can see that the forces exerted by the springs are:\n",
    "\n",
    "** Spring 1** exerts a force $-k_1 x_1$ on bead 1.\n",
    "\n",
    "** Spring 2** exerts a force $-k_2(x_1 - x_2)$ on bead 1 and a force $-k_2(x_2 - x_1)$ on bead 2.\n",
    "\n",
    "** Spring 3** exerts a force $-k_3 x_2$ on bead 2."
   ]
  },
  {
   "cell_type": "markdown",
   "metadata": {},
   "source": [
    "We can then write the total forces on the beads in the form of a matrix equation:\n",
    "\n",
    "$$\n",
    "\\mathbf{F} =-\\mathbf{K}\\cdot \\mathbf{x} = -\\begin{pmatrix}\n",
    "    k_1 + k_2 & -k_2 \\\\\n",
    "    -k_2 & k_2 + k_3 \n",
    "  \\end{pmatrix}\n",
    "  \\begin{pmatrix}\n",
    "   x_1 \\\\ x_2 \\end{pmatrix}\n",
    "$$"
   ]
  },
  {
   "cell_type": "markdown",
   "metadata": {},
   "source": [
    "This can easily be extended to a system of $N$ beads with $N+1$ springs, which gives us a [tridiagonal](http://en.wikipedia.org/wiki/Tridiagonal_matrix) matrix for the spring constants $k_i$:\n",
    "\n",
    "$$ \\mathbf{K} = \n",
    "\\begin{pmatrix}\n",
    "k_1 + k_2 & -k_2 & 0 &  & \\ldots &  0  \\\\\n",
    "-k_2 & k_2 + k_3 & -k_3 & & \\ldots &0 \\\\\n",
    " 0 & -k_3 & k_3 + k_4 & -k_4 & \\ldots & 0 \\\\\n",
    "\\vdots &  & \\ddots & & & \\vdots \\\\\n",
    "0 & 0 & \\ldots &  & -k_N & k_N + k_{N+1} \\\\\n",
    "\\end{pmatrix}\n",
    "$$"
   ]
  },
  {
   "cell_type": "markdown",
   "metadata": {},
   "source": [
    "We also know that for a harmonic oscillator, the spring constants are related to the angular frequency by\n",
    "\n",
    "$$ k = m \\omega^2 $$\n",
    "\n",
    "and hence when we represent this in matrix form, we have\n",
    "\n",
    "$$ -\\mathbf{K}\\mathbf{x} = -m \\omega^2\\mathbf{x} $$\n",
    "\n",
    "which is an eigenvalue equation of the form $\\mathbf{A} \\mathbf{x} = \\lambda \\mathbf{x}$, where the eigenvectors of the matrix $\\mathbf{K}$ will give us the bead displacements for the normal modes of vibration, and the eigenvalues the angular frequency of that mode."
   ]
  },
  {
   "cell_type": "markdown",
   "metadata": {},
   "source": [
    "## Your task:"
   ]
  },
  {
   "cell_type": "markdown",
   "metadata": {},
   "source": [
    "Complete this notebook by doing the following.\n",
    "    \n",
    "### 1. Construct the matrix $\\mathbf{K}$. \n",
    "* *Hint 1a:* It may be easier to construct a one-dimensional vector of $k_i$ and then use the [np.diag](http://docs.scipy.org/doc/numpy/reference/generated/numpy.diag.html) function to construct the diagonal and off-diagonal elements of $\\mathbf{K}$ separately. \n",
    "* *Hint 1b:* Look at the documentation for `np.diag` in the link above and note the optional argument `k` - this will help you construct the off-diagonal elements.\n",
    "* *Hint 2:* It will be easier to debug this if you start with a small value of $N$, less than 5 or so.\n",
    "* *Useful to know:* `np.set_printoptions` will allow you to pretty-print matrices on the screen, which is useful when you are testing and debugging. Try `np.set_printoptions(threshold=2000, linewidth=110,suppress=True)  `, which should work well for matrices when N<=25. Adjust the linewidth if you go above this and still want to view the whole matrix (may not work so well on smaller screens).\n",
    "      \n",
    "### 2. Find the eigenvalues and eigenvectors of $\\mathbf{K}$.\n",
    "* *Useful to know:* you may want to reset your `np.set_printoptions` in this cell, if you set it above. A good setting to try here is: `np.set_printoptions(threshold=100, precision=4)` - can you see what effect the \"precision\" setting has?\n",
    "\n",
    "\n",
    "### 3. Calculate the angular frequency $\\omega$ of each normal mode, and plot it as a function of the mode number.\n",
    "* *Hint:* The first mode has mode number 1, not 0. You'll need to create a separate x-array going from 1 to N+1 to use to plot the array of angular frequencies correctly.\n",
    "\n",
    "### 4. Plot the bead displacements as a function of bead number for each of the three lowest normal modes.\n",
    "* *Useful to know:* <tt>plt.axhline(c='k',ls=':',lw=0.5)</tt> will plot a fine black dotted line at the zero-y-axis"
   ]
  },
  {
   "cell_type": "markdown",
   "metadata": {},
   "source": [
    "In the first instance, calculate for a system of 25 identical beads with mass $m=1$ and identical springs each with spring constant $k_i = 1$ (_Yet another hint: [np.ones()](https://docs.scipy.org/doc/numpy/reference/generated/numpy.ones.html)_ )\n",
    "\n",
    "Once you are satisfied that your solution is correct, rerun the notebook for a system of 25 identical beads connected by springs which each have a spring constant $k_i = i$, (_where \"i\" is the integer index of the array, NOT $\\sqrt{-1}$!_) **This is the version that will be graded**.\n",
    "\n",
    "If you have time (for interest, not graded), try calculating for a system where the strength of the springs alternate between weak and strong, or any other configuration you like!\n",
    "\n",
    "Remember to use text cells to describe the maths/physics of what you're doing, and code comments to annotate the code."
   ]
  },
  {
   "cell_type": "markdown",
   "metadata": {},
   "source": [
    "## Your solution goes here:\n",
    "\n",
    "\n",
    "Add text and code cells below to complete the task"
   ]
  },
  {
   "cell_type": "code",
   "execution_count": null,
   "metadata": {
    "collapsed": true
   },
   "outputs": [],
   "source": []
  }
 ],
 "metadata": {
  "anaconda-cloud": {},
  "kernelspec": {
   "display_name": "Python [conda root]",
   "language": "python",
   "name": "conda-root-py"
  },
  "language_info": {
   "codemirror_mode": {
    "name": "ipython",
    "version": 3
   },
   "file_extension": ".py",
   "mimetype": "text/x-python",
   "name": "python",
   "nbconvert_exporter": "python",
   "pygments_lexer": "ipython3",
   "version": "3.5.2"
  }
 },
 "nbformat": 4,
 "nbformat_minor": 0
}
