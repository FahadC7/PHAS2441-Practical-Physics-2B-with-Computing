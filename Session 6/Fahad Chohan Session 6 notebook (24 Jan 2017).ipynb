{
 "cells": [
  {
   "cell_type": "markdown",
   "metadata": {},
   "source": [
    "# PHAS2441 Session 6:  Matrices eigenvectors\n",
    "\n",
    "Fahad Chohan\n",
    "Last updated: 24/01/17"
   ]
  },
  {
   "cell_type": "markdown",
   "metadata": {},
   "source": [
    "You are going to calculate the normal modes of vibration of a system of $N$ beads connected by $N+1$ Hookean springs to fixed end points. The beads are able to move horizontally but not vertically. This provides us with a basic but useful model of vibrations in a solid, where the beads represent atoms and the springs the interatomic bonds."
   ]
  },
  {
   "cell_type": "code",
   "execution_count": 1,
   "metadata": {
    "collapsed": false,
    "scrolled": true
   },
   "outputs": [
    {
     "data": {
      "image/png": "[encoded data removed]",
      "text/plain": [
       "<IPython.core.display.Image object>"
      ]
     },
     "execution_count": 1,
     "metadata": {},
     "output_type": "execute_result"
    }
   ],
   "source": [
    "from IPython.display import Image # needed to embed an image\n",
    "Image(filename='3springs2beads.png', embed=True)\n",
    "# This image file is on Moodle. \n",
    "# It will appear here if you downloaded the image and it's in the same folder as this notebook!"
   ]
  },
  {
   "cell_type": "markdown",
   "metadata": {},
   "source": [
    "First consider a system of just two beads, labelled 1 and 2, connected by three springs with spring constants $k_1$, $k_2$, $k_3$ to two fixed end points, as in the figure above. The displacement of each bead from its equilibrium position is given by $x_1$ and $x_2$, as shown. By considering each spring individually, we can see that the forces exerted by the springs are:\n",
    "\n",
    "** Spring 1** exerts a force $-k_1 x_1$ on bead 1.\n",
    "\n",
    "** Spring 2** exerts a force $-k_2(x_1 - x_2)$ on bead 1 and a force $-k_2(x_2 - x_1)$ on bead 2.\n",
    "\n",
    "** Spring 3** exerts a force $-k_3 x_2$ on bead 2."
   ]
  },
  {
   "cell_type": "markdown",
   "metadata": {},
   "source": [
    "We can then write the total forces on the beads in the form of a matrix equation:\n",
    "\n",
    "$$\n",
    "\\mathbf{F} =-\\mathbf{K}\\cdot \\mathbf{x} = -\\begin{pmatrix}\n",
    "    k_1 + k_2 & -k_2 \\\\\n",
    "    -k_2 & k_2 + k_3 \n",
    "  \\end{pmatrix}\n",
    "  \\begin{pmatrix}\n",
    "   x_1 \\\\ x_2 \\end{pmatrix}\n",
    "$$"
   ]
  },
  {
   "cell_type": "markdown",
   "metadata": {},
   "source": [
    "This can easily be extended to a system of $N$ beads with $N+1$ springs, which gives us a [tridiagonal](http://en.wikipedia.org/wiki/Tridiagonal_matrix) matrix for the spring constants $k_i$:\n",
    "\n",
    "$$ \\mathbf{K} = \n",
    "\\begin{pmatrix}\n",
    "k_1 + k_2 & -k_2 & 0 &  & \\ldots &  0  \\\\\n",
    "-k_2 & k_2 + k_3 & -k_3 & & \\ldots &0 \\\\\n",
    " 0 & -k_3 & k_3 + k_4 & -k_4 & \\ldots & 0 \\\\\n",
    "\\vdots &  & \\ddots & & & \\vdots \\\\\n",
    "0 & 0 & \\ldots &  & -k_N & k_N + k_{N+1} \\\\\n",
    "\\end{pmatrix}\n",
    "$$"
   ]
  },
  {
   "cell_type": "markdown",
   "metadata": {},
   "source": [
    "We also know that for a harmonic oscillator, the spring constants are related to the angular frequency by\n",
    "\n",
    "$$ k = m \\omega^2 $$\n",
    "\n",
    "and hence when we represent this in matrix form, we have\n",
    "\n",
    "$$ -\\mathbf{K}\\mathbf{x} = -m \\omega^2\\mathbf{x} $$\n",
    "\n",
    "which is an eigenvalue equation of the form $\\mathbf{A} \\mathbf{x} = \\lambda \\mathbf{x}$, where the eigenvectors of the matrix $\\mathbf{K}$ will give us the bead displacements for the normal modes of vibration, and the eigenvalues the angular frequency of that mode."
   ]
  },
  {
   "cell_type": "markdown",
   "metadata": {},
   "source": [
    "## Your task:"
   ]
  },
  {
   "cell_type": "markdown",
   "metadata": {},
   "source": [
    "Complete this notebook by doing the following.\n",
    "    \n",
    "### 1. Construct the matrix $\\mathbf{K}$. \n",
    "* *Hint 1a:* It may be easier to construct a one-dimensional vector of $k_i$ and then use the [np.diag](http://docs.scipy.org/doc/numpy/reference/generated/numpy.diag.html) function to construct the diagonal and off-diagonal elements of $\\mathbf{K}$ separately. \n",
    "* *Hint 1b:* Look at the documentation for `np.diag` in the link above and note the optional argument `k` - this will help you construct the off-diagonal elements.\n",
    "* *Hint 2:* It will be easier to debug this if you start with a small value of $N$, less than 5 or so.\n",
    "* *Useful to know:* `np.set_printoptions` will allow you to pretty-print matrices on the screen, which is useful when you are testing and debugging. Try `np.set_printoptions(threshold=2000, linewidth=110,suppress=True)  `, which should work well for matrices when N<=25. Adjust the linewidth if you go above this and still want to view the whole matrix (may not work so well on smaller screens).\n",
    "      \n",
    "### 2. Find the eigenvalues and eigenvectors of $\\mathbf{K}$.\n",
    "* *Useful to know:* you may want to reset your `np.set_printoptions` in this cell, if you set it above. A good setting to try here is: `np.set_printoptions(threshold=100, precision=4)` - can you see what effect the \"precision\" setting has?\n",
    "\n",
    "\n",
    "### 3. Calculate the angular frequency $\\omega$ of each normal mode, and plot it as a function of the mode number.\n",
    "* *Hint:* The first mode has mode number 1, not 0. You'll need to create a separate x-array going from 1 to N+1 to use to plot the array of angular frequencies correctly.\n",
    "\n",
    "### 4. Plot the bead displacements as a function of bead number for each of the three lowest normal modes.\n",
    "* *Useful to know:* <tt>plt.axhline(c='k',ls=':',lw=0.5)</tt> will plot a fine black dotted line at the zero-y-axis"
   ]
  },
  {
   "cell_type": "markdown",
   "metadata": {},
   "source": [
    "In the first instance, calculate for a system of 25 identical beads with mass $m=1$ and identical springs each with spring constant $k_i = 1$ (_Yet another hint: [np.ones()](https://docs.scipy.org/doc/numpy/reference/generated/numpy.ones.html)_ )\n",
    "\n",
    "Once you are satisfied that your solution is correct, rerun the notebook for a system of 25 identical beads connected by springs which each have a spring constant $k_i = i$, (_where \"i\" is the integer index of the array, NOT $\\sqrt{-1}$!_) **This is the version that will be graded**.\n",
    "\n",
    "If you have time (for interest, not graded), try calculating for a system where the strength of the springs alternate between weak and strong, or any other configuration you like!\n",
    "\n",
    "Remember to use text cells to describe the maths/physics of what you're doing, and code comments to annotate the code."
   ]
  },
  {
   "cell_type": "markdown",
   "metadata": {},
   "source": [
    "## Your solution goes here:\n",
    "\n",
    "\n",
    "Add text and code cells below to complete the task"
   ]
  },
  {
   "cell_type": "markdown",
   "metadata": {
    "collapsed": true
   },
   "source": [
    "### 1. Construct the matrix $\\mathbf{K}$"
   ]
  },
  {
   "cell_type": "code",
   "execution_count": 2,
   "metadata": {
    "collapsed": true
   },
   "outputs": [],
   "source": [
    "import numpy as np\n",
    "import numpy.linalg as la\n",
    "import matplotlib.pyplot as plt\n",
    "%matplotlib inline"
   ]
  },
  {
   "cell_type": "markdown",
   "metadata": {},
   "source": [
    "First we are going to create the matrix for $K$. This is done by creating arrays for each diagonal, creating a matrix for each diagonal and then adding up these matrices into one."
   ]
  },
  {
   "cell_type": "code",
   "execution_count": 3,
   "metadata": {
    "collapsed": false
   },
   "outputs": [
    {
     "name": "stdout",
     "output_type": "stream",
     "text": [
      "[[  3  -2   0   0   0   0   0   0   0   0   0   0   0   0   0   0   0   0   0   0   0   0   0   0   0]\n",
      " [ -2   5  -3   0   0   0   0   0   0   0   0   0   0   0   0   0   0   0   0   0   0   0   0   0   0]\n",
      " [  0  -3   7  -4   0   0   0   0   0   0   0   0   0   0   0   0   0   0   0   0   0   0   0   0   0]\n",
      " [  0   0  -4   9  -5   0   0   0   0   0   0   0   0   0   0   0   0   0   0   0   0   0   0   0   0]\n",
      " [  0   0   0  -5  11  -6   0   0   0   0   0   0   0   0   0   0   0   0   0   0   0   0   0   0   0]\n",
      " [  0   0   0   0  -6  13  -7   0   0   0   0   0   0   0   0   0   0   0   0   0   0   0   0   0   0]\n",
      " [  0   0   0   0   0  -7  15  -8   0   0   0   0   0   0   0   0   0   0   0   0   0   0   0   0   0]\n",
      " [  0   0   0   0   0   0  -8  17  -9   0   0   0   0   0   0   0   0   0   0   0   0   0   0   0   0]\n",
      " [  0   0   0   0   0   0   0  -9  19 -10   0   0   0   0   0   0   0   0   0   0   0   0   0   0   0]\n",
      " [  0   0   0   0   0   0   0   0 -10  21 -11   0   0   0   0   0   0   0   0   0   0   0   0   0   0]\n",
      " [  0   0   0   0   0   0   0   0   0 -11  23 -12   0   0   0   0   0   0   0   0   0   0   0   0   0]\n",
      " [  0   0   0   0   0   0   0   0   0   0 -12  25 -13   0   0   0   0   0   0   0   0   0   0   0   0]\n",
      " [  0   0   0   0   0   0   0   0   0   0   0 -13  27 -14   0   0   0   0   0   0   0   0   0   0   0]\n",
      " [  0   0   0   0   0   0   0   0   0   0   0   0 -14  29 -15   0   0   0   0   0   0   0   0   0   0]\n",
      " [  0   0   0   0   0   0   0   0   0   0   0   0   0 -15  31 -16   0   0   0   0   0   0   0   0   0]\n",
      " [  0   0   0   0   0   0   0   0   0   0   0   0   0   0 -16  33 -17   0   0   0   0   0   0   0   0]\n",
      " [  0   0   0   0   0   0   0   0   0   0   0   0   0   0   0 -17  35 -18   0   0   0   0   0   0   0]\n",
      " [  0   0   0   0   0   0   0   0   0   0   0   0   0   0   0   0 -18  37 -19   0   0   0   0   0   0]\n",
      " [  0   0   0   0   0   0   0   0   0   0   0   0   0   0   0   0   0 -19  39 -20   0   0   0   0   0]\n",
      " [  0   0   0   0   0   0   0   0   0   0   0   0   0   0   0   0   0   0 -20  41 -21   0   0   0   0]\n",
      " [  0   0   0   0   0   0   0   0   0   0   0   0   0   0   0   0   0   0   0 -21  43 -22   0   0   0]\n",
      " [  0   0   0   0   0   0   0   0   0   0   0   0   0   0   0   0   0   0   0   0 -22  45 -23   0   0]\n",
      " [  0   0   0   0   0   0   0   0   0   0   0   0   0   0   0   0   0   0   0   0   0 -23  47 -24   0]\n",
      " [  0   0   0   0   0   0   0   0   0   0   0   0   0   0   0   0   0   0   0   0   0   0 -24  49 -25]\n",
      " [  0   0   0   0   0   0   0   0   0   0   0   0   0   0   0   0   0   0   0   0   0   0   0 -25  51]]\n"
     ]
    }
   ],
   "source": [
    "np.set_printoptions(threshold=2000, linewidth=110,suppress=True)\n",
    "\n",
    "n = 25 #matrix size or number of springs\n",
    "\n",
    "x1 = np.arange(1,n+1) + np.arange(2,n+2) #creates array for main diagonal\n",
    "y1 = np.diag(x1) #creates a matrix for abover array\n",
    "\n",
    "x2 = -np.arange(2,n+1) #creates the array for the two secondary diagonals\n",
    "\n",
    "#creates the two matrics for the diagonal\n",
    "y2 = np.diag(x2,k=1)\n",
    "y3 = np.diag(x2,k=-1)\n",
    "\n",
    "#creates the K matrix by adding together above 3 matrices\n",
    "matrix = y1 + y2 + y3\n",
    "\n",
    "print (matrix)"
   ]
  },
  {
   "cell_type": "markdown",
   "metadata": {},
   "source": [
    "### 2. Find the eigenvalues and eigenvectors of $\\mathbf{K}$.\n"
   ]
  },
  {
   "cell_type": "markdown",
   "metadata": {},
   "source": [
    "Now we are going to calculate eigenvalues and their vectors"
   ]
  },
  {
   "cell_type": "code",
   "execution_count": 4,
   "metadata": {
    "collapsed": false
   },
   "outputs": [
    {
     "name": "stdout",
     "output_type": "stream",
     "text": [
      "Eigenvector 1 is [ 0.1531  0.2206  0.257   0.2767  0.286   0.2881  0.285   0.2782  0.2685  0.2566  0.243   0.2282  0.2124\n",
      "  0.196   0.1792  0.1621  0.1448  0.1276  0.1105  0.0936  0.077   0.0607  0.0448  0.0294  0.0144] \n",
      " with corresponding eigenvalue 0.117656788941\n",
      "Eigenvector 2 is [-0.285  -0.3573 -0.3468 -0.2962 -0.2265 -0.1499 -0.0736 -0.0024  0.0611  0.1152  0.1593  0.1931  0.217\n",
      "  0.2316  0.2375  0.2358  0.2274  0.2132  0.1942  0.1714  0.1456  0.1178  0.0886  0.0589  0.0291] \n",
      " with corresponding eigenvalue 0.492762516782\n",
      "Eigenvector 3 is [-0.3895 -0.3679 -0.2173 -0.044   0.1044  0.2087  0.2651  0.2775  0.2544  0.2053  0.1399  0.0671 -0.0059\n",
      " -0.0732 -0.1306 -0.1754 -0.206  -0.2223 -0.2246 -0.2144 -0.1934 -0.1635 -0.1271 -0.0862 -0.0432] \n",
      " with corresponding eigenvalue 1.11069357077\n",
      "Eigenvector 4 is [ 0.4524  0.2365 -0.0616 -0.255  -0.3101 -0.2549 -0.1365  0.0005  0.1222  0.2078  0.2487  0.2457  0.2059\n",
      "  0.1403  0.0607 -0.0213 -0.096  -0.1562 -0.1971 -0.2167 -0.2152 -0.1947 -0.1585 -0.1109 -0.0565] \n",
      " with corresponding eigenvalue 1.95475841545\n",
      "Eigenvector 5 is [-0.4607  0.0014  0.3081  0.3066  0.1211 -0.0942 -0.2382 -0.2748 -0.2155 -0.0973  0.0366  0.1503  0.2204\n",
      "  0.2383  0.2071  0.139   0.0504 -0.0418 -0.1225 -0.1807 -0.2103 -0.2099 -0.182  -0.1325 -0.069 ] \n",
      " with corresponding eigenvalue 3.00594524207\n",
      "Eigenvector 6 is [-0.41    0.2558  0.3375  0.0403 -0.2317 -0.2943 -0.1694  0.0299  0.1929  0.2577  0.217   0.103  -0.036\n",
      " -0.1541 -0.2207 -0.2245 -0.172  -0.0819  0.0218  0.1157  0.1817  0.2097  0.1977  0.1511  0.0808] \n",
      " with corresponding eigenvalue 4.24795917948\n",
      "Eigenvector 7 is [-0.3146  0.4207  0.1152 -0.2774 -0.2766 -0.0144  0.2221  0.2714  0.1442 -0.0522 -0.2037 -0.2464 -0.1782\n",
      " -0.0426  0.1     0.1982  0.2245  0.1786  0.0817 -0.0335 -0.1342 -0.1957 -0.2062 -0.1676 -0.0924] \n",
      " with corresponding eigenvalue 5.67445103552\n",
      "Eigenvector 8 is [-0.2062  0.4426 -0.2006 -0.3173  0.0521  0.2966  0.1972 -0.0695 -0.2503 -0.2305 -0.0597  0.1331  0.2364\n",
      "  0.2092  0.0821 -0.0745 -0.1899 -0.222  -0.1672 -0.0542  0.0723  0.169   0.208   0.1821  0.1042] \n",
      " with corresponding eigenvalue 7.29189601344\n",
      "Eigenvector 9 is [-0.1155  0.3531 -0.4073 -0.0496  0.327   0.1441 -0.2003 -0.2734 -0.0616  0.1852  0.2561  0.1266 -0.0817\n",
      " -0.222  -0.218  -0.09    0.0786  0.1981  0.2163  0.135  -0.001  -0.1304 -0.2025 -0.1947 -0.1162] \n",
      " with corresponding eigenvalue 9.11418162469\n",
      "Eigenvector 10 is [-0.0556  0.2268 -0.4283  0.2748  0.2241 -0.2348 -0.254   0.0834  0.28    0.1445 -0.1252 -0.256  -0.1571\n",
      "  0.0599  0.2179  0.2141  0.07   -0.1094 -0.2152 -0.1957 -0.0731  0.081   0.1891  0.2048  0.1285] \n",
      " with corresponding eigenvalue 11.1555163116\n",
      "Eigenvector 11 is [-0.0231  0.1207 -0.3236  0.4295 -0.1216 -0.3087  0.1231  0.2943  0.0074 -0.2608 -0.1862  0.0905  0.2524\n",
      "  0.1607 -0.0688 -0.2262 -0.1957 -0.0208  0.1595  0.2237  0.1418 -0.0229 -0.1671 -0.2118 -0.1409] \n",
      " with corresponding eigenvalue 13.428465597\n",
      "Eigenvector 12 is [-0.0083  0.0539 -0.1912  0.3872 -0.3849 -0.0054  0.3322 -0.0345 -0.2993 -0.0604  0.2444  0.199  -0.087\n",
      " -0.2534 -0.1394  0.1064  0.238   0.1514 -0.0577 -0.2103 -0.196  -0.0403  0.1366  0.2154  0.1536] \n",
      " with corresponding eigenvalue 15.945499278\n",
      "Eigenvector 13 is [-0.0026  0.0204 -0.0915  0.2527 -0.4181  0.3275  0.0908 -0.3287 -0.0178  0.2954  0.0774 -0.2431 -0.1889\n",
      "  0.1141  0.2545  0.0884 -0.1653 -0.233  -0.0675  0.1528  0.2265  0.104  -0.0977 -0.2149 -0.1664] \n",
      " with corresponding eigenvalue 18.7206857649\n",
      "Eigenvector 14 is [-0.0007  0.0065 -0.0359  0.1278 -0.2976  0.4278 -0.2809 -0.1366  0.3221  0.0337 -0.2951 -0.0611  0.2573\n",
      "  0.1528 -0.1665 -0.2393 -0.0014  0.225   0.1816 -0.0572 -0.2254 -0.1629  0.0511  0.2098  0.1795] \n",
      " with corresponding eigenvalue 21.7707745853\n",
      "Eigenvector 15 is [-0.0002  0.0018 -0.0116  0.0514 -0.1563  0.325  -0.4285  0.2575  0.1487 -0.3227 -0.0144  0.2983  0.0107\n",
      " -0.2756 -0.0813  0.2285  0.1825 -0.1156 -0.2452 -0.0604  0.1878  0.2103  0.0022 -0.1996 -0.1928] \n",
      " with corresponding eigenvalue 25.1160936613\n",
      "Eigenvector 16 is [-0.      0.0004 -0.0031  0.0166 -0.0632  0.1735 -0.3369  0.4286 -0.2616 -0.1298  0.3297 -0.0398 -0.2927\n",
      "  0.0742  0.2743 -0.0316 -0.266  -0.0621  0.2251  0.174  -0.1132 -0.2392 -0.0605  0.1834  0.2063] \n",
      " with corresponding eigenvalue 28.7816468734\n",
      "Eigenvector 17 is [-0.      0.0001 -0.0007  0.0043 -0.0199  0.0688 -0.1776  0.335  -0.4301  0.292   0.0778 -0.3312  0.1269\n",
      "  0.255  -0.183  -0.2185  0.1697  0.2271 -0.1105 -0.25    0.0076  0.2422  0.1212 -0.1604 -0.2203] \n",
      " with corresponding eigenvalue 32.7986732184\n",
      "Eigenvector 18 is [-0.      0.     -0.0001  0.0009 -0.0049  0.0207 -0.0674  0.1689 -0.3192  0.4293 -0.3423  0.0117  0.3049\n",
      " -0.2332 -0.157   0.2795  0.0786 -0.2736 -0.0715  0.2536  0.1139 -0.212  -0.1808  0.1294  0.2346] \n",
      " with corresponding eigenvalue 37.2069826296\n",
      "Eigenvector 19 is [-0.      0.     -0.      0.0001 -0.0009  0.0047 -0.0187  0.0592 -0.1482  0.2884 -0.4174  0.3985 -0.1377\n",
      " -0.222   0.3217 -0.0143 -0.2952  0.1293  0.2453 -0.1603 -0.2255  0.1434  0.234  -0.0892 -0.2494] \n",
      " with corresponding eigenvalue 42.0586159244\n",
      "Eigenvector 20 is [-0.      0.     -0.      0.     -0.0001  0.0008 -0.0038  0.0147 -0.0462  0.1181 -0.2417  0.3836 -0.4387\n",
      "  0.2837  0.061  -0.3285  0.2214  0.1575 -0.2961 -0.0249  0.2896 -0.0345 -0.2734  0.0379  0.2649] \n",
      " with corresponding eigenvalue 47.4238993563\n",
      "Eigenvector 21 is [-0.      0.     -0.      0.     -0.      0.0001 -0.0005  0.0025 -0.0097  0.0312 -0.0831  0.1818 -0.3206\n",
      "  0.4358 -0.4097  0.1651  0.1875 -0.3476  0.1224  0.242  -0.2595 -0.1083  0.2878  0.027  -0.2811] \n",
      " with corresponding eigenvalue 53.4021851973\n",
      "Eigenvector 22 is [-0.      0.     -0.      0.     -0.      0.     -0.0001  0.0003 -0.0013  0.0052 -0.0175  0.0492 -0.117\n",
      "  0.2312 -0.3708  0.4587 -0.3834  0.1023  0.2386 -0.3494  0.0912  0.2624 -0.2601 -0.1091  0.2983] \n",
      " with corresponding eigenvalue 60.1427756901\n",
      "Eigenvector 23 is [-0.      0.     -0.      0.     -0.      0.     -0.      0.     -0.0001  0.0005 -0.0021  0.0075 -0.0228\n",
      "  0.0595 -0.1331  0.2511 -0.3901  0.4757 -0.4039  0.1315  0.2163 -0.3702  0.1616  0.2141 -0.3169] \n",
      " with corresponding eigenvalue 67.8914797055\n",
      "Eigenvector 24 is [ 0.     -0.      0.     -0.      0.     -0.      0.     -0.      0.     -0.      0.0001 -0.0006  0.0021\n",
      " -0.0071  0.0208 -0.0533  0.1188 -0.2277  0.3682 -0.4854  0.4842 -0.2876 -0.0616  0.3529 -0.3378] \n",
      " with corresponding eigenvalue 77.1179990693\n",
      "Eigenvector 25 is [ 0.     -0.      0.     -0.      0.     -0.      0.     -0.      0.     -0.      0.     -0.      0.0001\n",
      " -0.0003  0.001  -0.0035  0.0107 -0.0287  0.0685 -0.1442  0.2644 -0.4156  0.5427 -0.552   0.3629] \n",
      " with corresponding eigenvalue 89.0284027504\n"
     ]
    }
   ],
   "source": [
    "np.set_printoptions(threshold=10000, precision=4)\n",
    "\n",
    "#calculates eigenvalues and their corresponding eigen vectors\n",
    "eigval, eigvec = np.linalg.eigh(matrix)\n",
    "\n",
    "#loop function to print each eigenvalue with its corresponding eigenvectors\n",
    "a = 1\n",
    "for i in range(n):\n",
    "    print(\"Eigenvector\",a, \"is\", eigvec[:,i], \"\\n with corresponding eigenvalue\", eigval[i])\n",
    "    a = a+1"
   ]
  },
  {
   "cell_type": "markdown",
   "metadata": {},
   "source": [
    "### 3. Calculate the angular frequency $\\omega$ of each normal mode, and plot it as a function of the mode number."
   ]
  },
  {
   "cell_type": "markdown",
   "metadata": {},
   "source": [
    "Now we will plot the mode against its angular frequency"
   ]
  },
  {
   "cell_type": "code",
   "execution_count": 5,
   "metadata": {
    "collapsed": false
   },
   "outputs": [
    {
     "data": {
      "text/plain": [
       "<matplotlib.text.Text at 0x7bf2860>"
      ]
     },
     "execution_count": 5,
     "metadata": {},
     "output_type": "execute_result"
    },
    {
     "data": {
      "image/png": "[encoded data removed]",
      "text/plain": [
       "<matplotlib.figure.Figure at 0x76af160>"
      ]
     },
     "metadata": {},
     "output_type": "display_data"
    }
   ],
   "source": [
    "mass = 1.0 #mass of beads\n",
    "\n",
    "#creates array for bead number\n",
    "x = np.arange(1,n+1)\n",
    "\n",
    "#calculates angular frequency for each bead\n",
    "angfreq = np.sqrt(eigval/mass)\n",
    "\n",
    "plt.plot(x,angfreq, 'b.')\n",
    "plt.xlabel(\"mode\")\n",
    "plt.ylabel(\"angular frequency\")\n",
    "plt.grid()\n",
    "plt.title(\"angular frequency for each mode\")"
   ]
  },
  {
   "cell_type": "markdown",
   "metadata": {},
   "source": [
    "### 4. Plot the bead displacements as a function of bead number for each of the three lowest normal modes."
   ]
  },
  {
   "cell_type": "markdown",
   "metadata": {},
   "source": [
    "Now we are going to plot bead displacements for the 3 lowest modes"
   ]
  },
  {
   "cell_type": "code",
   "execution_count": 6,
   "metadata": {
    "collapsed": false
   },
   "outputs": [
    {
     "data": {
      "text/plain": [
       "<matplotlib.text.Text at 0x7cb0828>"
      ]
     },
     "execution_count": 6,
     "metadata": {},
     "output_type": "execute_result"
    },
    {
     "data": {
      "image/png": "[encoded data removed]",
      "text/plain": [
       "<matplotlib.figure.Figure at 0x7bd95c0>"
      ]
     },
     "metadata": {},
     "output_type": "display_data"
    }
   ],
   "source": [
    "#loop that plots bead displacement of each bead for 3 lowest modes\n",
    "for i in range(3):\n",
    "    bead = np.arange(1,n+1,1) #creates array for bead number\n",
    "    eigv = eigvec[:,i] #extracts bead displacement values from array\n",
    "    plt.plot(bead,eigv,'.',label = '$mode = [0:3]$'.format(i=1))\n",
    "    plt.legend(loc = 'best', prop={'size':6})\n",
    "    \n",
    "plt.title(\"Bead displacements for 3 lowest modes\")\n",
    "plt.xlabel(\"bead number\")\n",
    "plt.ylabel(\"bead displacement\")"
   ]
  },
  {
   "cell_type": "markdown",
   "metadata": {},
   "source": []
  }
 ],
 "metadata": {
  "anaconda-cloud": {},
  "kernelspec": {
   "display_name": "Python [Root]",
   "language": "python",
   "name": "Python [Root]"
  },
  "language_info": {
   "codemirror_mode": {
    "name": "ipython",
    "version": 3
   },
   "file_extension": ".py",
   "mimetype": "text/x-python",
   "name": "python",
   "nbconvert_exporter": "python",
   "pygments_lexer": "ipython3",
   "version": "3.5.2"
  }
 },
 "nbformat": 4,
 "nbformat_minor": 0
}
