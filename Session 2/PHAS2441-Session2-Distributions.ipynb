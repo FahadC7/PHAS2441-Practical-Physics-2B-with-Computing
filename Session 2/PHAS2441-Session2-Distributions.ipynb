{
 "cells": [
  {
   "cell_type": "markdown",
   "metadata": {},
   "source": [
    "# PHAS2441 Session 2:  Histograms and normal distributions"
   ]
  },
  {
   "cell_type": "markdown",
   "metadata": {},
   "source": [
    "<div class=\"alert alert-success\"> <p>*  **Intended learning outcomes:** * </p>\n",
    "By the end of this session, you should be able to:\n",
    "<ul>\n",
    "<li> Use Python to generate and plot a histogram; </li>\n",
    "<li> Determine whether or not the data fits well to a normal distribution </li>\n",
    "<li> Be able to determine a suitable bin size for a histogram </li>\n",
    "</div>\n",
    "\n",
    "The task this session is a \"fill-in-the-blanks\" style task. This notebook will guide you through what you need to do, and at various points you will find empty code cells that you need to complete in order to proceed.\n",
    "\n",
    "Rename this notebook so that the title contains your name; when you have completed the task you will upload this notebook to Moodle."
   ]
  },
  {
   "cell_type": "markdown",
   "metadata": {},
   "source": [
    "## Getting started: Importing the data\n",
    "\n",
    "The first thing we need to do is import the modules we will need. In this case we'll be using numpy and matplotlib.pyplot. We'll also tell the notebook to produce all the plots inside the notebook for convenience."
   ]
  },
  {
   "cell_type": "code",
   "execution_count": null,
   "metadata": {
    "collapsed": false
   },
   "outputs": [],
   "source": [
    "import numpy as np\n",
    "import matplotlib.pyplot as plt\n",
    "\n",
    "# The following line makes all plot output generate as images within the notebook. \n",
    "%matplotlib inline"
   ]
  },
  {
   "cell_type": "markdown",
   "metadata": {},
   "source": [
    "We're going to import some data from a text file into an array using numpy's loadtxt function. Make sure you've downloaded the file \"sampledata.txt\" from Moodle, and that it is saved in the *same directory/folder as this notebook*. \n",
    "\n",
    "The file contains a single column of numbers representing the results of a series of measurements of the same quantity. Use `np.loadtxt` to import the contents of the file into an array called \"data\". To check that the file has imported correctly, output the array, and also the number of data points. \n",
    "\n",
    "Do this in the cell below:"
   ]
  },
  {
   "cell_type": "code",
   "execution_count": null,
   "metadata": {
    "collapsed": false
   },
   "outputs": [],
   "source": [
    "### STUDENT GENERATED CELL ###"
   ]
  },
  {
   "cell_type": "markdown",
   "metadata": {},
   "source": [
    "If you've successfully imported the data, you should be able to see that the average value is around 10. We can easily calculate the average:"
   ]
  },
  {
   "cell_type": "code",
   "execution_count": null,
   "metadata": {
    "collapsed": false
   },
   "outputs": [],
   "source": [
    "print(\"The mean of the data is \", np.mean(data))"
   ]
  },
  {
   "cell_type": "markdown",
   "metadata": {},
   "source": [
    "### Creating a histogram\n",
    "\n",
    "In theory, because our data is a set of repeated measurements of the same quantity, the distribution of the values should follow a Gaussian (normal) distribution, i.e. when we plot a histogram of the data, its shape should fit\n",
    "\n",
    "$$ f(x) = \\frac{1}{\\sigma \\sqrt{2\\pi}} \\exp \\left[-\\frac{(x-\\bar{x})^2}{2\\sigma^2}\\right], $$\n",
    "where $\\bar{x}$ is the mean value of the data, and $\\sigma$ the standard deviation.\n",
    "\n",
    "To see if this is true, we'll first plot the data as a histogram. We'll use the `plt.hist` function to automatically sort the data into bins and plot the resulting histogram:"
   ]
  },
  {
   "cell_type": "code",
   "execution_count": null,
   "metadata": {
    "collapsed": false
   },
   "outputs": [],
   "source": [
    "plt.hist(data)\n",
    "plt.xlabel(\"value\")\n",
    "plt.ylabel(\"number of occurences\") "
   ]
  },
  {
   "cell_type": "markdown",
   "metadata": {},
   "source": [
    "By default, the matplotlib hist command puts the data into 10 bins. You can see all the possible options in the documentation http://matplotlib.org/api/pyplot_api.html?highlight=hist#matplotlib.pyplot.hist, but in general the only things you're likely to need to change are:\n",
    "* The number of bins.\n",
    "* Whether or not the histogram is normalised (normed) - in this case the integral of the histogram will be equal to 1.\n",
    "\n",
    "For example, this will sort the data into 15 bins, and normalize the histogram:"
   ]
  },
  {
   "cell_type": "code",
   "execution_count": null,
   "metadata": {
    "collapsed": false
   },
   "outputs": [],
   "source": [
    "plt.hist(data,bins=15,normed=True) # 15 bins, normalized\n",
    "plt.xlabel(\"value\")\n",
    "plt.ylabel(\"normalised occurences\") ; # semicolon at end suppresses unwanted IPython <output>"
   ]
  },
  {
   "cell_type": "markdown",
   "metadata": {},
   "source": [
    "### How well does this fit to a Gaussian?\n",
    "\n",
    "Our data looks as though it may be roughly Gaussian. How can we check this?\n",
    "\n",
    "We'll use another python module: scipy.stats, to find out. (Documentation link: http://docs.scipy.org/doc/scipy-0.14.0/reference/stats.html)"
   ]
  },
  {
   "cell_type": "code",
   "execution_count": null,
   "metadata": {
    "collapsed": false
   },
   "outputs": [],
   "source": [
    "import scipy.stats as stats"
   ]
  },
  {
   "cell_type": "markdown",
   "metadata": {},
   "source": [
    "Specifically, we'll use norm.fit to fit the data that we used in the histogram to a Gaussian, and give us the two parameters $\\bar{x}$ and $\\sigma$."
   ]
  },
  {
   "cell_type": "code",
   "execution_count": null,
   "metadata": {
    "collapsed": false
   },
   "outputs": [],
   "source": [
    "x0, sigma = stats.norm.fit(data)\n",
    "print (\"Fitted Gaussian: \\n Mean value \", x0, \"with standard deviation\", sigma)"
   ]
  },
  {
   "cell_type": "markdown",
   "metadata": {},
   "source": [
    "We can see that we obtain the same mean as we got before from np.mean.\n",
    "\n",
    "Now we want to plot the fitted Gaussian on top of the histogram to see how good the fit is. In the cell below, write a suitably-named function that will return a Gaussian \n",
    "$$y = \\frac{1}{\\sigma \\sqrt{2\\pi}} \\exp \\left[-\\frac{(x-\\bar{x})^2}{2\\sigma^2}\\right], $$\n",
    "for an input $x, \\bar{x}$, and $\\sigma$.\n"
   ]
  },
  {
   "cell_type": "code",
   "execution_count": null,
   "metadata": {
    "collapsed": false
   },
   "outputs": [],
   "source": [
    "### STUDENT GENERATED CELL ### \n"
   ]
  },
  {
   "cell_type": "markdown",
   "metadata": {},
   "source": [
    "Now complete the cell below to:\n",
    "1. use np.linspace to create an array of 100 x-values for the fitted line starting at 7 and finishing at 13\n",
    "2. Use your function to create a corresponding array of y-values with a Gaussian form."
   ]
  },
  {
   "cell_type": "code",
   "execution_count": null,
   "metadata": {
    "collapsed": false
   },
   "outputs": [],
   "source": [
    "### STUDENT GENERATED CELL ### \n"
   ]
  },
  {
   "cell_type": "markdown",
   "metadata": {},
   "source": [
    "The following cell will replot the (normalised) histogram, a blue line from your generated x and y, and another (red) line."
   ]
  },
  {
   "cell_type": "code",
   "execution_count": null,
   "metadata": {
    "collapsed": false
   },
   "outputs": [],
   "source": [
    "gaussian = stats.norm.pdf(x,x0,sigma) # see next text cell for explanation\n",
    "plt.hist(data, normed=True,alpha=0.25)\n",
    "plt.plot(x,y,'b-', label='Gaussian')\n",
    "plt.plot(x,gaussian,'r-.', label=\"stats.norm.pdf\")\n",
    "plt.legend()\n",
    "plt.xlabel('measured value')\n",
    "plt.ylabel('normalised frequency')\n",
    "title_label=('Line fitted with Gaussian $x_0$ = {0:8.2e}, $\\sigma$ = {1:8.2e}'.format(x0,sigma))\n",
    "# n.b. number format 8.2e : exponential format, 8 chars total, with 2 decimal places\n",
    "plt.title(title_label) ;"
   ]
  },
  {
   "cell_type": "markdown",
   "metadata": {},
   "source": [
    "If you've done this correctly, you should find that the red dashed line matches *exactly* with your calculated line (the solid blue line). If it doesn't, go back and correct your code until it does!\n",
    "\n",
    "Let's look at how the red line was generated - it uses the `stats.norm.pdf` function, which generates the probability density function (\"pdf\"), i.e. a Gaussian, for the given values of x0 and sigma. It's probably easier to use than generating your own Gaussian, so in future you can use this if you wish.\n",
    "\n",
    "(Note also \n",
    "1. the extra option \"alpha=0.25\" in the hist function - this makes the histogram bars transparent, which makes the graph look a lot more visually clear when you're plotting lines on top of a histogram.\n",
    "2. The title of the graph includes the fitted parameters by using a Python `.format`. This is often useful to be able to do, so feel free to copy and paste this formatting to other plots if you want.\n",
    ")"
   ]
  },
  {
   "cell_type": "markdown",
   "metadata": {},
   "source": [
    "### More data = a better fit?\n",
    "\n",
    "We only have 150 data points at the moment. To give you an idea of how data distributions become more Gaussian as the data set size increases, we're going to generate some \"fake\" data so we can easily change the number of data points. \n",
    "\n",
    "The numpy function \"random\" will generate random numbers with a normal distribution for us."
   ]
  },
  {
   "cell_type": "code",
   "execution_count": null,
   "metadata": {
    "collapsed": false
   },
   "outputs": [],
   "source": [
    "npoints = 10000 # the number of data points we want\n",
    "mean_x = 10 # roughly the same as the data set above\n",
    "stdev = 1 # roughly the same as the data set above\n",
    "\n",
    "# Our fake data set. Don't do this in a lab course!\n",
    "new_data = np.random.normal(mean_x,stdev,npoints)"
   ]
  },
  {
   "cell_type": "markdown",
   "metadata": {},
   "source": [
    "In the cell below, \n",
    "1. Use stats.norm.fit to find the actual mean and standard deviation of new_data. Are these exactly equal to 10 and 1?\n",
    "2. Use stats.norm.pdf to generate a set of y values (use the existing set of x values, if you want)\n",
    "3. Plot a histogram of the data, with the fitted line on top (just as above).\n",
    "4. Experiment with the number of points, `npoints` in the cell above.\n",
    "4. Experiment with the number of bins. Do more bins always give better results?\n",
    "5. Use further text and code cells to demonstrate your results for two or three different scenarios (i.e. vary the bin ranges and/or the number of data points)."
   ]
  },
  {
   "cell_type": "code",
   "execution_count": null,
   "metadata": {
    "collapsed": false
   },
   "outputs": [],
   "source": [
    "### STUDENT GENERATED CELL ###\n"
   ]
  },
  {
   "cell_type": "markdown",
   "metadata": {},
   "source": [
    "### When will I need to use this?\n",
    "\n",
    "Fitting a histogram to a Gaussian is particularly useful when you've fitted some data and want to check how good the fit is. If a fit models the data well, we'd expect the distribution of the *residuals* to be Gaussian.\n",
    "\n",
    "<div class=\"alert alert-success\"> **Residual**: the (vertical) distance between the data point and the fitted line - we looked at this when we were doing least squares fits in PHAS1240. </div>\n",
    "\n",
    "This is fairly intuitive. For a good fit, we'd expect roughly as many data points above our fitted line as below, and for most of the data points to be close to the line, with fewer further away.\n",
    "\n",
    "In sessions 3 and 4, we'll be fitting data to functions, and then using the distribution of the residuals to consider *quantitatively* how well a function fits to our data. "
   ]
  },
  {
   "cell_type": "code",
   "execution_count": null,
   "metadata": {
    "collapsed": false
   },
   "outputs": [],
   "source": []
  }
 ],
 "metadata": {
  "anaconda-cloud": {},
  "kernelspec": {
   "display_name": "Python [conda root]",
   "language": "python",
   "name": "conda-root-py"
  },
  "language_info": {
   "codemirror_mode": {
    "name": "ipython",
    "version": 3
   },
   "file_extension": ".py",
   "mimetype": "text/x-python",
   "name": "python",
   "nbconvert_exporter": "python",
   "pygments_lexer": "ipython3",
   "version": "3.5.2"
  }
 },
 "nbformat": 4,
 "nbformat_minor": 0
}
