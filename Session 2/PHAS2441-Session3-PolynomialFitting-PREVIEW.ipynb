{
 "cells": [
  {
   "cell_type": "markdown",
   "metadata": {},
   "source": [
    "# Session 3: Fitting polynomials - Preview Notebook\n",
    "\n",
    "_Author: louise.dash@ucl.ac.uk    \n",
    "Updated: 08/01/2017_\n",
    "\n",
    "This is the first part of the session 3 material, made available early to give you a head start."
   ]
  },
  {
   "cell_type": "markdown",
   "metadata": {},
   "source": [
    "<div class=\"alert alert-success\"> <p>*  **Intended learning outcomes:** * </p>\n",
    "By the end of this session, you should be able to:\n",
    "<ul>\n",
    "<li> Use Python to fit a set of data to a polynomial; </li>\n",
    "<li> To evaluate the goodness of fit using the matrix of covariance and Chi^2</li>\n",
    "<li> Fit the residuals to a Gaussian. </li>\n",
    "</div>"
   ]
  },
  {
   "cell_type": "markdown",
   "metadata": {},
   "source": [
    "## Why fit to a polynomial?\n",
    "\n",
    "In physics we often meet an experimental relation between variables which is difficult to describe mathematically. This may either be because the theoretical equation which describes the observed behaviour is difficult to solve, or because the situation is complicated by several ill-defined factors and it is difficult to derive any theoretical equation which can describe it properly. However, we can still measure the dependence between the variables experimentally and we would like to have some means of predicting this dependence. In this kind of situation it is convenient to fit an equation to our experimental data. We can then use the fitted equation to interpolate, i.e. to calculate the expected value of a variable between our measured data points, and to extrapolate, i.e. to calculate the expected value beyond the range of our measured data points. This procedure is often called “parameterizing” the relationship.\n",
    "\n",
    "In principle we could use any form of equation to fit a set of measured data, but if we have no theoretical basis for fitting a particular type of curve it is often simplest and easiest to fit a polynomial. The order of the polynomial and the coefficients of each term in the fitted equation are called the “parameters” of our fit.\n",
    "\n",
    "In this session we will look at how to fit polynomials with numpy, using experiment E5 as an example. If you are taking PHAS2441 you will be doing this experiment yourself in the second half of term. The experiment involves calibrating a temperature sensor by measuring its output voltage over a range of temperature. A polynomial equation is then fitted to the experimental results and this calibration equation is later input into a programmable chip so that the sensor can operate as a digital thermometer."
   ]
  },
  {
   "cell_type": "markdown",
   "metadata": {},
   "source": [
    "## Using numpy to fit a polynomial to a dataset"
   ]
  },
  {
   "cell_type": "markdown",
   "metadata": {},
   "source": [
    "The first thing we need to do is import the modules we'll need. Enter these in the code cell below"
   ]
  },
  {
   "cell_type": "code",
   "execution_count": null,
   "metadata": {
    "collapsed": false
   },
   "outputs": [],
   "source": [
    "### STUDENT GENERATED CELL ###\n"
   ]
  },
  {
   "cell_type": "markdown",
   "metadata": {},
   "source": [
    "Now we should load our data file, which is called \"studentdataE5.txt\". This data file contains two columns, the first is the temperature in Celsius, the second the measured voltage (V). In the cell below,\n",
    "\n",
    "* Load the data file using np.loadtxt, and unpack it into two arrays called `temp` and `voltage`.\n",
    "* Plot it on a (labelled!) graph, using data points"
   ]
  },
  {
   "cell_type": "code",
   "execution_count": null,
   "metadata": {
    "collapsed": false
   },
   "outputs": [],
   "source": [
    "### STUDENT GENERATED CELL ###\n"
   ]
  },
  {
   "cell_type": "markdown",
   "metadata": {},
   "source": [
    "### Numpy's polyfit function(s)\n",
    "\n",
    "Fortunately, we can get numpy to do all the hard work of fitting for us, by using the * **polyfit** * function. The documentation for this is here: http://docs.scipy.org/doc/numpy/reference/generated/numpy.polyfit.html - have a quick look at this before proceeding.\n",
    "\n",
    "The cell below shows an example usage of np.polyfit. To run it, change \"temp\" and \"voltage\" to whatever you are using as the relevant variable names."
   ]
  },
  {
   "cell_type": "code",
   "execution_count": null,
   "metadata": {
    "collapsed": false
   },
   "outputs": [],
   "source": [
    "degree = 2 # degree of polynomial we want to fit to\n",
    "p = np.polyfit(temp,voltage,degree)\n",
    "print (\"The fitted polynomial coefficients are\", p)"
   ]
  },
  {
   "cell_type": "markdown",
   "metadata": {},
   "source": [
    "** * IMPORTANT NOTE: * ** Numpy actually has two versions of polyfit: `numpy.polyfit`, and  `numpy.polynomial.polynomial.polyfit`. They are almost identical, and are used in the same way. But look at the one crucial difference:"
   ]
  },
  {
   "cell_type": "code",
   "execution_count": null,
   "metadata": {
    "collapsed": false
   },
   "outputs": [],
   "source": [
    "p = np.polyfit(temp,voltage,degree)\n",
    "print (\"np.polyfit returns the coefficients as\", p)\n",
    "pp = np.polynomial.polynomial.polyfit(temp,voltage,degree)\n",
    "print (\"np.polynomial.polynomial.polyfit returns the coefficients as\", pp)"
   ]
  },
  {
   "cell_type": "markdown",
   "metadata": {},
   "source": [
    "numpy.polyfit (our np.polyfit) returns the coefficients with the highest power first, but numpy.polynomial.polynomial.polyfit returns the lowest power first. This is daft.\n",
    "  \n",
    "However, it is an important reminder of *why* we import our modules with named abbreviations - it makes it clear which version of which module function we're using!"
   ]
  },
  {
   "cell_type": "markdown",
   "metadata": {},
   "source": [
    "### Plotting fitted polynomials\n",
    "\n",
    "Now we have our polynomial coefficients, we probably want to plot this polynomial to see how good the fit is. We could construct an expresssion for this from the elements of p, but there's a much easier way to do this with the numpy function poly1d (http://docs.scipy.org/doc/numpy/reference/generated/numpy.poly1d.html ), which will convert the array of polynomial coefficients $p$ into a function that we can call to generate the value of the polynomial for a given value of $x$. The following code cell does this by using np.poly1d to create a function called \"line\":"
   ]
  },
  {
   "cell_type": "code",
   "execution_count": null,
   "metadata": {
    "collapsed": false
   },
   "outputs": [],
   "source": [
    "line = np.poly1d(p)"
   ]
  },
  {
   "cell_type": "markdown",
   "metadata": {},
   "source": [
    "Now you need to:\n",
    "\n",
    "* Generate an array of x-values to fit the data to\n",
    "* Use the \"line\" function we just created to generate a corresponding array of y-values.\n",
    "* Plot the original data (as points) and the fitted line (as a line) on a labelled graph."
   ]
  },
  {
   "cell_type": "code",
   "execution_count": null,
   "metadata": {
    "collapsed": false
   },
   "outputs": [],
   "source": [
    "### STUDENT GENERATED CELL ###\n"
   ]
  },
  {
   "cell_type": "markdown",
   "metadata": {},
   "source": [
    "At first glance, this second-order polynomial looks okayish (or it should do if you've done it right!) - but with definite room for improvement.\n",
    "\n",
    "But how good is the fit really? The rest of the session 3 notebook will examine how we can determine the goodness of fit quantitatively, using $\\chi^2$ analysis. You can read about the theory of this in [Hughes and Hase](https://www.dawsonera.com/guard/protected/dawson.jsp?name=https://shib-idp.ucl.ac.uk/shibboleth&dest=http://www.dawsonera.com/depp/reader/protected/external/AbstractView/S9780191576560)."
   ]
  },
  {
   "cell_type": "code",
   "execution_count": null,
   "metadata": {
    "collapsed": false
   },
   "outputs": [],
   "source": []
  }
 ],
 "metadata": {
  "anaconda-cloud": {},
  "kernelspec": {
   "display_name": "Python [conda root]",
   "language": "python",
   "name": "conda-root-py"
  },
  "language_info": {
   "codemirror_mode": {
    "name": "ipython",
    "version": 3
   },
   "file_extension": ".py",
   "mimetype": "text/x-python",
   "name": "python",
   "nbconvert_exporter": "python",
   "pygments_lexer": "ipython3",
   "version": "3.5.2"
  }
 },
 "nbformat": 4,
 "nbformat_minor": 0
}
