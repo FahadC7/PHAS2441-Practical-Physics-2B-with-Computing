{
 "cells": [
  {
   "cell_type": "markdown",
   "metadata": {},
   "source": [
    "# PHAS2441 Session 1 Task"
   ]
  },
  {
   "cell_type": "markdown",
   "metadata": {},
   "source": [
    "<div class=\"alert alert-success\">\n",
    "\n",
    "<b> Task instructions: </b>\n",
    "<br><br>\n",
    "In this task you'll use a Jupyter notebook to calculate some functions and plot them. The point of this is to refresh your existing knowledge of Python and working with Jupyter Notebooks.\n",
    "\n",
    "<br>\n",
    "<ol>\n",
    "<li>\n",
    "Change the of this notebook to include your name. Use this notebook to do the following calculations. Starting with a brief introduction, you should add text cells, in addition to \"`#`\" comments in the code cells, to explain clearly what you're doing. You can cut and paste the equations from this green instruction block if you want, but make sure your text cells are your own words.\n",
    "</li>\n",
    "<li>\n",
    "Create a (properly formatted and structured) function to convert from two-dimensional polar coordinates $r, \\theta$ to cartesian coordinates $x,y$, using the equations \n",
    "$$ x = r \\cos(\\theta) \\\\\n",
    "y = r \\sin(\\theta) $$\n",
    "This function will need to return *two* values (i.e. $x$ and $y$). To do this, use a statement like `return x,y` as the final line of the function. When you call the function, use a statement like (for example): \n",
    "\n",
    "<center>`x,y = <functionname>(r,theta)`,</center>\n",
    "replacing `<functionname>` with the name of your function. </li>\n",
    "\n",
    "<li>Check that your function works by testing it, with suitable inputs, in a new code cell.</b>\n",
    "</li>\n",
    "\n",
    "<li>\n",
    "Using this function, calculate and plot the \"Galilean spiral\" \n",
    "$$r = \\theta^2 - l$$\n",
    "for the range $0 < \\theta < 10\\pi$ with $l = 0.1$.\n",
    "<br>\n",
    "<br>Some helpful hints: \n",
    "<ul>\n",
    "   <li>Use an array function to create a numpy array of values for $\\theta$</li> \n",
    "   <li>Don't forget to label the plot with axis labels and a title.</li> \n",
    "   <li>Choose your variable names wisely. Is `l` a good choice for the parameter $l$? Why/why not?</li> \n",
    "</ul>\n",
    "</li> \n",
    "<li> \n",
    "See how the spiral changes when $l$ is varied: In a new code cell, use a loop structure to plot the spiral for five equally spaced values of $l$ starting at 0 and ending at 10, for $\\theta$ in the range $0 \\leq \\theta \\leq 2\\pi$. \n",
    "\n",
    "<br>\n",
    "<br>Some helpful hints:\n",
    "<ul>\n",
    "   <li>It's best to create an array for the $l$-values. What form of loop is most appropriate for this?</li> \n",
    "   <li>Remember you'll need a legend for any plot with more than one line/dataset. One way of labelling the different lines would be to use a command such as `plt.plot(x,y, label=\"$l = {0:3.1f}$\".format(<variable>))`, where you should replace `<variable>` with the name of the variable you want to display. Can you figure out exactly how this works? (If not, take a look at this [useful webpage](http://www.shocksolution.com/2011/11/python-string-format-examples/) for a quick introduction, and/or section 2.3.7 of [Hill: Learning Scientific Programming with Python](http://sfx.ucl.ac.uk/sfx_local?ctx_ver=Z39.88-2004&ctx_enc=info:ofi/enc:UTF-8&ctx_tim=2016-07-18T13%3A15%3A47IST&url_ver=Z39.88-2004&url_ctx_fmt=infofi/fmt:kev:mtx:ctx&rfr_id=info:sid/primo.exlibrisgroup.com:primo3-Journal-UCL_LMS_DS&rft_val_fmt=info:ofi/fmt:kev:mtx:book&rft.genre=book&rft.atitle=&rft.jtitle=&rft.btitle=Learning%20scientific%20programming%20with%20Python&rft.aulast=Hill&rft.auinit=&rft.auinit1=&rft.auinitm=&rft.ausuffix=&rft.au=Hill,%20Christian,%201974-,%20author&rft.aucorp=&rft.volume=&rft.issue=&rft.part=&rft.quarter=&rft.ssn=&rft.spage=&rft.epage=&rft.pages=&rft.artnum=&rft.issn=&rft.eissn=&rft.isbn=9781107075412&rft.sici=&rft.coden=&rft_id=info:doi/&rft.object_id=&rft.856_url=&rft_dat=%3CUCL_LMS_DS%3E002240476%3C/UCL_LMS_DS%3E&rft.eisbn=&rft_id=info:oai/&req.language=eng) for a more in-depth discussion of Python string formatting.)</li> \n",
    "   <ul>\n",
    "<ol>\n",
    "\n",
    "</div>"
   ]
  },
  {
   "cell_type": "code",
   "execution_count": 1,
   "metadata": {
    "collapsed": false
   },
   "outputs": [],
   "source": [
    "# Add your own text and code cells below to complete the task!"
   ]
  },
  {
   "cell_type": "code",
   "execution_count": null,
   "metadata": {
    "collapsed": true
   },
   "outputs": [],
   "source": []
  }
 ],
 "metadata": {
  "anaconda-cloud": {},
  "kernelspec": {
   "display_name": "Python [conda root]",
   "language": "python",
   "name": "conda-root-py"
  },
  "language_info": {
   "codemirror_mode": {
    "name": "ipython",
    "version": 3
   },
   "file_extension": ".py",
   "mimetype": "text/x-python",
   "name": "python",
   "nbconvert_exporter": "python",
   "pygments_lexer": "ipython3",
   "version": "3.5.2"
  }
 },
 "nbformat": 4,
 "nbformat_minor": 0
}
