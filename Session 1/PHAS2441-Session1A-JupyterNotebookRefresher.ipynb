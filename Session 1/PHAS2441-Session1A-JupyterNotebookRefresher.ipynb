{
 "cells": [
  {
   "cell_type": "markdown",
   "metadata": {},
   "source": [
    "# PHAS2441 Session 1\n",
    "\n"
   ]
  },
  {
   "cell_type": "markdown",
   "metadata": {},
   "source": [
    "## Part A: A re-introduction to Jupyter notebooks\n",
    "\n",
    "_Author: louise.dash@ucl.ac.uk    \n",
    "Updated: 21/12/2016_"
   ]
  },
  {
   "cell_type": "markdown",
   "metadata": {},
   "source": [
    "In this course, we'll be using Jupyter (IPython) notebooks to create code. The code works in the same way as for standalone code, but we can also include text, images and the code output to create self-contained documents that make it easier to explain and communicate your work. \n",
    "\n",
    "You've already seen this introductory notebook in PHAS1240, this is intended to be a brief re-introduction to remind you how they work.\n",
    "\n",
    "If you haven't done so already, watch the introductory screencast on Jupyter notebooks (link on Moodle).\n",
    "\n",
    "### IPython or Jupyter?\n",
    "\n",
    "Initially these notebooks only used IPython, hence the name IPython Notebook. The notebook format has now been expanded to also run other languages, including <a href=\"http://en.wikipedia.org/wiki/Julia_(programming_language)\"> Julia</a> and <a href=\"https://en.wikipedia.org/wiki/R_(programming_language)\">R</a>. Hence the rename to **Ju** (Julia) **Py** (Python) te **R** (...R...). We'll only be using them with IPython in this course, however, but we'll stick to the new \"Jupyter\" Notebook name."
   ]
  },
  {
   "cell_type": "markdown",
   "metadata": {},
   "source": [
    "A Jupyter notebook consists of *cells*. Single click on this paragraph of text and a box will appear around it - everything within this box is in the same cell. There are two basic types of cells:"
   ]
  },
  {
   "cell_type": "markdown",
   "metadata": {},
   "source": [
    "### Code cells "
   ]
  },
  {
   "cell_type": "markdown",
   "metadata": {},
   "source": [
    "Code cells contain bits of Python code. You can edit these cells by clicking on them. To run code cells, click on the cell so there's a box around it, and press SHIFT+ENTER. Any output the cell generates will be output directly underneath the cell."
   ]
  },
  {
   "cell_type": "code",
   "execution_count": 1,
   "metadata": {
    "collapsed": false
   },
   "outputs": [
    {
     "name": "stdout",
     "output_type": "stream",
     "text": [
      "This is a code cell\n",
      "Press SHIFT+ENTER to execute it and produce this text as output\n"
     ]
    }
   ],
   "source": [
    "# This is a comment within a code cell\n",
    "print (\"This is a code cell\")\n",
    "print (\"Press SHIFT+ENTER to execute it and produce this text as output\")"
   ]
  },
  {
   "cell_type": "markdown",
   "metadata": {},
   "source": [
    "<div class=\"alert alert-info\" role=\"alert\">\n",
    "<b> Python 3: </b> In Python 3, the `print()` function needs parentheses. This is probably the biggest difference you will notice between Python 2.7 and Python 3. If you forget the parentheses, you will get a Syntax Error. We'll point out other important differences between Python 2.7 and Python 3 in boxes like this as we go along - there aren't too many of them.\n",
    "</div>"
   ]
  },
  {
   "cell_type": "code",
   "execution_count": 2,
   "metadata": {
    "collapsed": false
   },
   "outputs": [],
   "source": [
    "# This is a comment within another code cell\n",
    "x = 5\n",
    "y = 4.2\n",
    "# this cell does not generate any output, but still runs when you press shift+enter"
   ]
  },
  {
   "cell_type": "markdown",
   "metadata": {},
   "source": [
    "### Text cells"
   ]
  },
  {
   "cell_type": "markdown",
   "metadata": {},
   "source": [
    "Text cells contain text (and sometimes maths). To edit these cells you double click on them (try double clicking on this cell!). The font will change and you'll be able to edit the text. These cells are actually written in Markdown, which is a markup language (a bit like a very simple version of HTML). We'll come on to how to produce equations in a moment.\n",
    "\n",
    "### When to use text cells and when to use # comments\n",
    "\n",
    "Sometimes it's not obvious when it's best to use text cells in your own notebooks and when to use # code comments. A good general rule of thumb is:\n",
    "####  If you're describing something about the physics or maths of the problem you're solving:\n",
    "* Use a text cell - with complete, grammatically correct sentences.\n",
    "\n",
    "#### If you're describing something about the Python code you're writing:\n",
    "* Use a # comment in the code cell. Be as concise as possible while conveying as much useful information as needed. "
   ]
  },
  {
   "cell_type": "markdown",
   "metadata": {},
   "source": [
    "## Other stuff you need to know"
   ]
  },
  {
   "cell_type": "markdown",
   "metadata": {},
   "source": [
    "* IPython notebooks get saved automatically every so often. To save them manually, click on the disk icon in the top left corner.\n",
    "* The other icons in that row let you (in order):\n",
    " - Add a new cell below the current one\n",
    " - Cut the current cell\n",
    " - Copy the current cell\n",
    " - Paste from the clipboard\n",
    " - Move the current cell up\n",
    " - Move the current cell down\n",
    " - Run the current cell (as an alternative to shift+enter)\n",
    " - Stop/interrupt running the current cell\n",
    " - Restart the kernel (see below for when you might want to do this)\n",
    "* The dropdown menu lets you change the type of the current cell between Markdown (i.e. text) and code, and also format different header styles.\n",
    "* The \"undo\" function of an Ipython notebook is limited - `CTRL-Z` will undo your most recent changes *in the current cell only*, and only until you run that cell."
   ]
  },
  {
   "cell_type": "markdown",
   "metadata": {},
   "source": [
    "There is some rudimentary text formatting available - just the basics.\n",
    "\n",
    "For **bold text** enclose the text in double asterisks.\n",
    "\n",
    "For _italic text_ enclose the text with underscores, or with single asterisks *like this*.\n",
    "\n",
    "Double click on this cell to see exactly how to do this. If you want to know how to format bullet lists like in the cell above, double click on that one too."
   ]
  },
  {
   "cell_type": "markdown",
   "metadata": {},
   "source": [
    "## Writing maths"
   ]
  },
  {
   "cell_type": "markdown",
   "metadata": {},
   "source": [
    "It's useful to know how to write maths as well. Jupyter notebooks use LaTeX markup (pronounced Lay-Tech, not like rubber) which is either a particularly beautiful and elegant markup language for typesetting both maths and everything else (for all right-thinking people) or a form of torture that should be outlawed under the Geneva convention (for the not-yet-enlightened). You can find more information on LaTeX here: http://en.wikipedia.org/wiki/LaTeX\n",
    "\n",
    "For our purposes, we won't need to do anything particularly complicated  and you only need to know the very basics, which are fairly intuitive, so there will be no torture involved.\n"
   ]
  },
  {
   "cell_type": "markdown",
   "metadata": {},
   "source": [
    "### Basics"
   ]
  },
  {
   "cell_type": "markdown",
   "metadata": {},
   "source": [
    "Double click on this cell, or on any other cell with maths in it, and you will be able to see exactly how it was generated. Here is a brief summary of the basics:\n",
    "\n",
    "* to switch to math formatting within a paragraph, like this $x = 2y^3$, enclose the maths in dollar signs.\n",
    "\n",
    "* to format an equation on a separate line, enclose it in double dollar signs, like this:\n",
    "\n",
    "$$ x = 2y^3$$\n",
    "\n",
    "* Most greek letters are prefixed with a backslash followed by the name of the letter, eg \\alpha, \\beta, \\gamma, \\delta becomes $\\alpha, \\beta, \\gamma, \\delta$ when enclosed in dollar signs.\n",
    "\n",
    "* Subscripts use an underline character, superscripts use ^.  For example $x_0 = y^2, x_1 = \\alpha^2$\n",
    "\n",
    "* Common functions like sin, cos, exp, are also prefixed by a backslash. For example \n",
    "\n",
    "$$\\exp(5 \\alpha) = \\sin(2 \\pi x)$$\n",
    "\n",
    "For most purposes in this course, you'll frequently be able to copy and paste an equation from the session script (itself a Jupyter notebook), so don't worry about being expected to know more than this. In case you find it useful, there are also websites like http://www.codecogs.com/latex/eqneditor.php which let you pick maths symbols from a palette and convert them to LaTeX code. "
   ]
  },
  {
   "cell_type": "markdown",
   "metadata": {},
   "source": [
    "### Things to be careful of"
   ]
  },
  {
   "cell_type": "markdown",
   "metadata": {},
   "source": [
    "There are a few pitfalls facing the unwary Jupyter Notebook user, that may lead you to think that you have a fully working notebook, until you reopen the notebook on a different computer (or upload your notebook for grading). \n",
    "\n",
    "Because we're using IPython, when you define a variable, it stays defined until you reset or restart the kernel. This means that if you (for example) decide to rename a variable but accidentally leave a reference to the old variable name, everything will continue to work fine - until the next time the document is opened, when you'll get an error.\n",
    "\n",
    "Similarly, it's easy to reorder code cells in a Jupyter notebook, which is very useful. But if one code cell depends on something defined in another cell, you need to make sure that these cells stay in the right order. Again - everything will seem OK, but you'll get an error when you reopen the notebook.\n",
    "\n",
    "The best way of avoiding these problems is to either restart the kernel every so often (\"Restart\" from the \"Kernel\" menu above), or to use a manual reset command, like this:"
   ]
  },
  {
   "cell_type": "code",
   "execution_count": 3,
   "metadata": {
    "collapsed": false
   },
   "outputs": [
    {
     "name": "stdout",
     "output_type": "stream",
     "text": [
      "Once deleted, variables cannot be recovered. Proceed (y/[n])? y\n"
     ]
    }
   ],
   "source": [
    "%reset"
   ]
  },
  {
   "cell_type": "markdown",
   "metadata": {},
   "source": [
    "Both of these commands will erase *all* the variable definitions from the notebook, but won't delete the output. When you rerun the notebook, everything will be recalculated from scratch, just as it is when you run a standalone python code. This way, errors with undefined variables are easy to spot and fix before it's too late!\n",
    "\n",
    "**You should always run your code through on a fresh kernel before uploading it to Moodle**"
   ]
  },
  {
   "cell_type": "code",
   "execution_count": null,
   "metadata": {
    "collapsed": false
   },
   "outputs": [],
   "source": []
  }
 ],
 "metadata": {
  "anaconda-cloud": {},
  "kernelspec": {
   "display_name": "Python [conda root]",
   "language": "python",
   "name": "conda-root-py"
  },
  "language_info": {
   "codemirror_mode": {
    "name": "ipython",
    "version": 3
   },
   "file_extension": ".py",
   "mimetype": "text/x-python",
   "name": "python",
   "nbconvert_exporter": "python",
   "pygments_lexer": "ipython3",
   "version": "3.5.2"
  }
 },
 "nbformat": 4,
 "nbformat_minor": 0
}
