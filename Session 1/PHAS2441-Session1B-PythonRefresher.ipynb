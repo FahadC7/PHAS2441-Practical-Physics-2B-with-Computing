{
 "cells": [
  {
   "cell_type": "markdown",
   "metadata": {},
   "source": [
    "# PHAS2441 Session 1"
   ]
  },
  {
   "cell_type": "markdown",
   "metadata": {},
   "source": [
    "## Part B: A Python refresher\n",
    "\n",
    "_Author: louise.dash@ucl.ac.uk    \n",
    "Updated: 21/12/2016_"
   ]
  },
  {
   "cell_type": "markdown",
   "metadata": {},
   "source": [
    "Now that we've refamiliarised ourselves with the Jupyter Notebook, we can quickly go over the basics of programming in Python that you met in PHAS1240."
   ]
  },
  {
   "cell_type": "markdown",
   "metadata": {},
   "source": [
    "#### How to get the most from this notebook"
   ]
  },
  {
   "cell_type": "markdown",
   "metadata": {},
   "source": [
    "Make sure you read all the information, and run each code cell, in order,  by pressing shift+enter. You should recognise everything you see here (with a few minor exceptions) from PHAS1240. Clearly we can't go over everything that you learned in PHAS1240 in a single session, but this should suffice to jog your memory! You may also find it useful to refer back to the PHAS1240 course material (available on the Moodle archive). "
   ]
  },
  {
   "cell_type": "markdown",
   "metadata": {},
   "source": [
    "### Modules"
   ]
  },
  {
   "cell_type": "markdown",
   "metadata": {},
   "source": [
    "Many of the useful functions we need to use as physicists aren't contained in base Python, but are in modules that need to be imported. You'll remember that the two main ones are NumPy (Numerical Python) and matplotlib (for plotting graphs), which are imported as:"
   ]
  },
  {
   "cell_type": "code",
   "execution_count": null,
   "metadata": {
    "collapsed": false
   },
   "outputs": [],
   "source": [
    "import numpy as np\n",
    "import matplotlib.pyplot as plt\n",
    "\n",
    "%matplotlib inline"
   ]
  },
  {
   "cell_type": "markdown",
   "metadata": {},
   "source": [
    "Note the final command in this code cell: `%matplotlib inline` is an Ipython \"magic\" command that tells the Ipython notebook to produce all matplotlib output in the notebook itself, rather than in a separate window."
   ]
  },
  {
   "cell_type": "markdown",
   "metadata": {},
   "source": [
    "### Numpy and arrays"
   ]
  },
  {
   "cell_type": "markdown",
   "metadata": {},
   "source": [
    "One of the most useful feature of the Numpy module is that it allows us to create arrays of numbers, and that we can operate on every element of the array at once. There are several ways of creating a numpy array, but the three most useful are:\n",
    "\n",
    "1. Specify the elements using np.array()\n",
    "2. Using np.linspace() to create a specified number of evenly spaced points\n",
    "3. Using np.arange() to create an array with a specified distance between points"
   ]
  },
  {
   "cell_type": "code",
   "execution_count": null,
   "metadata": {
    "collapsed": false
   },
   "outputs": [],
   "source": [
    "first = np.array([1.0, 3.5, 4.3, 6]) # note the square brackets\n",
    "print (\"Using np.array: \\n\", first)\n",
    "second = np.linspace(0,10,5) # five evenly spaced points between 0 and 10\n",
    "print (\"Using np.linspace:\\n\", second)\n",
    "third = np.arange(1,3,0.2) # Numbers between 1 and 3 spaced at 0.2\n",
    "# note that the array goes up to but does not include 3.0\n",
    "print (\"Using np.arange:\\n\", third)\n",
    "\n",
    "# the first element has index 0, not 1!\n",
    "print (\"The first element of the third array is\", third[0])"
   ]
  },
  {
   "cell_type": "markdown",
   "metadata": {},
   "source": [
    "Things to note here:\n",
    "\n",
    "* `\\n` in a print statement gives a new line - this is quite useful.\n",
    "* Python arrays aren't indexed in an obvious way - Python is one of the languages that starts counting from zero, not one."
   ]
  },
  {
   "cell_type": "markdown",
   "metadata": {},
   "source": [
    "<div class=\"alert alert-info\" role=\"alert\">\n",
    "<b> Python 3: </b> In Python 3, the `print()` function needs parentheses. This is probably the biggest difference you will notice between Python 2.7 and Python 3. If you forget the parentheses, you will get a Syntax Error. We'll point out other important differences between Python 2.7 and Python 3 in boxes like this as we go along - there aren't too many of them.\n",
    "</div>"
   ]
  },
  {
   "cell_type": "markdown",
   "metadata": {},
   "source": [
    "### Loading data from a file"
   ]
  },
  {
   "cell_type": "markdown",
   "metadata": {},
   "source": [
    "Numpy can also import data from a plain text file and put it into an array, using the np.loadtxt() function. This is particularly useful for importing data from a lab experiment where you've already entered the data into a spreadsheet or text file. For example:"
   ]
  },
  {
   "cell_type": "code",
   "execution_count": null,
   "metadata": {
    "collapsed": false
   },
   "outputs": [],
   "source": [
    "xdata, ydata, yerror = np.loadtxt(\"somedata.txt\", unpack=True) #unpack=True unpacks each column into a separate array.\n",
    "print (\"our xdata:\\n \", xdata)\n",
    "print (\"our ydata:\\n \", ydata)\n",
    "print (\"errors on the y-values:\\n \", yerror)\n"
   ]
  },
  {
   "cell_type": "markdown",
   "metadata": {},
   "source": [
    "This will only work if you actually have a file called `somedata.txt` in the same directory as your notebook! Otherwise you'll just end up with a \"No such file or directory\" error message. If this happened when you ran the cell above, download the file called \"somedata.txt\" from Moodle, put it in the same directory as this notebook, and retry it.\n",
    "\n",
    "Note that we've \"unpacked\" the three columns of data into three separate arrays, in this case corresponding to xdata, ydata, and error in the ydata. We'll plot this data in a minute, but first a refresher in:"
   ]
  },
  {
   "cell_type": "markdown",
   "metadata": {},
   "source": [
    "### Plotting with Matplotlib"
   ]
  },
  {
   "cell_type": "markdown",
   "metadata": {},
   "source": [
    "One of the most useful things to do with arrays is plotting them. This code cell creates some arrays for the x-values, calculates corresponding arrays of y-values for $\\sin(x)$ and $\\sin(x^2)$, and then plots them."
   ]
  },
  {
   "cell_type": "code",
   "execution_count": null,
   "metadata": {
    "collapsed": false
   },
   "outputs": [],
   "source": [
    "# create some x-value arrays\n",
    "x1 = np.linspace(0,2*np.pi, 50) # 50 points between 0 and 2 pi\n",
    "x2 = np.linspace(0, 2*np.pi, 500) # 500 points between 0 and 2 pi\n",
    "\n",
    "# create corresponding y-value arrays\n",
    "fn1 = np.sin(x1)\n",
    "fn2 = np.sin(x2**2)\n",
    "\n",
    "# plot them\n",
    "plt.plot(x1, fn1, 'ro', label=\"$\\sin(x)$\") # red (r) circles (o)\n",
    "plt.plot(x2, fn2, 'g-', label=\"$\\sin(x^2)$\") # green (g) line (-)\n",
    "plt.title('An example plot')\n",
    "plt.xlabel('x')\n",
    "plt.ylabel('y')\n",
    "plt.legend(loc=\"lower left\") # legend, specify location\n",
    "plt.xlim(0,2*np.pi) # specify explicit limits for x-axis"
   ]
  },
  {
   "cell_type": "markdown",
   "metadata": {},
   "source": [
    "Some things to remember here:\n",
    "\n",
    "* The plot has a title and the axes are labelled (always!)\n",
    "* $\\LaTeX$ markup (usually) works fine in a plot, like in the legend text here.\n",
    "* You can specify the line and point style and colour using shortcut codes, there is a list of the possibilities here: http://matplotlib.org/api/pyplot_api.html#matplotlib.pyplot.plot"
   ]
  },
  {
   "cell_type": "markdown",
   "metadata": {},
   "source": [
    "#### Error bars"
   ]
  },
  {
   "cell_type": "markdown",
   "metadata": {},
   "source": [
    "We can plot the data we loaded from the text file above. To include errorbars we need to use the errorbar() command *instead of* the plot() command (this is not necessarily intuitive, as you might think you'd use the errorbar() *and* plot() commands). \n",
    "\n",
    "Note how we do this:\n",
    "* We specify the xdata and ydata as before\n",
    "* The y-errorbars are specified with the yerr keyword (hopefully you can thus use logic to deduce what to do if you want x-errorbars)\n",
    "* We have a fmt statement to specify the point style (here blue circles). If you leave this out, the default is to draw a straight line between the datapoints, and in general you *don't* want this."
   ]
  },
  {
   "cell_type": "code",
   "execution_count": null,
   "metadata": {
    "collapsed": false
   },
   "outputs": [],
   "source": [
    "plt.errorbar(xdata,ydata,yerr=yerror,fmt='bo') # plot the data with errorbars and blue circles\n",
    "plt.xlim(0,90) # set xrange to be from 0 to 100\n",
    "plt.ylim(0,90)# set the y range to be from 0 to 100\n",
    "plt.xlabel('Voltage (V)') # x axis label, taken from the info in the data file\n",
    "plt.ylabel('Current (mA)') # y axis label. Note the quotation marks\n",
    "plt.title('Current vs Voltage from Experiment P01') # a suitable concise title\n"
   ]
  },
  {
   "cell_type": "markdown",
   "metadata": {},
   "source": [
    "### Loops"
   ]
  },
  {
   "cell_type": "markdown",
   "metadata": {},
   "source": [
    "Loop structures let us repeat the same piece of code repeatedly until some condition is reached. There are two basic types of loop:\n",
    "* `for` loop: loop over elements in an array or list\n",
    "* `while` loop: \n",
    "\n"
   ]
  },
  {
   "cell_type": "code",
   "execution_count": null,
   "metadata": {
    "collapsed": false
   },
   "outputs": [],
   "source": [
    "# example of a \"for\" loop\n",
    "\n",
    "for i in range(1,5):\n",
    "    print (\"i is\", i)"
   ]
  },
  {
   "cell_type": "code",
   "execution_count": null,
   "metadata": {
    "collapsed": false
   },
   "outputs": [],
   "source": [
    "# example of a \"while\" loop\n",
    "\n",
    "i = 1\n",
    "while i < 5: \n",
    "    print (\"i is\", i)\n",
    "    i = i + 1"
   ]
  },
  {
   "cell_type": "markdown",
   "metadata": {},
   "source": [
    "Both of these loops do exactly the same thing, but you can see that in this case the `for` loop structure is more concise. Whether you choose to use a `while` loop or a `for` loop will depend largely on which is easier.\n",
    "\n",
    "Remember that the contents of a loop are indented in Python - conventionally this indentation is four spaces deep. Once the indentation stops, so does the loop structure. The same is true for `if/elif/else` structures.  "
   ]
  },
  {
   "cell_type": "markdown",
   "metadata": {},
   "source": [
    "### Functions"
   ]
  },
  {
   "cell_type": "markdown",
   "metadata": {},
   "source": [
    "(You might also want to refer to the PHAS1240 screencast on functions: [https://youtu.be/jK0cAnPhkJg](https://youtu.be/jK0cAnPhkJg) )\n",
    "\n",
    "In addition to Python's built-in functions and the functions we import from modules like numpy, we can write our own user-defined functions, which are like mini-programs. This is very useful for calculations that need to be done several times, and we'll be using user-defined functions a lot in this course.\n",
    "\n",
    "As an example, consider the factorial function definition\n",
    "$$ n! = \\prod_{k=1}^n k. $$ We can code this as a python function like this:"
   ]
  },
  {
   "cell_type": "code",
   "execution_count": null,
   "metadata": {
    "collapsed": false
   },
   "outputs": [],
   "source": [
    "def factorial_fn(n):\n",
    "    \"\"\"Returns the factorial of n for the input integer n\"\"\"\n",
    "    \n",
    "    fact = 1.0 # initialise the product - this is 0!\n",
    "    # note the limits on this loop - \n",
    "    # it runs over integers up to, but not including, n+1\n",
    "    for i in range(1, n+1):\n",
    "        fact = fact * i\n",
    "    \n",
    "    return fact"
   ]
  },
  {
   "cell_type": "markdown",
   "metadata": {},
   "source": [
    "How does this work?\n",
    "* The first line defines the name of the function (in this case, factorial_fn). Note that it ends with a colon, just like a while loop or if statement.\n",
    "* Likewise, the following lines are all indented to show that they belong to the function.\n",
    "* The second line is a docstring, which helps document the function:\n",
    " It is enclosed by three quotation marks. **All** functions that you write should include a docstring (more complicated functions will also require some #comments as well, of course). This is the text that will be displayed as help for the function.\n",
    "* The following lines are the definition of the function itself. In this case we have a loop over all integers less than the input value, and we update the value of the factorial `fact` with each iteration of the loop.\n",
    "* The final line contains the keyword \"return\". This tells Python to return the following value of the variable `fact` as output from the function. In this case  we are returning a single value, but it's also possible to return several values, or a whole array.\n",
    "\n",
    "Note that `n` and `i` in this function are *\"local\"* variables, which are only defined within the function. When we call the function we don't need to use the variable name n: \"`factorial_fn(bananas)`\" or \"`factorial_fn(Brian)`\" will work as long as the variables `bananas` or `Brian` are properly defined.\n",
    "\n",
    "If you would like to know more about functions in Python, take a look at section 2.7 in [Hill: Learning Scientific Programming with Python](http://sfx.ucl.ac.uk/sfx_local?ctx_ver=Z39.88-2004&ctx_enc=info:ofi/enc:UTF-8&ctx_tim=2016-07-18T13%3A15%3A47IST&url_ver=Z39.88-2004&url_ctx_fmt=infofi/fmt:kev:mtx:ctx&rfr_id=info:sid/primo.exlibrisgroup.com:primo3-Journal-UCL_LMS_DS&rft_val_fmt=info:ofi/fmt:kev:mtx:book&rft.genre=book&rft.atitle=&rft.jtitle=&rft.btitle=Learning%20scientific%20programming%20with%20Python&rft.aulast=Hill&rft.auinit=&rft.auinit1=&rft.auinitm=&rft.ausuffix=&rft.au=Hill,%20Christian,%201974-,%20author&rft.aucorp=&rft.volume=&rft.issue=&rft.part=&rft.quarter=&rft.ssn=&rft.spage=&rft.epage=&rft.pages=&rft.artnum=&rft.issn=&rft.eissn=&rft.isbn=9781107075412&rft.sici=&rft.coden=&rft_id=info:doi/&rft.object_id=&rft.856_url=&rft_dat=%3CUCL_LMS_DS%3E002240476%3C/UCL_LMS_DS%3E&rft.eisbn=&rft_id=info:oai/&req.language=eng), and in particular section 2.7.3 regarding local and global variables and the scope of a function.\n",
    "\n",
    "### How to call a function:\n",
    "If we run just the example function as written above (try it!), it doesn't do anything. This is because we need to *call* the function.\n",
    "\n",
    "But once the function is defined, we can call it from anywhere else in the same Ipython notebook or standalone .py code. (You can also combine functions into a separate module and import them, but we won't cover that here.)\n",
    "\n",
    "For example, now we've defined our factorial function, we can use it just like any other python function:\n",
    "\n"
   ]
  },
  {
   "cell_type": "code",
   "execution_count": null,
   "metadata": {
    "collapsed": false
   },
   "outputs": [],
   "source": [
    "m = 5\n",
    "mbang = factorial_fn(m)\n",
    "print (\"The factorial 5! is\", mbang)"
   ]
  },
  {
   "cell_type": "markdown",
   "metadata": {},
   "source": [
    "## Your task now"
   ]
  },
  {
   "cell_type": "markdown",
   "metadata": {},
   "source": [
    "Download and open the task notebook from Moodle (available from Tuesday 4th January 2017), and follow the instructions.\n"
   ]
  },
  {
   "cell_type": "markdown",
   "metadata": {},
   "source": [
    "#### What's coming next"
   ]
  },
  {
   "cell_type": "markdown",
   "metadata": {},
   "source": [
    "In the next session, we'll look at how to plot histograms and fit them to Gaussian distributions."
   ]
  },
  {
   "cell_type": "code",
   "execution_count": null,
   "metadata": {
    "collapsed": false
   },
   "outputs": [],
   "source": []
  }
 ],
 "metadata": {
  "anaconda-cloud": {},
  "kernelspec": {
   "display_name": "Python [conda root]",
   "language": "python",
   "name": "conda-root-py"
  },
  "language_info": {
   "codemirror_mode": {
    "name": "ipython",
    "version": 3
   },
   "file_extension": ".py",
   "mimetype": "text/x-python",
   "name": "python",
   "nbconvert_exporter": "python",
   "pygments_lexer": "ipython3",
   "version": "3.5.2"
  }
 },
 "nbformat": 4,
 "nbformat_minor": 0
}
