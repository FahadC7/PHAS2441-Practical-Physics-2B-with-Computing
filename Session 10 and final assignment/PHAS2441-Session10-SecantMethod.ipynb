{
 "cells": [
  {
   "cell_type": "markdown",
   "metadata": {},
   "source": [
    "# PHAS2441 Session 10\n",
    "# Finding roots, and boundary value problems\n",
    "\n",
    "_Author: louise.dash@ucl.ac.uk    \n",
    "Updated: 03/02/2017_"
   ]
  },
  {
   "cell_type": "markdown",
   "metadata": {},
   "source": [
    "This notebook will first introduce you to ways of finding roots of a function, and then use this to extend our differential equation techniques to calculate for boundary value problems as well as initial value problems. You'll use these techniques in the PHAS2441 final assignment, the details of which are in the pdf script on Moodle."
   ]
  },
  {
   "cell_type": "code",
   "execution_count": null,
   "metadata": {
    "collapsed": false
   },
   "outputs": [],
   "source": [
    "# importing modules\n",
    "import numpy as np\n",
    "import matplotlib.pyplot as plt\n",
    "%matplotlib inline\n",
    "\n",
    "from IPython.display import Image # needed to import a remote image later"
   ]
  },
  {
   "cell_type": "markdown",
   "metadata": {},
   "source": [
    "## Finding roots: Newton-Raphson and the secant method"
   ]
  },
  {
   "cell_type": "markdown",
   "metadata": {},
   "source": [
    "We want to find the root of a function - the point at which the value of the function is zero. There are many ways of doing this, and we're going to look at two of them here: the Newton-Raphson method, and an extension of this, the *secant method*.\n",
    "\n",
    "Imagine that we have a function $f(x)$ that we want to find the roots of. We'll make a guess as to where we think a root may be, and pick a point $x$ nearby. If we know the derivative of $f(x)$, that would enable us to draw a tangent at $x$, and calculate where the tangent crosses the $x$ axis. i.e. we can calculate\n",
    "$$\n",
    "x' = x - \\Delta x = x - \\frac{f(x)}{f'(x)}.\n",
    "$$\n",
    "We could then calculate the function at this point $x'$, recalculate the tangent, and repeat this process until we converge on the actual root. Like this:  ([http://upload.wikimedia.org/wikipedia/commons/e/e0/NewtonIteration_Ani.gif](animated gif from Wikimedia commons))\n"
   ]
  },
  {
   "cell_type": "code",
   "execution_count": null,
   "metadata": {
    "collapsed": false
   },
   "outputs": [],
   "source": [
    "Image(url='http://upload.wikimedia.org/wikipedia/commons/e/e0/NewtonIteration_Ani.gif')"
   ]
  },
  {
   "cell_type": "markdown",
   "metadata": {},
   "source": [
    "This method is known as the *Newton-Raphson method*, and is widely used. \n",
    "\n",
    "But what if we don't know the derivative $f'(x)$? \n",
    "\n",
    "Instead, we can start with two points, $x_1$ and $x_2$, and calculate an *approximation* of the derivative at $x_2$:\n",
    "\n",
    "$$\n",
    "f'(x_2) \\approx \\frac{f(x_2) - f(x_1)}{x_2 - x_1}\n",
    "$$\n",
    "\n",
    "Putting this into the equation above then gives us a better guess at the root position:\n",
    "\n",
    "$$ \n",
    "x_3 = x_2 - f(x_2) \\frac{x_2 - x_1}{f(x_2) - f(x_1)},\n",
    "$$\n",
    "\n",
    "without needing any knowledge of $f'(x)$. This is the secant method.\n",
    "\n",
    "To implement this numerically, we need to specify how close we want to get to the real position of the function's root. Let's set a tolerance variable for this, so that our calculation will stop once the best estimate of the root position changes by less than this amount."
   ]
  },
  {
   "cell_type": "code",
   "execution_count": null,
   "metadata": {
    "collapsed": false
   },
   "outputs": [],
   "source": [
    "tolerance = 1e-4 # this is quite big."
   ]
  },
  {
   "cell_type": "markdown",
   "metadata": {},
   "source": [
    "We'll need a function to guess the roots of. Any function will do. Here is one, the $P_3$ Legendre polynomial,  $f(x) =(5x^3 - 3x)/2$."
   ]
  },
  {
   "cell_type": "code",
   "execution_count": null,
   "metadata": {
    "collapsed": false
   },
   "outputs": [],
   "source": [
    "def f(x):\n",
    "    '''A function. This is the n = 3 Legendre polynomial'''\n",
    "    return 0.5*(5*x**3 - 3*x)"
   ]
  },
  {
   "cell_type": "markdown",
   "metadata": {},
   "source": [
    "We'll first plot the function, and then see if we can use the secant method to find the exact position of one of the roots."
   ]
  },
  {
   "cell_type": "code",
   "execution_count": null,
   "metadata": {
    "collapsed": false
   },
   "outputs": [],
   "source": [
    "xpoints = np.linspace(-1,1,1000) # set of xpoints on which to calculate the function\n",
    "plt.axhline(c='k',ls=':',lw=0.5)\n",
    "plt.xlabel(\"x\")\n",
    "plt.ylabel(\"f(x)\")\n",
    "plt.title(\"Legendre polynomial P$_3$\")\n",
    "plt.plot(xpoints, f(xpoints));"
   ]
  },
  {
   "cell_type": "markdown",
   "metadata": {},
   "source": [
    "Let's set our $x_1$ and $x_2$ and iterate the secant method to see if we can find the root between 0.5 and 1.0. We'll do this by setting an error variable to measure the difference between the two $x$-points, and we'll terminate the calculation when this becomes less than the tolerance we set."
   ]
  },
  {
   "cell_type": "code",
   "execution_count": null,
   "metadata": {
    "collapsed": false
   },
   "outputs": [],
   "source": [
    "# guess of initial positions.\n",
    "x1 = 0.5\n",
    "x2 = 1\n",
    "\n",
    "# initialise the error variable\n",
    "err = 1 \n",
    "\n",
    "# Iterate the secant method:\n",
    "while err > tolerance: \n",
    "    x3 = x2 - f(x2)*(x2-x1)/(f(x2)-f(x1))\n",
    "    print(\"current best guess of root\", x3) \n",
    "    err = abs(x2-x1) \n",
    "    x1 = x2 # reset x1 and x2\n",
    "    x2 = x3 # for the next iteration\n",
    "                         "
   ]
  },
  {
   "cell_type": "markdown",
   "metadata": {},
   "source": [
    "We can see this has converged quickly. As a check, let's see what the value of the function at this point is:"
   ]
  },
  {
   "cell_type": "code",
   "execution_count": null,
   "metadata": {
    "collapsed": false
   },
   "outputs": [],
   "source": [
    "print(\"f(x) at x = \", x3, \"is\", f(x3))"
   ]
  },
  {
   "cell_type": "markdown",
   "metadata": {},
   "source": [
    "For even more accurate results, we could decrease the value of `tolerance`. Experiment with this, the function itself, and the initial guesses until you're happy you understand."
   ]
  },
  {
   "cell_type": "markdown",
   "metadata": {},
   "source": [
    "# Using this approach for boundary value problems"
   ]
  },
  {
   "cell_type": "markdown",
   "metadata": {},
   "source": [
    "We've already seen several initial-value differential equation problems - like the low-pass filter in session 7 and the pendulum in session 8. Another class of differential equations are boundary value problems, which are slightly more complicated to code.\n",
    "\n",
    "Let's look at a simple example, which we've already seen in the script for session 8 - a ball being thrown into the air. We took the second-order differential equation for this:\n",
    "\n",
    "$$ \\frac{d^2 y}{dt^2} = -g$$\n",
    "\n",
    "and rewrote it in the form of two simultaneous first-order equations:\n",
    "\n",
    "$$ \\frac{dy}{dt} = v_y = f(y), \\\\ \\frac{d v_y}{dt} = -g = f(v_y),$$\n",
    "\n",
    "which when solved will give us $y(t)$ and $v_y(t)$.\n",
    "\n",
    "In session 8 we used initial-value conditions - we started with initial conditions $v_y = 20$ m/s and $y = 10$ m, and \n",
    "solved for a time period of 5 seconds.\n",
    "\n",
    "Now we're going to solve the same problem with boundary value conditions instead. We're going to specify that the ball has height $x = 0$ at $t = 0$, and require that $x = 0$ again at a later time $t = t_1 = 10 $s. Exactly as before, we can set up the initial parameters:"
   ]
  },
  {
   "cell_type": "code",
   "execution_count": null,
   "metadata": {
    "collapsed": false
   },
   "outputs": [],
   "source": [
    "g = 9.81              # gravitational acceleration in m/s^2\n",
    "\n",
    "tstart = 0.0          # start time,\n",
    "tend = 10.0           # end time, in seconds.\n",
    "N = 1000              # number of points for Runge-Kutta\n",
    "h = (tend - tstart)/N # size of Runge-Kutta steps\n",
    "\n",
    "tpoints = np.arange(tstart, tend, h)"
   ]
  },
  {
   "cell_type": "markdown",
   "metadata": {},
   "source": [
    "Now we'll use exactly the same function as before to define the RHS of the equation:"
   ]
  },
  {
   "cell_type": "code",
   "execution_count": null,
   "metadata": {
    "collapsed": false
   },
   "outputs": [],
   "source": [
    "def f(r,t): \n",
    "    '''Definition of the vector function to be solved\n",
    "    for particle subject to gravitational acceleration.\n",
    "    Inputs are r (a vector of y-position and y-velocity) and t'''\n",
    "    y = r[0] # first element of r represents the y-position of the particle\n",
    "    vy = r[1] # second element of r represents the y-velocity of the particle\n",
    "    fy = vy # dy/dt is velocity\n",
    "    fvy = -g # dvy/dt = -g\n",
    "    return np.array([fy,fvy]) # convert fy and fvy to an array form"
   ]
  },
  {
   "cell_type": "markdown",
   "metadata": {},
   "source": [
    "However we'll make some small changes to the Runge-Kutta function. The final point in our `tpoints` array is actually at `tend-h`, and so to calculate the value at $t = t_{\\rm end}$ (which is what we need for a boundary value problem!), we need to include an extra element in the output arrays. We'll do this by including extra `append` statements after the loop has ended:"
   ]
  },
  {
   "cell_type": "code",
   "execution_count": null,
   "metadata": {
    "collapsed": false
   },
   "outputs": [],
   "source": [
    "def RungeKutta2d(r,tpoints):\n",
    "    '''Fourth-order Runge-Kutta rewritten for two simultaneous equations\n",
    "    Inputs: r: 2-component array , first component is x, second y\n",
    "            tpoints: array of time values.\n",
    "    Outputs: [xpoints, ypoints]: solutions for x(t) and y(t), numpy arrays one longer than tpoints'''\n",
    "    xpoints = [] # initialise empty arrays\n",
    "    ypoints = []\n",
    "    for t in tpoints: # loops over all tpoints up to (tend-h)\n",
    "        xpoints.append(r[0])\n",
    "        ypoints.append(r[1])\n",
    "        # The following is the same as the 1d version, with x->r\n",
    "        k1 = h*f(r,t) \n",
    "        k2 = h*f(r+0.5*k1, t+0.5*h)\n",
    "        k3 = h*f(r+0.5*k2, t+0.5*h)\n",
    "        k4 = h*f(r+k3, t+h)\n",
    "        r = r + (k1 + 2*k2 + 2*k3 + k4)/6\n",
    "    # these next two lines calculate for the point at t = tend!\n",
    "    xpoints.append(r[0])\n",
    "    ypoints.append(r[1])\n",
    "    return np.array([xpoints, ypoints]) # convert output to numpy array with 2 rows and N+1 columns"
   ]
  },
  {
   "cell_type": "markdown",
   "metadata": {},
   "source": [
    "Note that the output arrays therefore have `N+1` elements in them, while `tpoints` has `N` elements.\n",
    "\n",
    "We want to find the value of the initial velocity $v_y$ that returns the ball to the ground at $y = 0$ exactly 10 seconds later. To do this, we'll use the secant method from above. \n",
    "\n",
    "The procedure we'll use is:\n",
    "\n",
    "* Guess two possible initial velocities, \n",
    "* Then calculate the time at which they will land. Are either of them equal to 10 seconds (to within the limit set by the tolerance)? \n",
    "* If not, use the secant method to converge on the initial velocity that does correspond to a 10 second flight.\n",
    "  \n",
    "The code cell below does this. Note how for the first guess I've coded everything step-by-step, but subsequently I've combined all this into a single line of code. Either way will work, but the second is slightly more compact."
   ]
  },
  {
   "cell_type": "code",
   "execution_count": null,
   "metadata": {
    "collapsed": false
   },
   "outputs": [],
   "source": [
    "# Define the initial conditions\n",
    "vy1 = 0                        # guess 1 of initial y-velocity (m/s)\n",
    "vy2 = 200                      # guess 2 of initial y velocity (m/s)\n",
    "\n",
    "# Solve for the first guess\n",
    "# Here we set the initial conditions in a separate array r\n",
    "r = np.array([0, vy1])          # initial y is 0, initial vy is our first guess\n",
    "soln1 = RungeKutta2d(r,tpoints) # the whole array of solutions\n",
    "# We are interested only in the final height, i.e. final element of first column\n",
    "height1 = soln1[0,N]            # final element is at index N (counting from zero)\n",
    "\n",
    "# solve for the second guess\n",
    "# This time we'll insert the arrays directly into the Runge-Kutta function\n",
    "# This is a bit more convenient, but needs more care to avoid mistakes!\n",
    "# Either way works though\n",
    "height2 = RungeKutta2d(np.array([0, vy2]),tpoints)[0,N]\n",
    "\n",
    "### now for the secant method to converge on the right answer\n",
    "\n",
    "tolerance = 1e-4                 # set the tolerance\n",
    "err = 1                          # initialise the error variable\n",
    "while err > tolerance:\n",
    "    vy3 = vy2 - height2*(vy2-vy1)/(height2-height1)\n",
    "    err = abs(vy2-vy1) \n",
    "    # reset initial velocities for the next iteration\n",
    "    vy1 = vy2 \n",
    "    vy2 = vy3 \n",
    "    # and recalculate heights\n",
    "    height1 = RungeKutta2d(np.array([0, vy1]),tpoints)[0,N]\n",
    "    height2 = RungeKutta2d(np.array([0, vy2]),tpoints)[0,N]\n",
    "    \n",
    "print(\"The ball needs to be launched with an initial velocity of\", vy3, \"m/s\")\n",
    "    "
   ]
  },
  {
   "cell_type": "markdown",
   "metadata": {},
   "source": [
    "We can see that this has found a solution with no problems! \n",
    "\n",
    "Is this the right solution? Fortunately we have a very simple form of the analytical solution, so we can easily check."
   ]
  },
  {
   "cell_type": "code",
   "execution_count": null,
   "metadata": {
    "collapsed": false
   },
   "outputs": [],
   "source": [
    "tof = 2*vy3/g # calculated time of flight\n",
    "\n",
    "print(\"Time of flight with this initial velocity is\", tof, \"seconds\")"
   ]
  },
  {
   "cell_type": "markdown",
   "metadata": {},
   "source": [
    "Great. Finally, we'll plot this solution. Note, however, that we have a minor complication here, as our output array for the y-position has N+1 elements, whereas `tpoints` only has N elements. We need two arrays of equal length to plot, so we'll need to create a *new* array of time points for the plot. This array will need to start at `tstart`, finishes at `tend` (but not before!) and has points separated by `h`:"
   ]
  },
  {
   "cell_type": "code",
   "execution_count": null,
   "metadata": {
    "collapsed": false
   },
   "outputs": [],
   "source": [
    "tplotpoints = np.arange(tstart, tend+h, h) # array with same properties as tpoints but includes end point\n",
    "\n",
    "bestsoln = RungeKutta2d([0, vy3],tpoints)  # call this with the *calculation* tpoints array\n",
    "\n",
    "# but *plot* it with the new tplotpoints array.\n",
    "plt.plot(tplotpoints,bestsoln[0],label=\"y(t) (m)\")\n",
    "plt.legend()\n",
    "plt.axhline(c=\"k\",ls=\":\", lw=0.5)          # draw black dotted line at y = 0\n",
    "plt.xlabel(\"time (s)\")\n",
    "plt.ylabel(\"Height of ball (m)\")\n",
    "plt.title(\"Calculated trajectory for 10 second flight\");"
   ]
  },
  {
   "cell_type": "markdown",
   "metadata": {},
   "source": [
    "This initial velocity returns the ball to the ground 10 seconds after launch, as required.\n",
    "\n",
    "We can use this approach of combining Runge-Kutta with a root-finding method to solve many boundary-value problems, including the one you will tackle in the final assignment.\n",
    "\n",
    "Make sure you understand all the basic principles and procedures in this notebook before attempting the final assignment!"
   ]
  }
 ],
 "metadata": {
  "anaconda-cloud": {},
  "kernelspec": {
   "display_name": "Python [conda root]",
   "language": "python",
   "name": "conda-root-py"
  },
  "language_info": {
   "codemirror_mode": {
    "name": "ipython",
    "version": 3
   },
   "file_extension": ".py",
   "mimetype": "text/x-python",
   "name": "python",
   "nbconvert_exporter": "python",
   "pygments_lexer": "ipython3",
   "version": "3.5.2"
  }
 },
 "nbformat": 4,
 "nbformat_minor": 0
}
