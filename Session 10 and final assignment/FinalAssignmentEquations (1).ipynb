{
 "cells": [
  {
   "cell_type": "markdown",
   "metadata": {},
   "source": [
    "# Equations for the Final Assignment"
   ]
  },
  {
   "cell_type": "markdown",
   "metadata": {},
   "source": [
    "This notebook gives you the equations from the PHAS2441 Final Assignment in $\\LaTeX$ form, which you can copy and paste into your assignment notebook."
   ]
  },
  {
   "cell_type": "markdown",
   "metadata": {},
   "source": [
    "1.\n",
    "$$\n",
    "-\\frac{\\hbar^2}{2m} \\frac{d^2\\psi}{dx^2} + V(x)\\psi(x) = E\\psi(x)\n",
    "$$"
   ]
  },
  {
   "cell_type": "markdown",
   "metadata": {},
   "source": [
    "2.\n",
    "$$ V_x = \\begin{cases} 0 & \\text{if } -a < x < +a, \\\\ \n",
    "\\infty  & \\text{if } |x| > a, \\end{cases} \n",
    "$$"
   ]
  },
  {
   "cell_type": "markdown",
   "metadata": {},
   "source": [
    "3,4.\n",
    "$$\n",
    "\\frac{d \\psi}{dx } = \\phi, \\\\\n",
    "\\frac{d \\phi}{dx } = \\frac{2m}{\\hbar^2} \\left[V(x) - E \\right] \\psi(x),\n",
    "$$"
   ]
  },
  {
   "cell_type": "markdown",
   "metadata": {},
   "source": [
    "5.\n",
    "$$\n",
    "E_n = \\frac{\\pi^2 \\hbar^2 n^2}{2m (2a)^2}\n",
    "$$"
   ]
  },
  {
   "cell_type": "markdown",
   "metadata": {},
   "source": [
    "6.\n",
    "$$\n",
    "\\int | \\psi(x) |^2 {\\rm d} x = 1\n",
    "$$"
   ]
  },
  {
   "cell_type": "markdown",
   "metadata": {},
   "source": [
    "7.\n",
    "$$\n",
    "I(a,b) = h \\left[ \\frac{1}{2}f(a) + \\frac{1}{2}f(b) +\n",
    "      \\sum_{k=1}^{n-1}f(x + kh) \\right]\n",
    "$$"
   ]
  },
  {
   "cell_type": "markdown",
   "metadata": {},
   "source": [
    "8a, 8b.\n",
    "$$\n",
    "\\psi_n(x)  = \\frac{1}{\\sqrt{a}} \\cos\\left(\\frac{ n \\pi x}{2a}\\right) \\qquad \n",
    "    n \\ \\mathrm{odd}\n",
    "    $$\n",
    "    $$\n",
    "    \\psi_n(x)  = \\frac{1}{\\sqrt{a}} \\sin\\left(\\frac{ n \\pi x}{2a}\\right) \\qquad\n",
    "    n \\ \\mathrm{even}.\n",
    "$$"
   ]
  },
  {
   "cell_type": "markdown",
   "metadata": {},
   "source": [
    "9.\n",
    "$$\n",
    "V(x) = V_0 \\frac{x^2}{a^2}\n",
    "$$"
   ]
  },
  {
   "cell_type": "markdown",
   "metadata": {},
   "source": [
    "10.\n",
    "$$\n",
    "V_x = \\begin{cases} 0 & \\text{if } -a/2 < x < +a/2, \\\\ \n",
    "    V_0  & \\text{if } |x| > a/2, \\end{cases} \n",
    "$$"
   ]
  },
  {
   "cell_type": "code",
   "execution_count": 0,
   "metadata": {
    "collapsed": false
   },
   "outputs": [],
   "source": []
  }
 ],
 "metadata": {
  "anaconda-cloud": {},
  "kernelspec": {
   "display_name": "Python [conda root]",
   "language": "python",
   "name": "conda-root-py"
  },
  "language_info": {
   "codemirror_mode": {
    "name": "ipython",
    "version": 3
   },
   "file_extension": ".py",
   "mimetype": "text/x-python",
   "name": "python",
   "nbconvert_exporter": "python",
   "pygments_lexer": "ipython3",
   "version": "3.5.2"
  }
 },
 "nbformat": 4,
 "nbformat_minor": 0
}
